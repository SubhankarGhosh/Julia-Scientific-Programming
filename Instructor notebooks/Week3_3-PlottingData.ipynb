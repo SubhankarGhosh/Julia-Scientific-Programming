{
 "cells": [
  {
   "cell_type": "code",
   "execution_count": 1,
   "metadata": {},
   "outputs": [
    {
     "data": {
      "text/html": [
       "<link href='http://fonts.googleapis.com/css?family=Alegreya+Sans:100,300,400,500,700,800,900,100italic,300italic,400italic,500italic,700italic,800italic,900italic' rel='stylesheet' type='text/css'>\r\n",
       "<link href='http://fonts.googleapis.com/css?family=Arvo:400,700,400italic' rel='stylesheet' type='text/css'>\r\n",
       "<link href='http://fonts.googleapis.com/css?family=PT+Mono' rel='stylesheet' type='text/css'>\r\n",
       "<link href='http://fonts.googleapis.com/css?family=Shadows+Into+Light' rel='stylesheet' type='text/css'>\r\n",
       "<link href='http://fonts.googleapis.com/css?family=Philosopher:400,700,400italic,700italic' rel='stylesheet' type='text/css'>\r\n",
       "\r\n",
       "<style>\r\n",
       "\r\n",
       "@font-face {\r\n",
       "    font-family: \"Computer Modern\";\r\n",
       "    src: url('http://mirrors.ctan.org/fonts/cm-unicode/fonts/otf/cmunss.otf');\r\n",
       "}\r\n",
       "\r\n",
       "#notebook_panel { /* main background */\r\n",
       "    background: #ddd;\r\n",
       "    color: #000000;\r\n",
       "}\r\n",
       "\r\n",
       "\r\n",
       "\r\n",
       "/* Formatting for header cells */\r\n",
       ".text_cell_render h1 {\r\n",
       "    font-family: 'Philosopher', sans-serif;\r\n",
       "    font-weight: 400;\r\n",
       "    font-size: 2.2em;\r\n",
       "    line-height: 100%;\r\n",
       "    color: rgb(0, 80, 120);\r\n",
       "    margin-bottom: 0.1em;\r\n",
       "    margin-top: 0.1em;\r\n",
       "    display: block;\r\n",
       "}\t\r\n",
       ".text_cell_render h2 {\r\n",
       "    font-family: 'Philosopher', serif;\r\n",
       "    font-weight: 400;\r\n",
       "    font-size: 1.9em;\r\n",
       "    line-height: 100%;\r\n",
       "    color: rgb(200,100,0);\r\n",
       "    margin-bottom: 0.1em;\r\n",
       "    margin-top: 0.1em;\r\n",
       "    display: block;\r\n",
       "}\t\r\n",
       "\r\n",
       ".text_cell_render h3 {\r\n",
       "    font-family: 'Philosopher', serif;\r\n",
       "    margin-top:12px;\r\n",
       "    margin-bottom: 3px;\r\n",
       "    font-style: italic;\r\n",
       "    color: rgb(94,127,192);\r\n",
       "}\r\n",
       "\r\n",
       ".text_cell_render h4 {\r\n",
       "    font-family: 'Philosopher', serif;\r\n",
       "}\r\n",
       "\r\n",
       ".text_cell_render h5 {\r\n",
       "    font-family: 'Alegreya Sans', sans-serif;\r\n",
       "    font-weight: 300;\r\n",
       "    font-size: 16pt;\r\n",
       "    color: grey;\r\n",
       "    font-style: italic;\r\n",
       "    margin-bottom: .1em;\r\n",
       "    margin-top: 0.1em;\r\n",
       "    display: block;\r\n",
       "}\r\n",
       "\r\n",
       ".text_cell_render h6 {\r\n",
       "    font-family: 'PT Mono', sans-serif;\r\n",
       "    font-weight: 300;\r\n",
       "    font-size: 10pt;\r\n",
       "    color: grey;\r\n",
       "    margin-bottom: 1px;\r\n",
       "    margin-top: 1px;\r\n",
       "}\r\n",
       "\r\n",
       ".CodeMirror{\r\n",
       "        font-family: \"PT Mono\";\r\n",
       "        font-size: 100%;\r\n",
       "}\r\n",
       "\r\n",
       "</style>\r\n",
       "\r\n"
      ],
      "text/plain": [
       "HTML{String}(\"<link href='http://fonts.googleapis.com/css?family=Alegreya+Sans:100,300,400,500,700,800,900,100italic,300italic,400italic,500italic,700italic,800italic,900italic' rel='stylesheet' type='text/css'>\\r\\n<link href='http://fonts.googleapis.com/css?family=Arvo:400,700,400italic' rel='stylesheet' type='text/css'>\\r\\n<link href='http://fonts.googleapis.com/css?family=PT+Mono' rel='stylesheet' type='text/css'>\\r\\n<link href='http://fonts.googleapis.com/css?family=Shadows+Into+Light' rel='stylesheet' type='text/css'>\\r\\n<link href='http://fonts.googleapis.com/css?family=Philosopher:400,700,400italic,700italic' rel='stylesheet' type='text/css'>\\r\\n\\r\\n<style>\\r\\n\\r\\n@font-face {\\r\\n    font-family: \\\"Computer Modern\\\";\\r\\n    src: url('http://mirrors.ctan.org/fonts/cm-unicode/fonts/otf/cmunss.otf');\\r\\n}\\r\\n\\r\\n#notebook_panel { /* main background */\\r\\n    background: #ddd;\\r\\n    color: #000000;\\r\\n}\\r\\n\\r\\n\\r\\n\\r\\n/* Formatting for header cells */\\r\\n.text_cell_render h1 {\\r\\n    font-family: 'Philosopher', sans-serif;\\r\\n    font-weight: 400;\\r\\n    font-size: 2.2em;\\r\\n    line-height: 100%;\\r\\n    color: rgb(0, 80, 120);\\r\\n    margin-bottom: 0.1em;\\r\\n    margin-top: 0.1em;\\r\\n    display: block;\\r\\n}\\t\\r\\n.text_cell_render h2 {\\r\\n    font-family: 'Philosopher', serif;\\r\\n    font-weight: 400;\\r\\n    font-size: 1.9em;\\r\\n    line-height: 100%;\\r\\n    color: rgb(200,100,0);\\r\\n    margin-bottom: 0.1em;\\r\\n    margin-top: 0.1em;\\r\\n    display: block;\\r\\n}\\t\\r\\n\\r\\n.text_cell_render h3 {\\r\\n    font-family: 'Philosopher', serif;\\r\\n    margin-top:12px;\\r\\n    margin-bottom: 3px;\\r\\n    font-style: italic;\\r\\n    color: rgb(94,127,192);\\r\\n}\\r\\n\\r\\n.text_cell_render h4 {\\r\\n    font-family: 'Philosopher', serif;\\r\\n}\\r\\n\\r\\n.text_cell_render h5 {\\r\\n    font-family: 'Alegreya Sans', sans-serif;\\r\\n    font-weight: 300;\\r\\n    font-size: 16pt;\\r\\n    color: grey;\\r\\n    font-style: italic;\\r\\n    margin-bottom: .1em;\\r\\n    margin-top: 0.1em;\\r\\n    display: block;\\r\\n}\\r\\n\\r\\n.text_cell_render h6 {\\r\\n    font-family: 'PT Mono', sans-serif;\\r\\n    font-weight: 300;\\r\\n    font-size: 10pt;\\r\\n    color: grey;\\r\\n    margin-bottom: 1px;\\r\\n    margin-top: 1px;\\r\\n}\\r\\n\\r\\n.CodeMirror{\\r\\n        font-family: \\\"PT Mono\\\";\\r\\n        font-size: 100%;\\r\\n}\\r\\n\\r\\n</style>\\r\\n\\r\\n\")"
      ]
     },
     "execution_count": 1,
     "metadata": {},
     "output_type": "execute_result"
    }
   ],
   "source": [
    "# Setting up a custom stylesheet in IJulia\n",
    "# New in 0.6\n",
    "file = open(\"style.css\") # A .css file in the same folder as this notebook file\n",
    "styl = readstring(file) # Read the file\n",
    "HTML(\"$styl\") # Output as HTML"
   ]
  },
  {
   "cell_type": "markdown",
   "metadata": {},
   "source": [
    "<h1> Plotting data and an approximately fitted line simultaneously </h1>"
   ]
  },
  {
   "cell_type": "markdown",
   "metadata": {},
   "source": [
    "<h2>In this lecture</h2>\n",
    "\n",
    "- [Outcome](#Outcome)\n",
    "- [Julia's modify-the-argument functions](#Julia's-modify-the-argument-functions)\n",
    "- [The difference between plot() and plot!()](#The-difference-between-\"plot\"-and-\"plot!\")\n",
    "- [An example: approximating the cosine function](#An-example:-approximating-the-cosine-function)"
   ]
  },
  {
   "cell_type": "markdown",
   "metadata": {},
   "source": [
    "[Back to the top](#In-this-lecture)"
   ]
  },
  {
   "cell_type": "markdown",
   "metadata": {},
   "source": [
    "<h2>Outcome</h2>\n",
    "\n",
    "After this lecture, you will be able to\n",
    "- Explain how Julia's plot!() function differs from plot()\n",
    "- Use plot!() to overlay a fitted curve to a scatter of data\n",
    "- Modify the plot: adding labels, axis styles, line styles etc\n"
   ]
  },
  {
   "cell_type": "markdown",
   "metadata": {},
   "source": [
    "[Back to the top](#In-this-lecture)"
   ]
  },
  {
   "cell_type": "markdown",
   "metadata": {},
   "source": [
    "<h2>Julia's modify-the-argument functions</h2>\n",
    "\n",
    "A lovely feature of Julia is the convention of labelling modify-the-argument functions with an exclamation mark.\n",
    "\n",
    "For example, consider the function fill!(), illustrated below."
   ]
  },
  {
   "cell_type": "code",
   "execution_count": 3,
   "metadata": {},
   "outputs": [
    {
     "data": {
      "text/plain": [
       "4-element Array{Any,1}:\n",
       " \"hello ... word\"\n",
       " \"hello ... word\"\n",
       " \"hello ... word\"\n",
       " \"hello ... word\""
      ]
     },
     "execution_count": 3,
     "metadata": {},
     "output_type": "execute_result"
    }
   ],
   "source": [
    "# New in 0.6\n",
    "tempvar = Array{Any}(4)\n",
    "fill!(tempvar, \"hello ... word\")"
   ]
  },
  {
   "cell_type": "code",
   "execution_count": 4,
   "metadata": {},
   "outputs": [
    {
     "data": {
      "text/plain": [
       "4-element Array{Any,1}:\n",
       " 777\n",
       " 777\n",
       " 777\n",
       " 777"
      ]
     },
     "execution_count": 4,
     "metadata": {},
     "output_type": "execute_result"
    }
   ],
   "source": [
    "fill!(tempvar, 777)"
   ]
  },
  {
   "cell_type": "markdown",
   "metadata": {},
   "source": [
    "Let's just look at how the help system briefly, comparing these two functions and also looking at all functions starting with \"a\" and with \"b\" to see how many of the modify-in-place functions Julia has."
   ]
  },
  {
   "cell_type": "code",
   "execution_count": 5,
   "metadata": {},
   "outputs": [
    {
     "name": "stdout",
     "output_type": "stream",
     "text": [
      "search: \u001b[1mb\u001b[22min \u001b[1mb\u001b[22mig \u001b[1mb\u001b[22mits \u001b[1mb\u001b[22mind \u001b[1mb\u001b[22mfft \u001b[1mb\u001b[22meta \u001b[1mb\u001b[22mase \u001b[1mb\u001b[22mreak \u001b[1mb\u001b[22megin \u001b[1mB\u001b[22mool \u001b[1mb\u001b[22mswap \u001b[1mb\u001b[22mrfft \u001b[1mb\u001b[22mfft! \u001b[1mB\u001b[22mase\n",
      "\n",
      "Couldn't find \u001b[36mb\n",
      "\u001b[39mPerhaps you meant !, $, %, &, *, +, -, /, :, <, >, I, \\, ^, e, |, ~, ×, ÷ or γ\n"
     ]
    },
    {
     "data": {
      "text/markdown": [
       "No documentation found.\n",
       "\n",
       "Binding `b` does not exist.\n"
      ],
      "text/plain": [
       "No documentation found.\n",
       "\n",
       "Binding `b` does not exist.\n"
      ]
     },
     "execution_count": 5,
     "metadata": {},
     "output_type": "execute_result"
    }
   ],
   "source": [
    "?b"
   ]
  },
  {
   "cell_type": "markdown",
   "metadata": {},
   "source": [
    "We see that quite a few functions have a plain form and an exclamation form. And many of the exclamation-ending-modify-in-place functions do things like add or remove values. They tend to be low level functions. The advantage of course is that as values are created they are written to space in memory that is already in use. This can speed up one's code significantly, and can also be important when your data sets are so large that memory efficiency becomes an issue."
   ]
  },
  {
   "cell_type": "markdown",
   "metadata": {},
   "source": [
    "[Back to the top](#In-this-lecture)"
   ]
  },
  {
   "cell_type": "markdown",
   "metadata": {},
   "source": [
    "<h2>The difference between \"plot\" and \"plot!\"</h2>\n",
    "\n",
    "As we remarked, Plots is a package for using all the Julia plotting packages. The designer of Plots made the interesting choice (I think) to have only one active plot: if you want to make a different plot, you save your current plot and start on a new one. This simplifies the display of a plot. In our case, the notebook allows us to view different plots, because each plot is saved with its particular cell. In keeping with the idea of Plots, you cannot associate more than one plot with a cell.\n",
    "\n",
    "So in general, if you call plot() a second time, it wipes out the old plot and draws a completely new one. But Plots *also* doesn't allow you to specify multiple different x-values for your plot. You can plot many different curves, as we did for the different countries' Ebola numbers (week 2, lecture 5), but only if they all use the same x-values.\n",
    "\n",
    "To enable us to plot completely different curves, not only in style and colour and so on but also completely different x- and y-values, Plots gives us a function that modifies an existing plot. This function is plot!().\n",
    "\n",
    "So the idea is the following: specify a plot for the first set of data using \"plot()\", and then specify, on the same plot, a second set of data by using \"plot!\""
   ]
  },
  {
   "cell_type": "markdown",
   "metadata": {},
   "source": [
    "[Back to the top](#In-this-lecture)"
   ]
  },
  {
   "cell_type": "markdown",
   "metadata": {},
   "source": [
    "<h2>An example: approximating the cosine function</h2>\n",
    "\n",
    "An example will make this clear. It is well known that the cosine function has approximations based on  Taylor series. We will use the fact that \n",
    "\n",
    "$cos(x) \\approx 1 - \\dfrac{x^2}{2} + \\dfrac{x^4}{24} - \\dfrac{x^6}{720}$\n",
    "\n",
    "is an excellent approximation as long as $x$ is near zero. We will pretend the approximate values are experimental data, so there are just a few points. Then we compare the actual function as a curve, and compare them.\n",
    "\n",
    "While we're at it, let's practice writing functions. We will write a function that takes a whole vector as input, and one by one evaluates the elements using the approximation formula, and then returns an output vector of the same size as the input."
   ]
  },
  {
   "cell_type": "code",
   "execution_count": 8,
   "metadata": {},
   "outputs": [
    {
     "data": {
      "text/plain": [
       "200-element Array{Float64,1}:\n",
       " 1.0     \n",
       " 0.999546\n",
       " 0.998182\n",
       " 0.995912\n",
       " 0.992736\n",
       " 0.988658\n",
       " 0.983681\n",
       " 0.97781 \n",
       " 0.971051\n",
       " 0.963408\n",
       " 0.95489 \n",
       " 0.945504\n",
       " 0.935258\n",
       " ⋮       \n",
       " 0.816864\n",
       " 0.833882\n",
       " 0.850142\n",
       " 0.865629\n",
       " 0.880329\n",
       " 0.894229\n",
       " 0.907317\n",
       " 0.919579\n",
       " 0.931006\n",
       " 0.941586\n",
       " 0.951311\n",
       " 0.96017 "
      ]
     },
     "execution_count": 8,
     "metadata": {},
     "output_type": "execute_result"
    }
   ],
   "source": [
    "# New in 0.6\n",
    "function approxcos(x)\n",
    "    #initialise the output ... note the use of size() to specify the dimensions of the output vector\n",
    "    outval = Array{Any}(size(x))  \n",
    "    \n",
    "    # now we loop over the input vector, and for each  element calculate and store the approximation\n",
    "    ii = 0  # this will be the index into the vector\n",
    "    for aa in x   # this aa is just a number, an element of the vector\n",
    "        y = 1 - aa^2/2 + aa^4/24 - aa^6/720 + aa^8/(56*720) # the approximation ...\n",
    "        ii = ii+1            #this sets the index correctly\n",
    "        outval[ii] = y     # and this stores the approximation in the right place\n",
    "    \n",
    "    end\n",
    "    \n",
    "    return outval  \n",
    "end\n",
    "\n",
    "\n",
    "\n",
    "\n",
    "x1 = 6rand(10)  # rand() is one of several random number functions in Julia. It returns numbers that uniformly fill the interval [0, 1]\n",
    "#                   .... here we use it get a set of sampling points in the interval [0, 4]\n",
    "\n",
    "x2 = linspace(0, 6, 200)   # look up linspace() using \"?\" ... it's a nice way to get evenly spaced points\n",
    "\n",
    "\n",
    "y1 = approxcos(x1)\n",
    "y2 = cos.(x2)\n"
   ]
  },
  {
   "cell_type": "code",
   "execution_count": 9,
   "metadata": {},
   "outputs": [
    {
     "data": {
      "text/html": [
       "<img src=\"data:image/png;base64,iVBORw0KGgoAAAANSUhEUgAAAlgAAAGQCAYAAAByNR6YAAAABHNCSVQICAgIfAhkiAAAAAlwSFlzAAAPYQAAD2EBqD+naQAAIABJREFUeJzt3Xl4VNXh//HPZJuEJYksQZZA2MK+l0WRfZNFhcQNWwtItdWK2kpr/VkhtBRckG8Rq21dqLUVt0RkcWMREC0UBBTCvgTCDgaSsCQk5Pz+OJ2EMUMgyYXJwPv1PPch3HvnzpnlzHzmnHPPdRljjFDhJSUladKkSfriiy/Uu3fvwvUul0u9evXS0qVL/VY2f4mLi5MkpaWl+bUcl8vo0aP15ptvavfu3YWPNVBcy+/LiiiQXo+0tDQ1bNhQo0aN0j/+8Q9/FwcosyB/FwDe0tLS5HK5dPPNN/u7KMUsXbpULpdLSUlJV+T+Ro8eLZfLFXABKjs7WxMnTlTr1q1VqVIlRUdHq2PHjpo0aZLXflf6+QQqiri4uID50UA9RVmF+LsAQFktXrzY30UoZu/everbt6927dql/v37a+jQocrNzdWOHTuUnJysiRMn+ruIuAZt3rxZlSpV8ncxLkndunW1efNmRUVF+bsoQLkQsBCwGjdu7O8ieMnPz1diYqIOHDigxYsXq0+fPsW2A/7QvHlzfxfhkoWGhgZUeYELoYvwKtS7d2+5XC6f23x1uxUUFOi1115Tly5dVK1aNUVERKhevXq65ZZbCsdsJCUlFQaGSZMmyeVyFS6eY3mOvWvXLr3wwgtq2bKl3G63Ro8eLUk6cOCAJk6cqG7duikmJkZut1txcXF66KGHdOTIEa9yxsXF6c0335QkNWzYsPC+zh9/5qubISkpSS6XS0uXLtXbb7+t9u3bKyIiQrVr19ajjz6qM2fOFHtO8vPzNXXqVDVu3Fjh4eFq0qSJpk6dql27dsnlchWW/2I++OADrVmzRuPHjy8WriQpJKTo98ylPJ8exhi9+OKLat68udxutxo0aKBJkyapoKDgksp1vlmzZqlr166qUqWKqlSpoq5du/oc53J+t8jXX3+tgQMHKjo6utj76rXXXlPr1q0VHh6u2NhY/fa3v1VOTs4F79/TfdqqVStFREQoOjpagwYN0ooVK4rt63kf5+Tk6Pe//70aN26s0NDQi3bVZGZm6tlnn1WvXr1Up04dhYWFqU6dOvrpT3+qnTt3Ftv//PfM66+/rjZt2ig8PFx169bVr371K2VnZ3vt7+nGHz16tFJTUzV06FBFR0erSpUqGjhwoL755psyPZZjx47pscceU8OGDeV2uxUTE6M777xTGzdu9DrWjh07VLVqVdWrV0/ff//9JW37Yd2RvOvrtGnTFB8fr4iICLVs2VLvvPOOJOns2bN66qmnFBcXp/DwcLVt21affPJJscf3zTff6OGHH1br1q0VFRWliIgItWnTRs8884zy8vKKPXd79uzRnj17vN73nufi/Of3h/bs2aOxY8eqbt26CgsLU7169TR27Fjt3bv3gs95Xl6ekpKSFBcXJ7fbrfj4eL388svF9vflUuvppb52l+Kjjz7SwIEDVb16dYWHhysuLk733ntvsWOV5j4zMzM1YcIEtWzZUlWqVFFkZKSaNGmiUaNGac+ePaUuIy4NLVjQk08+qeeee06NGzfWPffco6pVq2r//v1asWKFFi1apN69e6t3795KS0vTm2++qV69enl9WEdHR3sdb9y4cVq5cqWGDh2qW265RTExMZKk5cuX64UXXlC/fv3UtWtXhYaGat26dXrllVf02Wefae3atYXdAo899pj+8Y9/6Ntvv9Wjjz5aeB+XOm7jpZde0qeffqrbbrtNffv21aeffqoXX3xRx44d07///W+vfe+77z699dZbatSokX75y18qNzdX//d//6f//Oc/pXoe3333XUnSHXfcofT0dC1YsEAnTpxQ48aNNXjwYFWpUqVw39I8n7/5zW+0bNkyDRs2TIMGDdKcOXOUlJSks2fP6k9/+tMll++RRx7RzJkzVbduXY0dO1aSlJycrDFjxmjdunWaMWNGsdt8/fXXmjJlivr06aMHHnjA64vsj3/8oyZMmKBatWrp/vvvV2hoqN59911t3rzZ5/1nZGSoZ8+eSk1NVffu3fWLX/xCWVlZ+uijj9SnTx+9//77Gj58eLHbJSYm6ttvv9XNN9+s6OhoNWzYsMTHuXnzZk2YMEF9+vTRiBEjVLlyZW3ZskVvv/22FixYoLVr16pBgwbFbjd9+nQtXrxYd911l4YOHapFixbpz3/+s1auXKnly5crNDTUa/9du3ape/fu6tixox588EHt2bNH77//vnr27KklS5aoa9eul/xYjh49qhtuuEE7d+5U7969dffdd2v37t364IMPtGDBAn322We66aabJElNmjTRzJkzNWbMGP3sZz/Thx9+KEnKy8vTyJEjdfr0ac2dO1fVq1cv8Xny+PWvf61Vq1bplltuUXBwsN555x3dc889uu666zRz5kxt2rRJQ4cOVU5Ojt5++23ddttt2rx5s1cL8quvvqp58+apZ8+eGjJkiE6fPq2lS5fqySef1OrVq5WcnCzJvrcnTpyoP//5z5JsPff4YQD8oW3btummm27S0aNHdcstt6hVq1bauHGj3njjDc2bN08rVqxQfHx8sduNHDlS//3vfzV48GAFBwfrvffe0y9/+UuFhobq/vvvL/E+L6Welua1u5jHH39c06dPV7Vq1TR8+HDFxMQoPT1dixYtUqdOndS6detS36cxRoMGDdKqVavUvXt33XzzzQoKCtKePXs0d+5c3XvvvT7rAxxgUKHs3r3bSDKDBg3yWj9x4kQjyXzxxRde6yWZXr16ea3r1auXudBLO2rUKCPJ7N69u3BdtWrVTJ06dcypU6eK7f/9998X/v3FF18YSWbixIklHrtevXpmz549xbYfPnzYZGdnF1v/5ptvGklm8uTJFy3r+Ro0aGAaNGjgtc7zPEVFRZktW7YUrj99+rSJj483QUFBZv/+/YXrFy1aZCSZ9u3bez3+AwcOmFq1ahlJZtSoUT7v/4diY2ONJPPSSy8Zt9ttJBUuNWvWLPbaXerz2bBhQ3PgwIHC9UePHjXR0dGmatWqJjc395LKtmzZMiPJtGjRwpw4caJwfUZGhomPjzeSzPLly4uVTZJ54403ih1v+/btJiQkxNStW9ccPny4cH1mZqZp1qyZz/flPffcYySZV1991Wv94cOHTWxsrKlZs6Y5c+ZM4XrP+7h9+/Ze78OLOXHihM/9lyxZYoKCgszPfvYzr/We90xYWJj59ttvC9cXFBQUlnnatGmF6z11VJL53e9+53WsTz/91Egybdq08Vp/sccyZswYI8k8+eSTXusXLFhgJJkmTZqYc+fOeW27++67jSTz8ssvG2OM+c1vfuPzGMb4/pzwvL/i4+PNkSNHCtevWrXKSDLR0dHmpptuMidPnizc9u677xpJZty4cV7H2rNnj8nPz/daV1BQYO677z4jyaxYscJrm6+66+F5fn9Y7/r06WMkmb/97W9e6//yl78YSaZv375e6z3PedeuXU1mZmbh+i1btpiQkBDTrFkzn/f/Qxerp2V57XyZN29e4Xvn2LFjXtvy8vLMoUOHynSf3333nZFkhg8fXuw+c3JyfH4mwxkErArGXwErLi7O5OTklFi2Sw0EM2bMKPE4P1RQUGAiIyNN7969L1rW85UUsCZMmFBsf8+2uXPnFq4bPXq0kWRSUlKK7T9lypRSBSxPqAoODjZPPPGESU9PN0ePHjUvvviiCQsLM1FRUV5B6VKfT18Bx7Ptu+++u6Syeb7o3n333WLb/v3vfxtJ5r777itWto4dO/o83qRJk4wk88ILLxTb9tZbbxV7Xx49etQEBwcX+xL0ePHFF40kM2/evMJ1nvfxRx99dEmP8VK0adPGxMXFea3zvC9+GLyMMSYtLc0EBweb1q1bF67z1NHo6GifX079+vUzksyaNWsu6bHk5uaa8PBwU716dZ8/cgYMGFAsABtjg2RcXJyJiIgwL774onG5XKZLly4mLy+v2DFKClhvvvlmsf0bNWpkJJlly5Z5rc/PzzehoaGmZ8+exW7jyzfffGMkmaSkJK/1pQ1Ye/bsMZJMy5YtTUFBgdf+586dM82bNzeSzN69ewvXe57zJUuWFLsPz7asrKyLPoaS6mlZXztfBg8efMHyluc+PQFr5MiRFy0DnMUYLOjuu+9WWlqaWrduraefflpLlizxOVbpUnXp0uWC21JSUjRo0CDVrFlTISEhcrlcCgoKUlZWlg4cOFDm+/yhTp06FVtXr149SdKJEycK13377beS5LMJv3v37qW6T8+YqGHDhumZZ55RvXr1VKNGDY0bN06PPfaYMjMz9frrr5fqmNKlPZYTJ04oKSmp2OKxbt06Sb67YTxjTNavX19sW+fOnX2WyfO89ejRo9g2X+tWr16tc+fOKTc312c5V65cKUnasmVLsduW9H66kKVLl2r48OGqXbu2QkNDC8fNbNiw4YLvM1/lbtCggWJjY5WamqqzZ896bevQoYNXt+8Pj+N5zi/2WLZs2aKcnBx16dLF55l+F3p9oqKi9O9//1tnz57VI488oipVqujtt9/2Gut3Kdq3b19sXe3atX1uCw4OVkxMTLHn8OzZs5o+fbq6dOmiyMhIBQUFyeVyFb53y1u3PY+9V69excYBBgUFqWfPnl77ne9SPwvKoqyvnS///e9/5Xa71atXL0fvs0WLFmrbtq1mz56tnj17avr06Vq7dm2ZxnCidBiDBc2YMUMNGzbUrFmzNHnyZE2ePFnh4eG688479cILL6hGjRqlOl6tWrV8rn/hhRc0fvx41axZUwMHDlS9evUUEREhSfrzn/+s3Nzccj8Wj8jIyGLrPF88586dK1yXlZWloKAgn4/xQo/jQqKionTs2DHdeuutxbbdeuuteu6557RmzZpSHVO6tMdy4sSJYvNsSSoMWZ7HWbNmzWL71KpVSy6XS1lZWT63+ZKZmSlJhePrLnabjIwMSdJXX32lr776yucxJenUqVOXXIYLef/993XXXXepSpUqGjRokOLi4lSpUiW5XC794x//uOCg3gvdT61atZSWlqbs7GyvcU0l7S8VPUcXuw/P836h43nCjq/Xp2PHjmrQoIF27dqlwYMHl+nM2pLeXxfadv7AdUm6/fbbNW/ePMXHx+uuu+5STEyMQkNDdeLECc2YMaPcdbs8z9GlfhZc6XL9UGZmpurWraugoJLbPUp7nyEhIVqyZImSkpKUnJysxx9/XJJUs2ZNPfzww3rqqacUHBx80fKh9AhYVyFPBc3Pzy/2a9bXh35ISIjGjx+v8ePH68CBA1q2bJlmzZqlf/7znzp06JA+++yzUt2/rzMY8/Pz9cc//lG1a9fW+vXrvb6YjTF67rnnSnUfTomMjFRBQYGOHTtWLHwcPny4VMdq1qyZjh07VmyQulQ0ILY8LYMliYuLkynhogyex3n06NFioejIkSMyxvj8IrrQ2aiekxGOHDlSbICsr+fNc+zHH39c06ZNK/nBXGIZLiQpKUnh4eH65ptv1LRpU69tnrPjfLnQ63348GG5XC5VrVr1kveX5HMeJ1+PxfPcXOh4hw4d8trvfL/5zW+0a9cuVa9eXe+9955GjRqlIUOG+DzO5bJ69WrNmzdPgwYN0oIFC7y+rFeuXOnz5InSKs9zdDk5Wa7o6GgdOnRIBQUFJYasstxn9erVNXPmTL344ovasmWLlixZopkzZ2rixIkKDQ3Vk08+edHyofToIrwKXXfddZKk/fv3e60vKCgo7Nq5kDp16mjkyJH69NNP1aRJEy1atKgwFHg+OMvyq+/YsWPKzMzUDTfcUOwLfs2aNT6DR3nu71K1a9dOkny2qnz99delOlbfvn0lSZs2bSq2zbPu/LMgr8Tj8+jQoYMk+bxUimedr66iC/E8b19++WWxbb7Wde7cWS6Xq9RnZpbFzp071aJFi2Lh6uDBg9q1a9cFb+er3Hv27FF6erpatWqlsLAwr23r1q3TyZMnL3gcz3N+Mc2bN1d4eLhWr16t06dPF9t+oddnwYIFeumll9SrVy+tWbNG1113ncaMGVPqHwbl5Zn6YujQocVaQnw9p5J975fmfe957MuXLy/2Q8IYo+XLl3vt56SS6mlZXztfunTpotzcXC1btqzE/cpzny6XSy1atNAvf/lLLVy4UJI0d+7ci5YNZUPAugp5xs38cH6j6dOna/fu3V7rcnNzfQaJU6dO6eTJkwoNDS38NVWtWjVJUnp6eqnLFBMTo4iICK1du9brQ+H48eMaN26cz9uU5/4u1Y9//GNJ0h/+8AevkHfo0KFS//IeM2aM3G63Zs6c6RVus7OzNWXKFEnSnXfeWbj+Sjw+j1GjRkmyc/mc312RmZlZ2LXo2edS3HPPPQoODtb06dO95jDLysrS5MmTi+1//fXX684779TXX3+t559/3mdr26pVq3x+YZRWgwYNtGPHDq+gkZOTowcffLBY19b5/vnPf+q7774r/L8xRv/v//0/nTt3zuecTCdOnCg2TcZnn32mxYsXq3Xr1j7H/vgSFhamkSNH6tixY5o6darXtk8//VSfffaZmjRp4jUm8NChQxozZoyuu+46/etf/1JcXJz+/ve/68iRIxo1alSJrZlO87Rg/nAus9TU1GKPx6NatWo6duxYiXOmna9+/frq06ePUlNT9cYbb3ht+/vf/67Nmzerb9++io2NLcMjKFlJ9bQsr92F/PKXv5QkPfroo4Vd6h75+fmF7+fS3mdaWprPy415jhceHn7RsqFs6CK8Co0ZM0bPPfeckpKStH79ejVu3Fhr1qxRamqqevXq5fUL6cyZM+revbvi4+PVqVMn1a9fXydPntT8+fN16NAhjR8/Xm63W5L95VSnTh298847crvdqlevnlwul8aNG3fRy1oEBQXpoYce0gsvvKB27drplltuUVZWlj755BM1aNBAderUKXabvn37atq0aXrggQeUmJioypUrq0GDBrr33nsde6769++ve+65R2+//bbatGmj4cOHKzc3V++99566du2qefPmXXRMhEfDhg31/PPP65FHHlG7du00YsQIud1uLViwQGlpafr5z3+ufv36Fe5fnueztHr27Klx48Zp5syZat26tRITE2WMUXJysvbt26dHHnmkcKDwpWjSpIkmTJigiRMnqm3btrrzzjsVEhKi5ORktW3bVlu3bi12m5dffllbt27Vb3/7W7311lu64YYbFB0drfT0dK1Zs0bbt2/XwYMHy31Jl3HjxmncuHHq0KGDbr/9duXn52vhwoUyxqhdu3YXbMUdNGiQbrjhBt19992qWbOmFi9erDVr1qhbt24+fwT06NFDr7zyilatWqVu3bopLS1N77//viIiIvTaa6+VqszPPvusli1bpsmTJ+vrr79W165dC49XqVIlzZo1q/B9aIzRT3/6Ux09elQffPBB4YDt22+/XWPHjtXrr7+u6dOnF461udy6dOmiLl266L333tPBgwfVrVs37d27V3PnztXQoUP1wQcfFLtN3759tWbNGg0ePFg9evRQWFiYevbsWeJ78JVXXtFNN92k+++/X/PmzVPLli2VmpqquXPnqmbNmnrllVcuy+O7WD0tzWtXkiFDhmj8+PGaNm2amjZtqhEjRigmJkb79+/X4sWLNX78+MJ5w0pzn+vXr1dCQoK6dOmili1b6vrrr9f+/fs1Z84cBQUF6Ve/+tVled4g5sGqaJyYpsEYY9avX2/69etnKlWqZCIjI81tt91mduzYUWzqg7Nnz5pnn33WDBw40NSrV8+EhYWZWrVqmZ49e5q333672CnRK1euNL169TJVq1YtnAvIc6yLTatw9uxZ86c//ck0bdrUuN1uU79+ffP444+b7OzsC562/dxzz5mmTZua0NDQYo+1pGkafvg8GWPMrFmzjCQza9Ysr/V5eXnmj3/8o2nYsKEJCwszjRo1MlOmTCmcD+jRRx/1+XguZO7cuaZHjx6mSpUqJjw83HTq1KnY3E8eZX0+S3qcJXnjjTdM586dTaVKlUylSpVM586dfU4DcbEpJDxeffVV07JlSxMWFmbq1atnxo8fb06fPn3B9+Xp06fNc889Zzp16mQqV65sIiIiTMOGDc3w4cPNP//5T68pBkqabqQkBQUF5q9//atp1aqVCQ8PN9dff70ZO3asOXLkiM9jnv9cvvrqq6ZVq1bG7Xab2rVrm0cffbTYqfznTyOwceNGM2TIEBMZGWkqV65s+vfv7zU9Q2key9GjR80jjzxiGjRoYEJDQ02NGjXM7bffbjZs2OC13/PPP3/BaSVOnjxp4uPjTVhYmFm7dm3hel+vR0nvr5LK66veHTlyxNx3332mTp06Jjw83LRp08b85S9/Mbt27fI51Ul2dra5//77Te3atU1wcLDXe+1C82AZY6fNGDNmjKldu7YJCQkxtWvXNmPGjDFpaWmlegwX+6z6oZLqqTGX/tpdiuTkZNOnTx8TFRVl3G63iYuLM/fee6/ZuHGj136Xep/p6enmd7/7nenWrZuJiYkxYWFhpn79+iYhIcH85z//KXX5cOlcxlzBtmQggLz22mu6//779fLLL+vBBx/0d3FwmSQlJWnSpEn64osvLjqbuGS7XBo2bKhRo0b5vMwQAEiMwQJ06NChYmNW9u/fr8mTJys4OFjDhg3zU8kAAIGKMVi45j3zzDNasGCBevTooZiYGO3du1fz589Xdna2kpKSLsvAWQDA1Y2AhWvezTffrE2bNmnBggU6fvy4wsPD1bZtWz300EO65557/F08AEAAYgwWAACAwxiDBQAA4DACFgAAgMMIWAAAAA4r9yD3goICHThwQFWrVi31RVkBAAACnTFG2dnZqlOnTuEs+uUOWAcOHOA0dgAAcM1LT08vvHxVuQNW1apVCw8aGRlZ5uNkZGQUXlQTgP9QF4GKg/oYGLKyshQbG1uYiSQHApanWzAyMrJcASs/P79ctwfgDOoiUHFQHwPL+UOlGOQOAADgMAIWAACAwwhYAAAADiNgAQAAOIyABQAAKrSUlBS169BJEZUqq12HTkpJSfF3kS6KgAUAACqslJQUJSYmakNedeUMS9KGvOpKTEys8CHLZYwx5TlAVlaWoqKilJmZyTxYwFWAughUHNRHqV2HTtqQV13mkfmSyyUZI9eMoWrrPq71a9f4u3iSfGchWrAAAECFtW3rFpmWA2y4kiSXS6bVQG3dstm/BbsIAhYAAKiw4ps1l2vTQsnT4WaMXKmfq1mLFv4t2EWUeyZ3AACAy2Xi008pMTFRrhlDZVoNlCv1c5lNizSxgo/BogULAABUWAkJCUpOTlZb93GFz09SW/dxpaSkaMSIEf4uWolowQIAABVaQkKCEhIS/F2MUqEFCwAAwGEELAAAAIcRsAAAABxGwAIAAHAYAQsAAMBhBCwAAACHEbAAAAAcRsACAABwGAELAADAYQQsAAAAhxGwAAAAHEbAAgAAcBgBCwAAwGEELAAAAIcRsAAAABxGwAIAAHAYAQsAAMBhBCwAAACHEbAAAAAcRsACAABwGAELAADAYQQsAAAAhxGwAAAAHEbAAgAAcBgBCwAAwGEELAAAAIcRsAAAABxGwAIAAHAYAQsAAMBhBCwAAOB3KSkpatehkyIqVVa7Dp2UkpLi7yKVCwELAAD4VUpKihITE7Uhr7pyhiVpQ151JSYmBnTIchljTHkOkJWVpaioKGVmZioyMrLMx8nIyFC1atXKUxQADqAuAhXHtVIf23XopA151WUemS+5XJIxcs0Yqrbu41q/do2/i3dRvrIQLVgAAMCvtm3dItNygA1XkuRyybQaqK1bNvu3YOVAwAIAAH4V36y5XJsWSp5ONWPkSv1czVq08G/ByiHE3wUAAADXtolPP6XExES5ZgyVaTVQrtTPZTYt0sQAHoNFCxYAAPCrhIQEJScnq637uMLnJ6mt+7hSUlI0YsQIfxetzGjBAgAAfpeQkKCEhAR/F8MxtGABAAA4jIAFAADgsMKA9fHHH6tjx45q3769WrdurTfffNOf5QIAAAhYIZJkjNFPfvITLV26VG3btlVaWpqaN2+uhIQEVa1a1d9lBAAACCiFLVgul0snTpyQZGckrV69utxut98KBgAAEKhCJBuu3n33XSUkJKhy5co6ftyeHhkWFlbsBrm5ucrNzS38f1ZW1pUrLQAAQAAIkaT8/HxNnjxZKSkp6tmzp1avXq1bb71VGzZsUI0aNbxuMHXqVE2aNKnYgTIyMpSfn1/mghw/frzMtwXgHOoiUHFQHwODr8YmlzHGrFmzRvfcc4+2bdtWuKFz586aMmWKBgwY4HUDXy1YsbGxXOwZuEpQF4GKg/oYGHxd7DlEkmJjY3Xw4EFt3rxZLVq00I4dO7Rz5041a9as2EHcbjdjswAAAEoQIkm1atXS3//+d915550KCgpSQUGBXnrpJdWvX9/f5QMAAAg4hZfKGTlypEaOHOnPsgAAAFwVmMkdAADAYQQsAAAAhxGwAAAAHEbAAgAAcBgBCwAAwGEELAAAAIcRsAAAABxGwAIAAHAYAQsAAMBhBCwAAACHEbAAAAAcRsACAABwGAELAADAYQQsAAAAhxGwAAAAHEbAAgAAcBgBCwAAwGEELAAAAIcRsAAAABxGwAIAAHAYAQsAAMBhBCwAAACHEbAAAAAcRsACAABwGAELAADAYQQsAAAAhxGwAAAAHEbAAgAAcBgBCwAAwGEELAAAAIcRsAAAABxGwAIAAHAYAQsAAMBhBCwAAACHEbAAAAAcRsACAABwGAELAADAYQQsAAAAhxGwAAAAHEbAAgAAcBgBCwAAwGEELAAAAIcRsAAAABxGwAIAAHAYAQsAAMBhBCwAAACHEbAAAAAcRsACAABwGAELAADAYQQsAAAAhxGwAAAAHEbAAgAAcBgBCwAAwGEELAAAAIcRsAAAABxWGLByc3P18MMPq2nTpmrTpo1+8pOf+LNcAAC7Yy1hAAAgAElEQVQAASvE88fvfvc7uVwubdu2TS6XS4cOHfJnuQAAAAJWiCSdOnVKr7/+uvbt2yeXyyVJuv766/1aMAAAgEAVJEk7d+5UtWrVNGXKFP3oRz9Sjx49tHjxYp83yM3NVVZWltcCAACAIiGSlJ+frz179qhly5Z65plntG7dOg0YMECpqamqVauW1w2mTp2qSZMmFTtQRkaG8vPzy1yQ48ePl/m2AJxDXQQqDupjYPDV2OQyxphjx46pVq1aOnv2rIKDgyVJnTt31tSpU9W/f3+vG+Tm5io3N9froLGxscrMzFRkZGSZC5eRkaFq1aqV+fYAnEFdBCoO6mNgyMrKUlRUlFcWCpKkGjVqqF+/fvrss88kSbt379bu3bvVokWLYgdxu92KjIz0WgAAAFCk8CzCv/71rxo7dqyeeOIJBQUF6W9/+5vq1q3rz7IBAAAEpMKA1ahRI33xxRf+LAsAAMBVgZncAQAAHEbAAgAAcBgBCwAAwGEELAAAAIcRsAAAABxGwAIAAHAYAQsAAMBhBCwAAACHEbAAAAAcRsACAABwGAELAADAYQQsAAAAhxGwAAAAHEbAAgAAcBgBCwAAwGEELAAAAIcRsAAAABxGwAIAAHAYAQsAAMBhBCwAAACHEbAAAAAcRsACAABwGAELAADAYQQsAAAAhxGwAAAAHEbAAgAAcBgBCwAAwGEELAAAAIcRsAAAABxGwAIAAHAYAQsAAMBhBCwAAACHEbAAAAAcRsACAABwGAELAADAYQQsAAAAhxGwAAAAHEbAAgAAcBgBCwAAwGEELAAAAIcRsAAAABxGwAIAAHAYAQsAAMBhBCwAAACHEbAAAAAcRsACAABwGAELAADAYQQsAAAAhxGwAAAAHEbAAgAAcBgBCwAAwGEELAAAAIcRsAAAABxGwAIAAHAYAQsAAMBhxQLWrFmz5HK5NGfOHH+UBwAAIOB5Bay0tDS9+uqr6tatm7/KAwAAEPAKA1ZBQYF+9rOfaebMmXK73f4sEwAAQEAL8fwxffp0de/eXZ06dSrxBrm5ucrNzS38f1ZW1uUrHQAAQAAKkaSNGzcqOTlZy5cvv+gNpk6dqkmTJhVbn5GRofz8/DIX5Pjx42W+LQDnUBeBioP6GBh8NTaFSNKXX36ptLQ0NW3aVJJ06NAhPfDAAzp48KAefPBBrxs8+eST+vWvf+110NjYWFWrVk2RkZHlKmC1atXKdXsAzqAuAhUH9bHiCwkJKb5Okh588EGvINW7d2899thjGj58eLEbuN1uxmgBAACUgHmwAAAAHFa8TUvS0qVLr3AxAAAArh60YAEAADiMgAUAAOAwAhYAAIDDCFgAAAAOI2ABAAA4jIAFAADgMAIWAACAwwhYAAAADiNgAQAAOIyABQAA4DACFgAAgMMIWAAAAA4jYAEAADiMgAUAAOAwAhYAAIDDCFgAAAAOI2ABAAA4jIAFAADgMAIWAACAwwhYAAAADiNgAQAAOIyABQAA4DACFgAAgMMIWAAAAA4jYAEAADiMgAUAAOAwAhYAAIDDCFgAAAAOI2ABAAA4jIAFAADgMAIWAACAwwhYAAAADiNgAQAAOIyABQAA4DACFgAAgMMIWAAAAA4jYAEAADiMgAUAAOAwAhYAAIDDCFgAAAAOI2ABAAA4jIAFAADgMAIWAACAwwhYAAAADiNgAQAAOIyABQAA4DACFgAAfpaSkqJ2HTopolJltevQSSkpKf4uEsqJgAUAgB+lpKQoMTFRG/KqK2dYkjbkVVdiYiIhK8C5jDGmPAfIyspSVFSUMjMzFRkZWebjZGRkqFq1auUpCgAHUBeBK6tdh07akFdd5pH5ksslGSPXjKFq6z6uJYs+pz4GAF9ZiBYsAAD8aNvWLTItB9hwJUkul0yrgdq6ZbN/C4ZyIWABAOBH8c2ay7VpoeTpUDJGrtTP1axFC/8WDOUS4u8CAABwLZv49FNKTEyUa8ZQmVYD5Ur9XGbTIk1kDFZAowULAAA/SkhIUHJystq6jyt8fpLauo8rJSVFI0aM8HfRUA60YAEA4GcJCQlKSEjwdzHgIFqwAAAAHBYkSTk5ORo+fLji4+PVrl07DRgwQDt27PB32QAAAAJSYQvWAw88oK1bt+rbb7/Vbbfdpp/97Gf+LBcAAEDACpKk8PBwDRkyRK7/zcHRrVs3paWl+bNcAAAAAcvnIPcZM2botttu83mD3Nxc5ebmFv4/Kyvr8pQMAAAgQBULWFOmTNGOHTu0ePFinzeYOnWqJk2aVGx9RkaG8vPzy1yQ48ePl/m2AJxDXQQqDupjYPDV2OR1LcJp06bpnXfe0aJFixQdHe3zIL5asGJjY7kWIXCVoC4CFQf1MTD4uhZhYQvW9OnTNXv27BLDlSS53W653e7LX1oAAIAAFSJJ+/bt0+OPP65GjRqpT58+kmyQWrVqlV8LBwAAEIhCJKlevXo6r6cQAAAA5cBM7gAAAA4jYAEAADiMgAUAAOAwAhYAAIDDCFgAAAAOI2ABAAA4jIAFAADgMAIWAACAwwhYAAAADiNgAQAAOIyABQAA4DACFgAAgMMIWAAAAA4jYAEAADiMgAUAAOAwAhYAAIDDCFgAAAAOI2ABAHARKSkpatehkyIqVVa7Dp2UkpLi7yKhgiNgAQBQgpSUFCUmJmpDXnXlDEvShrzqSkxMJGShRC5jjCnPAbKyshQVFaXMzExFRkaW+TgZGRmqVq1aeYoCwAHURcBbuw6dtCGvuswj8yWXSzJGrhlD1dZ9XOvXrrms9019DAy+shAtWAAAlGDb1i0yLQfYcCVJLpdMq4HaumWzfwuGCo2ABQBACeKbNZdr00LJ0+FjjFypn6tZixb+LRgqNAIWAAA/cP6g9szMTJnUhXLNGCot/LNcM4bKbFqkib9/yt/FRAVGwAIA4Dw/HNS+t1IjSVL9M7sUPj9Jbd3HlZKSohEjRvi5pKjIQvxdAAAAKpJJf/yTXK0GFA5qN/0flWvGUEW7jytt105/Fw8BghYsAADOw6B2OKFitGB166boLVuk0FApJMR78awLD5eqVpWqVPG9REVJNWpINWvaf2vUkKpVk4KDS7zrlJQUTfrjn7Rt6xbFN2uuiU8/pYSEhCv0wAEAFU18s+basGmhTP9Hi6ZlYFA7SqliBKwnnlDOd9+pUliYlJ9ffMnLk3JypJMnpexs6cAB+7dnyc6WsrKKzvDwcLmk666zoatmTalePa/li+3bNe7JJ3W4ZX+dG5akDZsWKjExUcnJyYQsALhGTXz6KSUmJtrB7K0GypX6uR3UzsSigS8/Xzp4UNq3z3s5flxKSpLq13fsripGwBoxQjm9eqlSeSZTO3dOOnFCOnpUOnbMezl6VDpyRNq/X/rmGyk9XcrJUR9J+yXlb/lCBw9u0a4aDbUrurb2PzzOvgiNG0tNmtjWsfPQ6gUAV6+EhAQlJyfrD5OnaOv8JDVr3kITGdQeODIzpV27ipadO4v+3rPHfr97RETYRpe4OJsjHHRtzuRujHT8uDrXqauanUeqXlxn1c/Yq0bHdqvJ9q/V+Hi6qp+/f40aNmw1b64NBQV64q23tKnpTdrbbpi0ebFM6kJavXDVYOZooOKgPl6AMbY3a/NmadMmu3j+PnasaL+qVe33d6NGRUtcXFFvVnR00Vi7cvCVhSpGC9aV5nJJ1arpbIuW+vT4Ppl7/+p9+YOGMVq/aKFNvTt2FC2bN6vRmjX6WJK2r1D23vXaXLu5UqNqK23cI3YsWIcOtjsSAACUX1aW9N130rp10vr1UmqqDVNZWXa72y01aya1aCH16yc1bVoUqqpXdyRAlcW1GbD+p8R+9uuuk370I7ucp0ZEJcX0fUytGndTqwOb1OrAJrXOPKSWB/ZJgwbZnWJjpY4d7dKhg/23Th2/vcgAAASEgweLgpTn3x077LawMKl1a7uMGGEDVcuWUsOGFz2hzR+uzS7C86SkpNh+9i2bbT/700+V2M9+oYt+tnNnaN1770pr13ov339vbxgTI3XqJHXrJt1wg9SlS7GxXUBFQJcEUHFc1fXx1Ck7LnrVqqJl3z67LSpKat/eNlJ06GD/btHCzixQAfnKQtd8wCotzwy/rpb9vVq9fM7qa4wdUL9unQ1bq1dLK1fasxVcLpu8PYGrWzf75gliajL4V6DUReBacNXUR2Ok7dulr76yQWrlSmnjRjuwvFIl21vUtatdOna046QCqNeHgOWQ0rZ6eTFG2rbNvrn+8x/774YNUkGBTezdu0u9ekk9e9oWrwqa1nH1CqS6CFztArY+njtnv9uWL5e+/NIuhw8XNS54wlTXrlKrVna+ywBGwKqosrOlNWtssv/yS/vvqVM21d94Y1Hg6tLFTrh6HqaMgNOu6boIVDABUx/z8+332NKl9ntsxQo7CD0szH539ehhv8duuOGqHB5DwAoUeXm2W3HZMrusWGHn9XC7bQvXgAHSgAFK2b1biXfcYa+Z1XKAXJsWMmUEyo26CFQcFbY+GiNt3SotWmSXL76wgapKFfs91aOHXXw0DFyNCFiB6tw5e4rqsmX2jbx0qXTqlI4HB+vzyjX0+W2TtLBlf6VXi7XTTLiPa/3aNf4uNQIUdRGoOCpUfTx4UFq8uChU7d9vh7HceKPUv79dfvSjgO/uKwvmwQpUwcFFZ1I89ph09qy0cqX+2q+f+oS49fd/PaRgU6CttZpqYZWaWrZjg/0lUY7ACwC4xp05Y1umPv/cBqrUVLu+fXtp5EgbqG66Sapc2b/lrKAIWIEoLEzq2VPvtG6rp/KqK+r3/1XfrUs1YPMiDf7Pv/Vw3ll7oevu3aWhQ6Vhw+wZigF0RgYAwA/S0qSPP5YWLJCWLLHXAW7QwA5NefppqU8fO+0QLoqAFcA8E6VmvvYTpbQaqA+PpcnkndGnL7+sQS6XrSRJSdITT9hTXocNs4Grd+9rok8cAHAReXn2xKoFC+x3xqZNtouvRw9p8mRpyBCpeXN+oJcBY7AC3EWnjDhzxo7ZWrBAmj/fXuiyUiXbtDt0qF3q1vVb+VHxUBeBiuOy1McjR4oC1eef2yEltWrZMDV0qP1+uArP9LucGOR+rTPG/jqZP99Wrq+/tgPo27eXbr3VXnqgXTt+qVzjqItAxeFYfdyxQ5ozxy5ff23XdelSFKo6dGCi63IgYMFbRob02WdFgSsz017TafhwG7ZuvLFCXt8Jlxd1Eag4ylwfjbFXEPGEqo0b7dCQAQPsZ/ywYYylchABCxd29qztSvzwQ+mjj+zpuDVrFrVs9e9v5+HCVY+6CFQcpaqPeXl25nRPqNq3T7ruOumWW2yoGjiQM/4uE6ZpwIWFhdnKN3Cg9Je/2GtFzZljA9frr9vJ44YMsWFr6FCpalV/lxgAkJsrLVwovf++NHeudOKEVL++lJBgQ9VNN3HJNT8hYKG4oCB7OYMbbpCeecaO2/rwQ7uMHGlbsgYPlu680zYzE7YA4MrJybGD0z2hKivLTsUzbpz9Edy+PWNpKwACFkrmctkLcbZqJf3+9/YsxA8+sBX7nntsn/7gwdIddxC2AOByycmxY2Y9oSo72140+Ve/sp+/rVr5u4T4AcZgoew8Yeu996T//pewdZWgLgIVxJkzyn7/fVX99FNp3jzp5EmpdWv7GXv77TZgoUJgkDsun7S0opYtwlZAoy4CfnTmjPTJJ/azdP58G6ratLGfpXfcYSf9RIVDwMKV4StsDRki3X23DVsREf4uIUpAXQSusLw8e62/2bPtyUXZ2VLbttIdd+jEgAGK7trV3yXERRCwcOV5wta770pr1tizEYcPt4PlBwzg7JYKiLoIXAEFBdKKFTZUffCBdOyY1KyZ/Wy8+277t6iPgYJpGnDlxcVJ48fbZft26Z137AfKv/4lVa9uxxGMHGmve8UswgCuZp7JP2fPtj869+2TYmOlMWPs5yBn/11VaMHClWeM9N139kPmnXfsYPm6daW77rIfMp068SHjR9RFwGGbNxf9uNy+3U7ifMcd9vPuxhtL/HFJfQwMtGChYnC57DUP27WTpk6V/vOfolat6dOlJk3sB8/IkXZuFwAINHv2FIWqb7+VIiPt5J8vvST17SuF8PV7tSuMzdu3b9eNN96o+Ph4de7cWampqf4sF64VLpf9BTdzprR/v508r0cP6cUX7SnI7dtLzz5rP6wAoCI7fNgGqO7d7fCIpCQpPl5KSbHbZs2yV8sgXF0TCgPWz3/+cz3wwAPatm2bnnjiCY0ePdqPxcI1KSTEDnx/4w37YfThh3ag56RJ9sOqe3f74XX4sL9LCgDWiRNFwalOHTvxZ3S09NZb0pEjdp7AESPs2dS4priMMebIkSNq0qSJMjIyFBISImOMateurRUrVqhJkyYlHoAxWLjsTp60F6CePdvOZFxQIPXrZ7sQR4ywH2ZwDHURuIjTp+0cVbNnSx9/bKdZ6NXLfiYlJtoTeBxCfQwMvrJQkCSlp6erdu3aCvlfs6XL5VL9+vW1d+/eYgfJzc1VVlaW1wJcVlWqSD/+sf1AO3xYeuUV+4E2dqxUq5YNWe+9Zz/0AOByyMuzYeree+3nzl132WENzzwjpadLX3whPfCAo+EKga3UHcFTp07VpEmTiq3PyMhQfn5+mQty/PjxMt8W15jbb5duv12uAwcU9tFHcicnK+Suu2QqV9bZwYN1NjFReX36MMdWGVEXgf8pKFDIypUKS05W2Ny5CsrI0LmmTZU7bpzOJiSooFGjon0zMi5LEaiPgcFXY1Opuwhzc3OVm5vrddDY2Fi6COFfO3YUnbGzaZNUrVrRHFs9ezLHVilQF3FNM0Zat65oGpl9+6T69e3knyNH2rOfr+A0MtTHwHDBLsKYmBh17NhR//rXvyRJycnJqlevns/xV263W5GRkV4L4HdNmki//720caM9JfqBB+x4rT597ER+jz9uZ5Iv37RvAK5W27bZE2patLBz8f3jH9Ktt0pffint3m3PZmYiUJRC4USjW7du1ejRo/X9998rMjJSs2bNUps2bS56AAa5o8IypmiOrffes2f0MMfWRVEXcc3Yt8/OqD57tvTNN3a8Z0KC/Xzo169CDDOgPgYGrkWIa1d+vh2EOnu2nZMmM9M29Xuu+9Wggb9LWGFQF3FV+/57KTlZevttaflyKSxMGjrUfhYMHVrhLkZPfQwMF+wiBK5658+xdegQc2wB15KTJ22gGjZMuv566cEHJbe7aM695GQ7ZrOChSsENgIWrj3h4dLw4bZr4PBhOyFgdLSdILBOHTth4KxZtpULQGA6fVr64APpzjulmBg71cvx49L//Z904IAdozl6tBQV5e+S4ipFwMK1rWpV6Sc/kRYskA4elF5+WTp71s6xFRNj59h69137CxhAxXbmjG2dHjnS1t877pB27pQmTLAD1b/6Snr4YTuPFXCZcUEkwKNGDennP7fL/v1Fg1/vvtt2HQwebD+whw61wQyA/+Xk2Nao996T5s61P4bat5eeesrW14tcjQS4XAhYgC9160q//rVddu2yXQ3vv29/GYeHSzffbD+8hw2TmKoEuLJyc+2F4d97z15GKztbatNGeuIJWy+bNfN3CQECFnBRjRpJv/2tXdLSisLWj39sB8oOGmQ/1G+5hfEcwOWSmystXGjr3pw5UlaW1KqVNH68rX9Mu4IKhoAFlEZcnP1AHz9e2rPHnn30/vv2+mRhYXaA/B132AkKuQg1UD7Z2dInn9ipVT7+2P6/eXN7Qsodd9iABVRQBCygrBo0KOpGTE8vClujRtkJCvv1s2cr3nqrVLu2v0sLBIbvv7djqT780HYD5uZKHTrYFuQRI6SWLZlNHQGBiUYBp+3bZ39xz5ljJzI8d07q1s2GreHDK/z4EOoirrh9+2x9+fBDadkyqaDAzk2XkGDrTMOG/i6h31AfAwMzuQNX2vff2ykg5syxZzqdPm27ODxhq3PnCnchauoiLjtjpO++k+bNs8t//2snA+7Xz7ZS3XabnRAU1McAQcAC/OnMGWnRIhu25s6Vjh2zXYe33moHyPfpI1Wq5O9SUhdxeeTkSEuWSPPn2yU93U53MmiQrQPDhknXXefvUlY41MfA4CsLMQYLuFIiImyQuuUW22349df2FPM5c6S//c2ekdinjzRkiJ1rq1Ejf5cYKJ+DB20L7vz59gzA06dtd9+IETZQ9eplTw4BrkIVq28CuFYEB0s9ekjTpknbt0tbtkhTp9qLUj/+uNS4se1K/PWvbatXbq4kKSUlRe06dFJEpcpq16GTUlJS/PxAgPOcOyetXGmv8dmli7301M9/bltrJ0yQUlPtzOozZthrgxKucBWjixCoaLKzpcWL7WnpH39sZ5WvXFkHWrZU0urV+rzpTdrT/la5Ni2USV2o5ORkJSQkOHb31EWUyt69dnzh55/bHwMnTtj54AYOtK21gwfbqySgTKiPgYExWECg8QwG/vhjrf3Tn9Tu1CkFS9pRs7EWteijJbtW6fB1QVr23XrH7pK6iBKdPGnP9POEqq1b7YkaXbvaUDVokD15I4QRKE6gPgYGAhYQwCIqVVb4wN+qd52W6r95ifptXqLmh7epQFJQx472DKz+/aWbbirXYHnqIrzk5UnffCN98YUdR7VihV3XoIENUwMHSn37MkD9MqE+BgYGuQMBLL5Zc23Y8ZXmDHlSczoMl4xR7LR+Gn02XX9o2VJ66y3p+eftuJYbb7SBq3dv25rgdvu7+AgUnkC1dKldVqyQTp2SqlSxg9JfeMEGq6ZNmfATKAEBCwgQE59+SomJiXLNGCrTaqBcqZ8rffsKdUhJsWdlGSNt3mzHwSxeLD33nPT00zZcdeliB9X36GHDFxeohseZM9KaNdJXXxUPVD162MHpvXtLHTvS7QeUAl2EQABJSUnRHyZP0dYtm9WseQtNfPopjRgxwvfO+fl2/NaXXxYtR47Y8TLt2tkvz+7d7diZ+vULWyOoi1e5AwfsFCFffWX/XbvWvleqVLHdy717FwWq0FB/l/aaR30MDIzBAq5lxtgpIc4PXLt22W21atlWrq5dldW8uSL79eNi1VeDkyeldetsC9Xq1TZQ7dljtzVsaFszPUvr1rRQVUB8NwYGxmAB1zKXS4qPt8vYsXbdkSP2MiWrVtnl+ecVmZlptzVvLv3oR/ZCu+3b24UP+orr9Glp/XobptasseOoNm+2wTo83L5+iYk2TN1wg52jCsBlQwsWgCIFBTqxerWit261gWvNGmnDBjtOR7JdiZ6w5VkaNLjg9RRTUlI06Y9/0ratWxTfrLkmPv2Uo3N2XZMKCqTdu+3r4lk2brTTJRQU2JMc2reXOnWyAflHP5JatKC7L0Dx3RgY6CIEcFHF6uK5c9K2bbZ1xLOsWycdPWq3R0RIzZrZL/Hzlg83blTC3XfL1WqATMsBl21i1KvW2bM2SG3fbp//1FQbplJTbWuVZFsU27SxS9u2Nky1asUM6VcRvhsDAwELwEVdUl00Rjp0SPr2W9sNdf7y/feSpHxJO8MqaWd8D+2q0Ui7azTQ7pVvK7Rynt7970rOZJRsUNq7146L2rGjKExt2yalpdlwK9l5zZo3LwpTbdrYMVO1azNVwlWO78bAwBgsAM5wueyXe+3a0s03e287elTavFmP9e+vxg06qlFwqHptW64xX+9W5bP/a3mJipKqV7cDrevXt+OBate2/56/XHddYAYIY+wlYw4ftuPcDh2S0tNtmDp/OXas6DahofYC3/Hx0vDhdp4pz5i5OnUC83kArmEELADOqllTqllTX7Zqo5fzImQeSrbhoKBAMdMHaqDrsN6aMMF2f+3aJe3bZ+dfOnBAysjwPpbbbc9wrFbNLtWrF/3tWaKjpcqVbSuPryUi4oJjxIo5d852zZ2/5ObalqbMTCkryy6evz3/Hj9ug9SRIzZUHT1qJ+w8X+XKdrxa/fq2Ky8hwf7tWWJjOYsPuIpQmwFcFr4mRj2ybbkSPBOj+pKTIx08aJcDB+xy+LANMBkZtvtx5077d0aGDTeXKiioaHG5vP+fn2/DlKdL7mJcLtvF6Vmio20Q7NpViomxS61a3n9HR9MKBVxDCFgALouEhAQlJyfbiVHnJ9mJUVNSLjwxqmSnE2jY0C6XIi/PhqzTp4svZ84U/V1QUPISEmIHhrvd9l/P4vl/RITt1oyKsoGqcuVLbxUDcE0iYAG4bBISEi7vGYOhobbbsHr1y3cfAFAG/AQDAABwGAELAADAYQQsAAAAhxGwAAAAHEbAAgAAcBgBCwAAwGEELAAAAIeVex4sz7Wis0ozo7IPWVlZCuEyEYDfUReBioP6GBg8GciTiSQHAlZ2drYkKTY2tryHAgAACFjZ2dmKioqSJLnM+XGrDAoKCnTgwAFVrVpVrjJeZysrK0uxsbFKT09XZGRkeYoDoByoi0DFQX0MHMYYZWdnq06dOgr632W0yt2CFRQUpHr16pW7cJIUGRnJmwioAKiLQMVBfQwMnpYrDwa5AwAAOIyABQAA4LDgpKSkJH8XQpKCg4PVu3dvzpYA/Iy6CFQc1MfAVe5B7gAAAPBGFyEAAIDDCFgAAAAOI2ABAAA47IoFrO3bt+vGG29UfHy8OnfurNTUVJ/7zZ8/X82bN1fTpk2VkJBQ7kvwAPCWk5Oj4cOHKz4+Xu3atdOAAQO0Y8eOYvulpaUpODhY7du3L1x27tzphxIDV7e4uDg1a9assJ69++67Pvfj+zGwXLFB7n379tVPf/pTjR49Wh988IGeffZZrV692mufkydPqnHjxlq2bJmaN2+uhx9+WBEREXr++eevRBGBa0JOTo6WLFmiwYMHy+Vy6aWXXtIHH3ygpUuXeu2Xlpam9u3b68SJE/4pKHCNiIuL05w5c9S+ffsL7sP3Y+C5Ii1YR44c0Zo1a/STn/xEkpSYmKj09PRiv5o/+eQTdejQQc2bN5ckPfh8B3wAAAJSSURBVPTQQ5o9e/aVKCJwzQgPD9eQIUMKL23VrVs3paWl+bdQAErE92PguSIBKz09XbVr1y6cx8Plcql+/frau3ev13579+5VgwYNCv8fFxengwcPKj8//0oUE7gmzZgxQ7fddpvPbadOnVKnTp3UsWNH/eEPf9C5c+eucOmAa8O9996rNm3aaOzYsTp69Gix7Xw/Bh4GuQPXsClTpmjHjh2aOnVqsW21a9fW/v379c0332jRokX68ssv9cILL/ihlMDVbfny5dqwYYPWrl2rGjVqaNSoUf4uEhxwRQJWbGysV9I2xmjv3r2qX7++137169fXnj17Cv+flpbm1fIFwDnTpk1TSkqKPvnkE1WqVKnYdrfbrZiYGElStWrVdN999+nLL7+80sUErnqe78LQ0FA99thjPusZ34+B54oErJiYGHXs2FH/+te/JEnJycmqV6+emjRp4rXfzTffrLVr12rLli2SpJdffll33333lSgicE2ZPn26Zs+erYULFyo6OtrnPkeOHFFeXp4kKTc3VykpKerQocOVLCZw1Tt16pTXiSSzZ8/2Wc/4fgw8V+wswq1bt2r06NH6/vvvFRkZqVmzZqlNmzaaMGGC6tSpo1/84heSpLlz5+q3v/2t8vPz1bp1a7355puKioq6EkUErgn79u1TbGysGjVqpKpVq0qyrVWrVq3yqo8pKSmaMGGCgoODlZ+fr759+2ratGlyu91+fgTA1WPXrl1KTEzUuXPnZIxRo0aNNGPGDMXFxfH9GOC4FiEAAIDDGOQOAADgsP8P/g0MWBmB1sYAAAAASUVORK5CYII=\" />"
      ]
     },
     "execution_count": 9,
     "metadata": {},
     "output_type": "execute_result"
    }
   ],
   "source": [
    "# now the plots\n",
    "using Plots; pyplot()    # it is sometimes convenient to cram a line in this way\n",
    "\n",
    "#first the plot of the approximation points\n",
    "plot(x1, y1, line=:scatter, legend=:false, title=\"Illustrating 6th-order approximation to cos\")\n",
    "\n",
    "plot!(x2,y2; line = (:path, :red))   #then add the accurate line with plot!()"
   ]
  },
  {
   "cell_type": "markdown",
   "metadata": {},
   "source": [
    "[Back to the top](#In-this-lecture)"
   ]
  },
  {
   "cell_type": "code",
   "execution_count": null,
   "metadata": {
    "collapsed": true
   },
   "outputs": [],
   "source": []
  }
 ],
 "metadata": {
  "hide_input": false,
  "kernelspec": {
   "display_name": "Julia 0.6.0",
   "language": "julia",
   "name": "julia-0.6"
  },
  "language_info": {
   "file_extension": ".jl",
   "mimetype": "application/julia",
   "name": "julia",
   "version": "0.6.0"
  },
  "varInspector": {
   "cols": {
    "lenName": 16,
    "lenType": 16,
    "lenVar": 40
   },
   "kernels_config": {
    "python": {
     "delete_cmd_postfix": "",
     "delete_cmd_prefix": "del ",
     "library": "var_list.py",
     "varRefreshCmd": "print(var_dic_list())"
    },
    "r": {
     "delete_cmd_postfix": ") ",
     "delete_cmd_prefix": "rm(",
     "library": "var_list.r",
     "varRefreshCmd": "cat(var_dic_list()) "
    }
   },
   "types_to_exclude": [
    "module",
    "function",
    "builtin_function_or_method",
    "instance",
    "_Feature"
   ],
   "window_display": false
  }
 },
 "nbformat": 4,
 "nbformat_minor": 1
}
