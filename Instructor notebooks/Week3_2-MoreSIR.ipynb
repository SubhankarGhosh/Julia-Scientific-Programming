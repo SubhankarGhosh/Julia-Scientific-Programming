{
 "cells": [
  {
   "cell_type": "code",
   "execution_count": 1,
   "metadata": {},
   "outputs": [
    {
     "data": {
      "text/html": [
       "<link href='http://fonts.googleapis.com/css?family=Alegreya+Sans:100,300,400,500,700,800,900,100italic,300italic,400italic,500italic,700italic,800italic,900italic' rel='stylesheet' type='text/css'>\r\n",
       "<link href='http://fonts.googleapis.com/css?family=Arvo:400,700,400italic' rel='stylesheet' type='text/css'>\r\n",
       "<link href='http://fonts.googleapis.com/css?family=PT+Mono' rel='stylesheet' type='text/css'>\r\n",
       "<link href='http://fonts.googleapis.com/css?family=Shadows+Into+Light' rel='stylesheet' type='text/css'>\r\n",
       "<link href='http://fonts.googleapis.com/css?family=Philosopher:400,700,400italic,700italic' rel='stylesheet' type='text/css'>\r\n",
       "\r\n",
       "<style>\r\n",
       "\r\n",
       "@font-face {\r\n",
       "    font-family: \"Computer Modern\";\r\n",
       "    src: url('http://mirrors.ctan.org/fonts/cm-unicode/fonts/otf/cmunss.otf');\r\n",
       "}\r\n",
       "\r\n",
       "#notebook_panel { /* main background */\r\n",
       "    background: #ddd;\r\n",
       "    color: #000000;\r\n",
       "}\r\n",
       "\r\n",
       "\r\n",
       "\r\n",
       "/* Formatting for header cells */\r\n",
       ".text_cell_render h1 {\r\n",
       "    font-family: 'Philosopher', sans-serif;\r\n",
       "    font-weight: 400;\r\n",
       "    font-size: 2.2em;\r\n",
       "    line-height: 100%;\r\n",
       "    color: rgb(0, 80, 120);\r\n",
       "    margin-bottom: 0.1em;\r\n",
       "    margin-top: 0.1em;\r\n",
       "    display: block;\r\n",
       "}\t\r\n",
       ".text_cell_render h2 {\r\n",
       "    font-family: 'Philosopher', serif;\r\n",
       "    font-weight: 400;\r\n",
       "    font-size: 1.9em;\r\n",
       "    line-height: 100%;\r\n",
       "    color: rgb(200,100,0);\r\n",
       "    margin-bottom: 0.1em;\r\n",
       "    margin-top: 0.1em;\r\n",
       "    display: block;\r\n",
       "}\t\r\n",
       "\r\n",
       ".text_cell_render h3 {\r\n",
       "    font-family: 'Philosopher', serif;\r\n",
       "    margin-top:12px;\r\n",
       "    margin-bottom: 3px;\r\n",
       "    font-style: italic;\r\n",
       "    color: rgb(94,127,192);\r\n",
       "}\r\n",
       "\r\n",
       ".text_cell_render h4 {\r\n",
       "    font-family: 'Philosopher', serif;\r\n",
       "}\r\n",
       "\r\n",
       ".text_cell_render h5 {\r\n",
       "    font-family: 'Alegreya Sans', sans-serif;\r\n",
       "    font-weight: 300;\r\n",
       "    font-size: 16pt;\r\n",
       "    color: grey;\r\n",
       "    font-style: italic;\r\n",
       "    margin-bottom: .1em;\r\n",
       "    margin-top: 0.1em;\r\n",
       "    display: block;\r\n",
       "}\r\n",
       "\r\n",
       ".text_cell_render h6 {\r\n",
       "    font-family: 'PT Mono', sans-serif;\r\n",
       "    font-weight: 300;\r\n",
       "    font-size: 10pt;\r\n",
       "    color: grey;\r\n",
       "    margin-bottom: 1px;\r\n",
       "    margin-top: 1px;\r\n",
       "}\r\n",
       "\r\n",
       ".CodeMirror{\r\n",
       "        font-family: \"PT Mono\";\r\n",
       "        font-size: 100%;\r\n",
       "}\r\n",
       "\r\n",
       "</style>\r\n",
       "\r\n"
      ],
      "text/plain": [
       "HTML{String}(\"<link href='http://fonts.googleapis.com/css?family=Alegreya+Sans:100,300,400,500,700,800,900,100italic,300italic,400italic,500italic,700italic,800italic,900italic' rel='stylesheet' type='text/css'>\\r\\n<link href='http://fonts.googleapis.com/css?family=Arvo:400,700,400italic' rel='stylesheet' type='text/css'>\\r\\n<link href='http://fonts.googleapis.com/css?family=PT+Mono' rel='stylesheet' type='text/css'>\\r\\n<link href='http://fonts.googleapis.com/css?family=Shadows+Into+Light' rel='stylesheet' type='text/css'>\\r\\n<link href='http://fonts.googleapis.com/css?family=Philosopher:400,700,400italic,700italic' rel='stylesheet' type='text/css'>\\r\\n\\r\\n<style>\\r\\n\\r\\n@font-face {\\r\\n    font-family: \\\"Computer Modern\\\";\\r\\n    src: url('http://mirrors.ctan.org/fonts/cm-unicode/fonts/otf/cmunss.otf');\\r\\n}\\r\\n\\r\\n#notebook_panel { /* main background */\\r\\n    background: #ddd;\\r\\n    color: #000000;\\r\\n}\\r\\n\\r\\n\\r\\n\\r\\n/* Formatting for header cells */\\r\\n.text_cell_render h1 {\\r\\n    font-family: 'Philosopher', sans-serif;\\r\\n    font-weight: 400;\\r\\n    font-size: 2.2em;\\r\\n    line-height: 100%;\\r\\n    color: rgb(0, 80, 120);\\r\\n    margin-bottom: 0.1em;\\r\\n    margin-top: 0.1em;\\r\\n    display: block;\\r\\n}\\t\\r\\n.text_cell_render h2 {\\r\\n    font-family: 'Philosopher', serif;\\r\\n    font-weight: 400;\\r\\n    font-size: 1.9em;\\r\\n    line-height: 100%;\\r\\n    color: rgb(200,100,0);\\r\\n    margin-bottom: 0.1em;\\r\\n    margin-top: 0.1em;\\r\\n    display: block;\\r\\n}\\t\\r\\n\\r\\n.text_cell_render h3 {\\r\\n    font-family: 'Philosopher', serif;\\r\\n    margin-top:12px;\\r\\n    margin-bottom: 3px;\\r\\n    font-style: italic;\\r\\n    color: rgb(94,127,192);\\r\\n}\\r\\n\\r\\n.text_cell_render h4 {\\r\\n    font-family: 'Philosopher', serif;\\r\\n}\\r\\n\\r\\n.text_cell_render h5 {\\r\\n    font-family: 'Alegreya Sans', sans-serif;\\r\\n    font-weight: 300;\\r\\n    font-size: 16pt;\\r\\n    color: grey;\\r\\n    font-style: italic;\\r\\n    margin-bottom: .1em;\\r\\n    margin-top: 0.1em;\\r\\n    display: block;\\r\\n}\\r\\n\\r\\n.text_cell_render h6 {\\r\\n    font-family: 'PT Mono', sans-serif;\\r\\n    font-weight: 300;\\r\\n    font-size: 10pt;\\r\\n    color: grey;\\r\\n    margin-bottom: 1px;\\r\\n    margin-top: 1px;\\r\\n}\\r\\n\\r\\n.CodeMirror{\\r\\n        font-family: \\\"PT Mono\\\";\\r\\n        font-size: 100%;\\r\\n}\\r\\n\\r\\n</style>\\r\\n\\r\\n\")"
      ]
     },
     "execution_count": 1,
     "metadata": {},
     "output_type": "execute_result"
    }
   ],
   "source": [
    "# Setting up a custom stylesheet in IJulia\n",
    "# New in 0.6\n",
    "file = open(\"style.css\") # A .css file in the same folder as this notebook file\n",
    "styl = readstring(file) # Read the file\n",
    "HTML(\"$styl\") # Output as HTML"
   ]
  },
  {
   "cell_type": "markdown",
   "metadata": {},
   "source": [
    "<h1> More on SIR models </h1>"
   ]
  },
  {
   "cell_type": "markdown",
   "metadata": {},
   "source": [
    "<h2>In this lecture</h2>\n",
    "\n",
    "- [Outcome](#Outcome)\n",
    "- [The threshold prediction of our SIR model](#The-threshold-prediction-of-our-SIR-model)\n",
    "- [The duration of infectiousness implied by our model](#The-duration-of-infectiousness-implied-by-our-model)\n",
    "- [A phase plane: plots of $I$ vs $S$](#A-phase-plane:-plots-of-$I$-vs-$S$)\n",
    "- [Putting it all together: estimates of $\\gamma$ and $\\lambda$](#Putting-it-all-together:-estimates-of-$\\gamma$-and-$\\lambda$)\n"
   ]
  },
  {
   "cell_type": "markdown",
   "metadata": {},
   "source": [
    "[Back to the top](#In-this-lecture)"
   ]
  },
  {
   "cell_type": "markdown",
   "metadata": {},
   "source": [
    "<h2>Outcome</h2>\n",
    "\n",
    "After this lecture, you will be able to\n",
    "- Explain the threshold phenomenon in SIR models\n",
    "- Use three-week duration of infectiousness to estimate $\\gamma$ in our EVD model\n",
    "- Plot the course of an epidemic in the $SI$ phase plane\n",
    "- Use country populations plus the threshold phenomenonn to estimate $\\lambda$ in our EVD model"
   ]
  },
  {
   "cell_type": "markdown",
   "metadata": {},
   "source": [
    "[Back to the top](#In-this-lecture)"
   ]
  },
  {
   "cell_type": "markdown",
   "metadata": {},
   "source": [
    "<h2>The threshold prediction of our SIR model</h2>\n",
    "\n",
    "Recall the three equations of our SIR model:\n",
    "\n",
    "1 ...     $ S(t_{i+1}) = S(t_i) - \\lambda S(t_i)I(t_i)\\,dt$\n",
    "\n",
    "2 ...     $I(t_{i+1}) = I(t_i) + \\lambda S(t_i)I(t_i)\\,dt - \\gamma I(t_i)\\,dt$\n",
    "\n",
    "3 ...     $R(t_{i+1}) = R(t_i) + \\gamma I(t_i)\\,dt$\n",
    "\n",
    "And recall that $S(t)$ is a symbol for the size of the susceptible population (not yet infected) at time $t$, likewise $I(t)$ represents the infecteds, and $R(t)$ the removeds.\n",
    "\n",
    "The parameter $\\lambda$ models the likelihood that when an infected person meets a susceptible person, the susceptible person becomes infected.\n",
    "\n",
    "The parameter $\\gamma$ models the rate at which infected people become removed.\n",
    "\n",
    "Our task in this lecture is to propose estimates for the parameter values. To do so, we will use the *threshold phenomenon* of our model: for given values of $\\lambda$ and $\\gamma$, there is no epidemic unless $S(0)$ is big enough. \n",
    "\n",
    "The reasoning is simple: for an epidemic to happen, the infection must spread. But that means more people must be getting infected than are recovering. That is, the gain minus the loss of infecteds must be positive. In symbols, we must have\n",
    "\n",
    "$\\lambda SI - \\gamma I > 0$\n",
    "\n",
    "This can only happen if $\\lambda S - \\gamma > 0$. In other words, the number of infecteds can increase only when $S > \\gamma/\\lambda$.\n",
    "\n",
    "This implies that if the initial population is below the threshold, indicated by $S(0) < \\gamma/\\lambda$, then the number of infecteds, even if initially large, will decrease. That is, in a small enough population, any initial infection simply dies out. On the other hand, if $S(0)>\\gamma/\\lambda$, the number of infecteds will increase, at least for a while.\n",
    "\n",
    "It is of course obvious that for our model to apply to the West African epidemic, our parameter values must be such that the susceptible population at the beginning of 2014 was larger than $\\gamma/\\lambda$. \n",
    "\n"
   ]
  },
  {
   "cell_type": "markdown",
   "metadata": {},
   "source": [
    "[Back to the top](#In-this-lecture)"
   ]
  },
  {
   "cell_type": "markdown",
   "metadata": {},
   "source": [
    "<h2>The duration of infectiousness implied by our model</h2>\n",
    "\n",
    "We note that the loss rate of infecteds is given by $\\gamma I$. This means that every day, the fraction of infected people becoming removed is $\\gamma$.\n",
    "\n",
    "For example, consider $\\gamma = 1/10$. Then every day a tenth of ill people recover. If we assume that every person is ill for 10 days, and as many people are getting ill as recovering, then a tenth of all ill people recover every day.\n",
    "\n",
    "In other words, it makes sense to thing of the duration of one person's illness as $1/\\gamma$. Recall that the duration of EVD is approximately three weeks. This means we may estimate that $1/\\gamma\\approx 21$. We will therefore set $\\gamma=0.05$ as a reasonable estimate.\n",
    "\n",
    "It is crude to think that they are equally infectious every day of these three weeks, but that is what we are doing. Our assumption was that the only difference between people is whether they are susceptible, infected or removed.\n",
    "\n",
    "Likewise, it is crude to think that all infected people are ill in the same way and for the same duration, but again this is what we do. In fact, without a lot more data (especially data on duration of illness) and a considerably more complicated model, this is all we can do. "
   ]
  },
  {
   "cell_type": "markdown",
   "metadata": {},
   "source": [
    "[Back to the top](#In-this-lecture)"
   ]
  },
  {
   "cell_type": "markdown",
   "metadata": {},
   "source": [
    "<h2>A phase plane: plots of $I$ vs $S$</h2>\n",
    "\n",
    "A good way to illustrate the threshold phenomenon is via plots of $I$ versus $S$. That is, we run the model as we did in the previous lecture, but now we plot the phase diagram. (Well, part of it---the full phase diagram gives all three dependent variables.)\n",
    "\n",
    "We re-use the code from the previous lecture (just cut and paste):\n"
   ]
  },
  {
   "cell_type": "code",
   "execution_count": 2,
   "metadata": {},
   "outputs": [
    {
     "data": {
      "text/plain": [
       "updateSIR (generic function with 1 method)"
      ]
     },
     "execution_count": 2,
     "metadata": {},
     "output_type": "execute_result"
    }
   ],
   "source": [
    "function updateSIR(popnvector)       # exactly the same function as before\n",
    "    susceptibles = popnvector[1];\n",
    "    infecteds    = popnvector[2]; \n",
    "    removeds     = popnvector[3];\n",
    "    newS = susceptibles - lambda*susceptibles*infecteds*dt\n",
    "    newI = infecteds + lambda*susceptibles*infecteds*dt - gam*infecteds*dt  \n",
    "    newR = removeds + gam*infecteds*dt\n",
    "    return [newS newI newR] \n",
    "end"
   ]
  },
  {
   "cell_type": "code",
   "execution_count": 3,
   "metadata": {},
   "outputs": [
    {
     "data": {
      "text/plain": [
       "Plots.PyPlotBackend()"
      ]
     },
     "execution_count": 3,
     "metadata": {},
     "output_type": "execute_result"
    }
   ],
   "source": [
    "using Plots  # and of course we need to load Plots and choose to use the PyPlot backend\n",
    "pyplot()"
   ]
  },
  {
   "cell_type": "code",
   "execution_count": 4,
   "metadata": {},
   "outputs": [],
   "source": [
    "# New in 0.6\n",
    "# likewise, a run of the model uses exactly the same code ... but we'll play a bit with the values that determine a run\n",
    "\n",
    "gam = 1/20.       # recovery rate parameter  (ditto)\n",
    "dt = 0.5         # length of time step in days\n",
    "tfinal = 610.;    # respecting community values: lowercase only in the names \n",
    "s0 = 22000000.     # initial susceptibles, note that we use the  type Float64 from the start\n",
    "i0 = 4.          # initial infecteds; set this to 1. to  mimic an epidemic with an index case\n",
    "r0 = 0.          # not always the case, of course\n",
    "lambda = gam/(0.1*s0)\n",
    "\n",
    "# initialise \n",
    "nsteps = round(Int64, tfinal/dt)    # note the use of round() with type Int64 to ensure that nsteps is an integer\n",
    "resultvals = Array{Float64}(nsteps+1, 3)  #initialise array of type Float64 to hold results\n",
    "timevec = Array{Float64}(nsteps+1)        # ... ditto for time values\n",
    "resultvals[1,:] = [s0, i0, r0]  # ... and assign them to the first row\n",
    "timevec[1] = 0.                 # also Float64, of course.\n",
    "\n",
    "for step  = 1:nsteps\n",
    "    resultvals[step+1, :] = updateSIR(resultvals[step, :])  # NB! pay careful attention to the rows being used\n",
    "    timevec[step+1] = timevec[step] + dt\n",
    "end"
   ]
  },
  {
   "cell_type": "code",
   "execution_count": 5,
   "metadata": {},
   "outputs": [
    {
     "data": {
      "text/html": [
       "<img src=\"data:image/png;base64,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\" />"
      ]
     },
     "execution_count": 5,
     "metadata": {},
     "output_type": "execute_result"
    }
   ],
   "source": [
    "# now we can plot the outcome  \n",
    "\n",
    "svals = resultvals[:,1];  # get the results\n",
    "ivals = resultvals[:,2];\n",
    "\n",
    "plot(svals, ivals, title = \"First look at I vs S plot\")        # and plot them\n",
    "\n",
    "# we first vary S(0); the initial threshold is (0.1)/(1/20000) = 2000\n",
    "# one can also vary gam and lambda and dt"
   ]
  },
  {
   "cell_type": "markdown",
   "metadata": {},
   "source": [
    "[Back to the top](#In-this-lecture)"
   ]
  },
  {
   "cell_type": "markdown",
   "metadata": {},
   "source": [
    "<h2>Putting it all together: estimates of $\\gamma$ and $\\lambda$</h2>\n",
    "\n",
    "We already have the estimate $\\gamma = 0.05$, based on a 20-day infectious period per patient.\n",
    "\n",
    "We now need estimates of $\\lambda$ and of $S(0)$ (we will discuss $I(0)$ and $R(0)$ later).\n",
    "\n",
    "Since at the beginning of the epidemic, one could not safely say that any person in the three countries concerned would never be exposed to the Ebola virus, we should assume that the susceptible population was the sum of the populations of Guinea, Liberia and Sierra Leone. Using Wikipedia, this gives us $S(0)=22\\times10^6$, because in total there are approximately 22 million people in these countries.\n",
    "\n",
    "Now we use the threshold, which we write as $S^\\ast = \\gamma/\\lambda$, so that $\\lambda = \\gamma/S^\\ast$. Assuming that our $S(0)$ is far larger than $S^\\ast$, because the epidemic was so severe, let us set $S^\\ast = 0.1S(0)=2.2\\times10^6$. This gives the estimate $\\lambda = 0.05/2.2\\times10^6 \\approx 2.3\\times10^{-8}$. \n",
    "\n",
    "Let's go back to our phase plot and put in these estimates."
   ]
  },
  {
   "cell_type": "markdown",
   "metadata": {},
   "source": [
    "[Back to the top](#In-this-lecture)"
   ]
  },
  {
   "cell_type": "code",
   "execution_count": null,
   "metadata": {
    "collapsed": true
   },
   "outputs": [],
   "source": []
  }
 ],
 "metadata": {
  "hide_input": false,
  "kernelspec": {
   "display_name": "Julia 0.6.0",
   "language": "julia",
   "name": "julia-0.6"
  },
  "language_info": {
   "file_extension": ".jl",
   "mimetype": "application/julia",
   "name": "julia",
   "version": "0.6.0"
  },
  "varInspector": {
   "cols": {
    "lenName": 16,
    "lenType": 16,
    "lenVar": 40
   },
   "kernels_config": {
    "python": {
     "delete_cmd_postfix": "",
     "delete_cmd_prefix": "del ",
     "library": "var_list.py",
     "varRefreshCmd": "print(var_dic_list())"
    },
    "r": {
     "delete_cmd_postfix": ") ",
     "delete_cmd_prefix": "rm(",
     "library": "var_list.r",
     "varRefreshCmd": "cat(var_dic_list()) "
    }
   },
   "types_to_exclude": [
    "module",
    "function",
    "builtin_function_or_method",
    "instance",
    "_Feature"
   ],
   "window_display": false
  }
 },
 "nbformat": 4,
 "nbformat_minor": 1
}
