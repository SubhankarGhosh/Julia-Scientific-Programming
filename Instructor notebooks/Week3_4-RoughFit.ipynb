{
 "cells": [
  {
   "cell_type": "code",
   "execution_count": 1,
   "metadata": {},
   "outputs": [
    {
     "data": {
      "text/html": [
       "<link href='http://fonts.googleapis.com/css?family=Alegreya+Sans:100,300,400,500,700,800,900,100italic,300italic,400italic,500italic,700italic,800italic,900italic' rel='stylesheet' type='text/css'>\r\n",
       "<link href='http://fonts.googleapis.com/css?family=Arvo:400,700,400italic' rel='stylesheet' type='text/css'>\r\n",
       "<link href='http://fonts.googleapis.com/css?family=PT+Mono' rel='stylesheet' type='text/css'>\r\n",
       "<link href='http://fonts.googleapis.com/css?family=Shadows+Into+Light' rel='stylesheet' type='text/css'>\r\n",
       "<link href='http://fonts.googleapis.com/css?family=Philosopher:400,700,400italic,700italic' rel='stylesheet' type='text/css'>\r\n",
       "\r\n",
       "<style>\r\n",
       "\r\n",
       "@font-face {\r\n",
       "    font-family: \"Computer Modern\";\r\n",
       "    src: url('http://mirrors.ctan.org/fonts/cm-unicode/fonts/otf/cmunss.otf');\r\n",
       "}\r\n",
       "\r\n",
       "#notebook_panel { /* main background */\r\n",
       "    background: #ddd;\r\n",
       "    color: #000000;\r\n",
       "}\r\n",
       "\r\n",
       "\r\n",
       "\r\n",
       "/* Formatting for header cells */\r\n",
       ".text_cell_render h1 {\r\n",
       "    font-family: 'Philosopher', sans-serif;\r\n",
       "    font-weight: 400;\r\n",
       "    font-size: 2.2em;\r\n",
       "    line-height: 100%;\r\n",
       "    color: rgb(0, 80, 120);\r\n",
       "    margin-bottom: 0.1em;\r\n",
       "    margin-top: 0.1em;\r\n",
       "    display: block;\r\n",
       "}\t\r\n",
       ".text_cell_render h2 {\r\n",
       "    font-family: 'Philosopher', serif;\r\n",
       "    font-weight: 400;\r\n",
       "    font-size: 1.9em;\r\n",
       "    line-height: 100%;\r\n",
       "    color: rgb(200,100,0);\r\n",
       "    margin-bottom: 0.1em;\r\n",
       "    margin-top: 0.1em;\r\n",
       "    display: block;\r\n",
       "}\t\r\n",
       "\r\n",
       ".text_cell_render h3 {\r\n",
       "    font-family: 'Philosopher', serif;\r\n",
       "    margin-top:12px;\r\n",
       "    margin-bottom: 3px;\r\n",
       "    font-style: italic;\r\n",
       "    color: rgb(94,127,192);\r\n",
       "}\r\n",
       "\r\n",
       ".text_cell_render h4 {\r\n",
       "    font-family: 'Philosopher', serif;\r\n",
       "}\r\n",
       "\r\n",
       ".text_cell_render h5 {\r\n",
       "    font-family: 'Alegreya Sans', sans-serif;\r\n",
       "    font-weight: 300;\r\n",
       "    font-size: 16pt;\r\n",
       "    color: grey;\r\n",
       "    font-style: italic;\r\n",
       "    margin-bottom: .1em;\r\n",
       "    margin-top: 0.1em;\r\n",
       "    display: block;\r\n",
       "}\r\n",
       "\r\n",
       ".text_cell_render h6 {\r\n",
       "    font-family: 'PT Mono', sans-serif;\r\n",
       "    font-weight: 300;\r\n",
       "    font-size: 10pt;\r\n",
       "    color: grey;\r\n",
       "    margin-bottom: 1px;\r\n",
       "    margin-top: 1px;\r\n",
       "}\r\n",
       "\r\n",
       ".CodeMirror{\r\n",
       "        font-family: \"PT Mono\";\r\n",
       "        font-size: 100%;\r\n",
       "}\r\n",
       "\r\n",
       "</style>\r\n",
       "\r\n"
      ],
      "text/plain": [
       "HTML{String}(\"<link href='http://fonts.googleapis.com/css?family=Alegreya+Sans:100,300,400,500,700,800,900,100italic,300italic,400italic,500italic,700italic,800italic,900italic' rel='stylesheet' type='text/css'>\\r\\n<link href='http://fonts.googleapis.com/css?family=Arvo:400,700,400italic' rel='stylesheet' type='text/css'>\\r\\n<link href='http://fonts.googleapis.com/css?family=PT+Mono' rel='stylesheet' type='text/css'>\\r\\n<link href='http://fonts.googleapis.com/css?family=Shadows+Into+Light' rel='stylesheet' type='text/css'>\\r\\n<link href='http://fonts.googleapis.com/css?family=Philosopher:400,700,400italic,700italic' rel='stylesheet' type='text/css'>\\r\\n\\r\\n<style>\\r\\n\\r\\n@font-face {\\r\\n    font-family: \\\"Computer Modern\\\";\\r\\n    src: url('http://mirrors.ctan.org/fonts/cm-unicode/fonts/otf/cmunss.otf');\\r\\n}\\r\\n\\r\\n#notebook_panel { /* main background */\\r\\n    background: #ddd;\\r\\n    color: #000000;\\r\\n}\\r\\n\\r\\n\\r\\n\\r\\n/* Formatting for header cells */\\r\\n.text_cell_render h1 {\\r\\n    font-family: 'Philosopher', sans-serif;\\r\\n    font-weight: 400;\\r\\n    font-size: 2.2em;\\r\\n    line-height: 100%;\\r\\n    color: rgb(0, 80, 120);\\r\\n    margin-bottom: 0.1em;\\r\\n    margin-top: 0.1em;\\r\\n    display: block;\\r\\n}\\t\\r\\n.text_cell_render h2 {\\r\\n    font-family: 'Philosopher', serif;\\r\\n    font-weight: 400;\\r\\n    font-size: 1.9em;\\r\\n    line-height: 100%;\\r\\n    color: rgb(200,100,0);\\r\\n    margin-bottom: 0.1em;\\r\\n    margin-top: 0.1em;\\r\\n    display: block;\\r\\n}\\t\\r\\n\\r\\n.text_cell_render h3 {\\r\\n    font-family: 'Philosopher', serif;\\r\\n    margin-top:12px;\\r\\n    margin-bottom: 3px;\\r\\n    font-style: italic;\\r\\n    color: rgb(94,127,192);\\r\\n}\\r\\n\\r\\n.text_cell_render h4 {\\r\\n    font-family: 'Philosopher', serif;\\r\\n}\\r\\n\\r\\n.text_cell_render h5 {\\r\\n    font-family: 'Alegreya Sans', sans-serif;\\r\\n    font-weight: 300;\\r\\n    font-size: 16pt;\\r\\n    color: grey;\\r\\n    font-style: italic;\\r\\n    margin-bottom: .1em;\\r\\n    margin-top: 0.1em;\\r\\n    display: block;\\r\\n}\\r\\n\\r\\n.text_cell_render h6 {\\r\\n    font-family: 'PT Mono', sans-serif;\\r\\n    font-weight: 300;\\r\\n    font-size: 10pt;\\r\\n    color: grey;\\r\\n    margin-bottom: 1px;\\r\\n    margin-top: 1px;\\r\\n}\\r\\n\\r\\n.CodeMirror{\\r\\n        font-family: \\\"PT Mono\\\";\\r\\n        font-size: 100%;\\r\\n}\\r\\n\\r\\n</style>\\r\\n\\r\\n\")"
      ]
     },
     "execution_count": 1,
     "metadata": {},
     "output_type": "execute_result"
    }
   ],
   "source": [
    "# Setting up a custom stylesheet in IJulia\n",
    "# New in 0.6\n",
    "file = open(\"style.css\") # A .css file in the same folder as this notebook file\n",
    "styl = readstring(file) # Read the file\n",
    "HTML(\"$styl\") # Output as HTML"
   ]
  },
  {
   "cell_type": "markdown",
   "metadata": {},
   "source": [
    "<h1> Using the data: a rough fit of the model parameters </h1>"
   ]
  },
  {
   "cell_type": "markdown",
   "metadata": {},
   "source": [
    "<h2>In this lecture</h2>\n",
    "\n",
    "- [Outcome](#Outcome)\n",
    "- [Total cases data: observation vs model](#Total-cases-data:-observation-vs-model)\n",
    "- [Interactively fitting the model to data using the notebook](#Interactively-fitting-the-model-to-data-using-the-notebook)\n"
   ]
  },
  {
   "cell_type": "markdown",
   "metadata": {},
   "source": [
    "[Back to the top](#In-this-lecture)"
   ]
  },
  {
   "cell_type": "markdown",
   "metadata": {},
   "source": [
    "<h2>Outcome</h2>\n",
    "\n",
    "After this lecture, you will be able to\n",
    "- Extract total number of cases per epidemic day from a a run of our EVD model\n",
    "- Use a plot to compare model values to observed values\n",
    "- Use the interactive notebook to adjust $\\lambda$, $\\gamma$ and $S(0)$ \n",
    "- Estimate quickly a fairly good set of values by improving the fit of the model to the data"
   ]
  },
  {
   "cell_type": "markdown",
   "metadata": {},
   "source": [
    "[Back to the top](#In-this-lecture)"
   ]
  },
  {
   "cell_type": "markdown",
   "metadata": {},
   "source": [
    "<h2>Total cases data: observation vs model</h2>\n",
    "\n",
    "When one fits data to a model, the first thing is to ensure that the numbers from the model and the numbers from observation really represent the same thing.\n",
    "\n",
    "In this case, the data reported in Wikipedia are of two kinds: total cases to date, and total deaths. Our model does not include deaths, so we cannot use that data. Moreover, in our model there is no explicit record of the number of cases. Therefore we have first to work out how to get our model to tell us what the total number of cases are.\n",
    "\n",
    "Fortunately, that is not hard. The total cases to date is the number of people who have ever been infected. But every such person is either in the infected group currently or has moved to the removed group. So the total number of cases at time $t$ is $I(t) + R(t)$. We will use $C(t)$ to denote the modelled number of cases, and $W(t)$ for the reported number of cases from Wikipedia."
   ]
  },
  {
   "cell_type": "markdown",
   "metadata": {},
   "source": [
    "Let us rerun the model as we left it at the end of the previous lecture, with the estimates from there:"
   ]
  },
  {
   "cell_type": "code",
   "execution_count": 2,
   "metadata": {},
   "outputs": [
    {
     "data": {
      "text/plain": [
       "updateSIR (generic function with 1 method)"
      ]
     },
     "execution_count": 2,
     "metadata": {},
     "output_type": "execute_result"
    }
   ],
   "source": [
    "using Plots  # might as well start by loading Plots and choose to use the PyPlot backend\n",
    "pyplot()\n",
    "\n",
    "# now lets get the total cases data\n",
    "EVDdata            = readdlm(\"wikipediaEVDdatesconverted.csv\", ',')\n",
    "tvalsfromdata      = EVDdata[:,1]  # the epidemic day values\n",
    "totalcasesfromdata = EVDdata[:, 2]    # we'll extract individual countries when we need them\n",
    "\n",
    "# here's the function that drives the changes that happen every time step\n",
    "function updateSIR(popnvector)       # exactly the same function as before\n",
    "    susceptibles = popnvector[1];\n",
    "    infecteds    = popnvector[2]; \n",
    "    removeds     = popnvector[3];\n",
    "    newS = susceptibles - lambda*susceptibles*infecteds*dt\n",
    "    newI = infecteds + lambda*susceptibles*infecteds*dt - gam*infecteds*dt  \n",
    "    newR = removeds + gam*infecteds*dt\n",
    "    return [newS newI newR] \n",
    "end\n",
    "\n",
    "# this cell we need to run only once"
   ]
  },
  {
   "cell_type": "code",
   "execution_count": 3,
   "metadata": {},
   "outputs": [
    {
     "data": {
      "text/html": [
       "<img src=\"data:image/png;base64,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\" />"
      ]
     },
     "execution_count": 3,
     "metadata": {},
     "output_type": "execute_result"
    }
   ],
   "source": [
    "# New in 0.6\n",
    "# set parameter values\n",
    "lambda = 1.47*10^-6.   # infection rate parameter (assumes rates are per day)\n",
    "gam = 1/8.      # recovery rate parameter  (ditto)\n",
    "dt = 0.5         # length of time step in days\n",
    "tfinal = 610.;    # respecting community values: lowercase only in the names \n",
    "\n",
    "# set initial values (originally s0, lambda, gam, i = 22.*10^6., 2.3*10^-8., 0.05, 4. )\n",
    "s0 = 10.^5.     # initial susceptibles, note that we use the  type Float64 from the start\n",
    "i0 = 30.          # initial infecteds; set this to 1. to  mimic an epidemic with an index case\n",
    "r0 = 0.          # not always the case, of course\n",
    "\n",
    "# initialise \n",
    "nsteps = round(Int64, tfinal/dt)    # note the use of round() with type Int64 to ensure that nsteps is an integer\n",
    "resultvals = Array{Float64}(nsteps+1, 3)  #initialise array of type Float64 to hold results\n",
    "timevec = Array{Float64}(nsteps+1)        # ... ditto for time values\n",
    "resultvals[1,:] = [s0, i0, r0]  # ... and assign them to the first row\n",
    "timevec[1] = 0.                 # also Float64, of course.\n",
    "\n",
    "# the main loop over time steps\n",
    "for step  = 1:nsteps\n",
    "    resultvals[step+1, :] = updateSIR(resultvals[step, :])  # NB! pay careful attention to the rows being used\n",
    "    timevec[step+1] = timevec[step] + dt\n",
    "end\n",
    "\n",
    "# make the plot\n",
    "ivals = resultvals[:, 2]\n",
    "rvals = resultvals[:, 3]\n",
    "cvals = ivals + rvals     # assemble the model values for the case\n",
    "\n",
    "plot(timevec, cvals,       # first the model's output s plotted as a line\n",
    "label = \"Model values\",\n",
    "xlabel = \"Epidemic day\",\n",
    "ylabel = \"Number of cases to date\",\n",
    "title = \"Model versus data\")\n",
    "\n",
    "plot!(tvalsfromdata, totalcasesfromdata,\n",
    "#legend = :right,\n",
    "line = :scatter,\n",
    "label = \"Reported number of cases\")"
   ]
  },
  {
   "cell_type": "markdown",
   "metadata": {},
   "source": [
    "There's quite a lot wrong here! Obviously the epidemic is going to far, too fast. We might also like to add \"legend = :right\" to stop it blocking things ... but we don't know where it is going  to be needed, so that would premature."
   ]
  },
  {
   "cell_type": "markdown",
   "metadata": {},
   "source": [
    "[Back to the top](#In-this-lecture)"
   ]
  },
  {
   "cell_type": "markdown",
   "metadata": {},
   "source": [
    "<h2>Interactively fitting the model to data using the notebook</h2>\n",
    "\n",
    "We now interactively use the notebook, changing the values of $S(0)$, $\\lambda$ and $\\gamma$. In fact, it makes a difference what we set $I(0)$ as well, because that influences the  start of the modelled epidemic quite a bit. While in principle also $R(0)$ also matters, it is very small and hence it's influence is minimal.\n",
    "\n",
    "It turns out that we have to adjust $S(0)$ especially, and accordingly the value of $\\lambda$ needs to be adjusted as well.\n",
    "\n",
    "No need to write out new code, we just navigate up to the cell where the model is run and plotted, and play there.\n",
    "\n",
    "(The values of using $S(0) = 10^5$, $I(0) = 30$, $\\gamma = 1/8$ and $\\lambda = 1.47 \\times 10^{−6}$ were found by extensive experimentation of this kind)."
   ]
  },
  {
   "cell_type": "markdown",
   "metadata": {},
   "source": [
    "[Back to the top](#In-this-lecture)"
   ]
  },
  {
   "cell_type": "code",
   "execution_count": null,
   "metadata": {
    "collapsed": true
   },
   "outputs": [],
   "source": []
  }
 ],
 "metadata": {
  "hide_input": false,
  "kernelspec": {
   "display_name": "Julia 0.6.0",
   "language": "julia",
   "name": "julia-0.6"
  },
  "language_info": {
   "file_extension": ".jl",
   "mimetype": "application/julia",
   "name": "julia",
   "version": "0.6.0"
  },
  "varInspector": {
   "cols": {
    "lenName": 16,
    "lenType": 16,
    "lenVar": 40
   },
   "kernels_config": {
    "python": {
     "delete_cmd_postfix": "",
     "delete_cmd_prefix": "del ",
     "library": "var_list.py",
     "varRefreshCmd": "print(var_dic_list())"
    },
    "r": {
     "delete_cmd_postfix": ") ",
     "delete_cmd_prefix": "rm(",
     "library": "var_list.r",
     "varRefreshCmd": "cat(var_dic_list()) "
    }
   },
   "types_to_exclude": [
    "module",
    "function",
    "builtin_function_or_method",
    "instance",
    "_Feature"
   ],
   "window_display": false
  }
 },
 "nbformat": 4,
 "nbformat_minor": 1
}
