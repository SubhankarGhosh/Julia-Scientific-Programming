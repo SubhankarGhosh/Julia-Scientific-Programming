{
 "cells": [
  {
   "cell_type": "code",
   "execution_count": 1,
   "metadata": {},
   "outputs": [
    {
     "data": {
      "text/html": [
       "<link href='http://fonts.googleapis.com/css?family=Alegreya+Sans:100,300,400,500,700,800,900,100italic,300italic,400italic,500italic,700italic,800italic,900italic' rel='stylesheet' type='text/css'>\r\n",
       "<link href='http://fonts.googleapis.com/css?family=Arvo:400,700,400italic' rel='stylesheet' type='text/css'>\r\n",
       "<link href='http://fonts.googleapis.com/css?family=PT+Mono' rel='stylesheet' type='text/css'>\r\n",
       "<link href='http://fonts.googleapis.com/css?family=Shadows+Into+Light' rel='stylesheet' type='text/css'>\r\n",
       "<link href='http://fonts.googleapis.com/css?family=Philosopher:400,700,400italic,700italic' rel='stylesheet' type='text/css'>\r\n",
       "\r\n",
       "<style>\r\n",
       "\r\n",
       "@font-face {\r\n",
       "    font-family: \"Computer Modern\";\r\n",
       "    src: url('http://mirrors.ctan.org/fonts/cm-unicode/fonts/otf/cmunss.otf');\r\n",
       "}\r\n",
       "\r\n",
       "#notebook_panel { /* main background */\r\n",
       "    background: #ddd;\r\n",
       "    color: #000000;\r\n",
       "}\r\n",
       "\r\n",
       "\r\n",
       "\r\n",
       "/* Formatting for header cells */\r\n",
       ".text_cell_render h1 {\r\n",
       "    font-family: 'Philosopher', sans-serif;\r\n",
       "    font-weight: 400;\r\n",
       "    font-size: 2.2em;\r\n",
       "    line-height: 100%;\r\n",
       "    color: rgb(0, 80, 120);\r\n",
       "    margin-bottom: 0.1em;\r\n",
       "    margin-top: 0.1em;\r\n",
       "    display: block;\r\n",
       "}\t\r\n",
       ".text_cell_render h2 {\r\n",
       "    font-family: 'Philosopher', serif;\r\n",
       "    font-weight: 400;\r\n",
       "    font-size: 1.9em;\r\n",
       "    line-height: 100%;\r\n",
       "    color: rgb(200,100,0);\r\n",
       "    margin-bottom: 0.1em;\r\n",
       "    margin-top: 0.1em;\r\n",
       "    display: block;\r\n",
       "}\t\r\n",
       "\r\n",
       ".text_cell_render h3 {\r\n",
       "    font-family: 'Philosopher', serif;\r\n",
       "    margin-top:12px;\r\n",
       "    margin-bottom: 3px;\r\n",
       "    font-style: italic;\r\n",
       "    color: rgb(94,127,192);\r\n",
       "}\r\n",
       "\r\n",
       ".text_cell_render h4 {\r\n",
       "    font-family: 'Philosopher', serif;\r\n",
       "}\r\n",
       "\r\n",
       ".text_cell_render h5 {\r\n",
       "    font-family: 'Alegreya Sans', sans-serif;\r\n",
       "    font-weight: 300;\r\n",
       "    font-size: 16pt;\r\n",
       "    color: grey;\r\n",
       "    font-style: italic;\r\n",
       "    margin-bottom: .1em;\r\n",
       "    margin-top: 0.1em;\r\n",
       "    display: block;\r\n",
       "}\r\n",
       "\r\n",
       ".text_cell_render h6 {\r\n",
       "    font-family: 'PT Mono', sans-serif;\r\n",
       "    font-weight: 300;\r\n",
       "    font-size: 10pt;\r\n",
       "    color: grey;\r\n",
       "    margin-bottom: 1px;\r\n",
       "    margin-top: 1px;\r\n",
       "}\r\n",
       "\r\n",
       ".CodeMirror{\r\n",
       "        font-family: \"PT Mono\";\r\n",
       "        font-size: 100%;\r\n",
       "}\r\n",
       "\r\n",
       "</style>\r\n",
       "\r\n"
      ],
      "text/plain": [
       "HTML{String}(\"<link href='http://fonts.googleapis.com/css?family=Alegreya+Sans:100,300,400,500,700,800,900,100italic,300italic,400italic,500italic,700italic,800italic,900italic' rel='stylesheet' type='text/css'>\\r\\n<link href='http://fonts.googleapis.com/css?family=Arvo:400,700,400italic' rel='stylesheet' type='text/css'>\\r\\n<link href='http://fonts.googleapis.com/css?family=PT+Mono' rel='stylesheet' type='text/css'>\\r\\n<link href='http://fonts.googleapis.com/css?family=Shadows+Into+Light' rel='stylesheet' type='text/css'>\\r\\n<link href='http://fonts.googleapis.com/css?family=Philosopher:400,700,400italic,700italic' rel='stylesheet' type='text/css'>\\r\\n\\r\\n<style>\\r\\n\\r\\n@font-face {\\r\\n    font-family: \\\"Computer Modern\\\";\\r\\n    src: url('http://mirrors.ctan.org/fonts/cm-unicode/fonts/otf/cmunss.otf');\\r\\n}\\r\\n\\r\\n#notebook_panel { /* main background */\\r\\n    background: #ddd;\\r\\n    color: #000000;\\r\\n}\\r\\n\\r\\n\\r\\n\\r\\n/* Formatting for header cells */\\r\\n.text_cell_render h1 {\\r\\n    font-family: 'Philosopher', sans-serif;\\r\\n    font-weight: 400;\\r\\n    font-size: 2.2em;\\r\\n    line-height: 100%;\\r\\n    color: rgb(0, 80, 120);\\r\\n    margin-bottom: 0.1em;\\r\\n    margin-top: 0.1em;\\r\\n    display: block;\\r\\n}\\t\\r\\n.text_cell_render h2 {\\r\\n    font-family: 'Philosopher', serif;\\r\\n    font-weight: 400;\\r\\n    font-size: 1.9em;\\r\\n    line-height: 100%;\\r\\n    color: rgb(200,100,0);\\r\\n    margin-bottom: 0.1em;\\r\\n    margin-top: 0.1em;\\r\\n    display: block;\\r\\n}\\t\\r\\n\\r\\n.text_cell_render h3 {\\r\\n    font-family: 'Philosopher', serif;\\r\\n    margin-top:12px;\\r\\n    margin-bottom: 3px;\\r\\n    font-style: italic;\\r\\n    color: rgb(94,127,192);\\r\\n}\\r\\n\\r\\n.text_cell_render h4 {\\r\\n    font-family: 'Philosopher', serif;\\r\\n}\\r\\n\\r\\n.text_cell_render h5 {\\r\\n    font-family: 'Alegreya Sans', sans-serif;\\r\\n    font-weight: 300;\\r\\n    font-size: 16pt;\\r\\n    color: grey;\\r\\n    font-style: italic;\\r\\n    margin-bottom: .1em;\\r\\n    margin-top: 0.1em;\\r\\n    display: block;\\r\\n}\\r\\n\\r\\n.text_cell_render h6 {\\r\\n    font-family: 'PT Mono', sans-serif;\\r\\n    font-weight: 300;\\r\\n    font-size: 10pt;\\r\\n    color: grey;\\r\\n    margin-bottom: 1px;\\r\\n    margin-top: 1px;\\r\\n}\\r\\n\\r\\n.CodeMirror{\\r\\n        font-family: \\\"PT Mono\\\";\\r\\n        font-size: 100%;\\r\\n}\\r\\n\\r\\n</style>\\r\\n\\r\\n\")"
      ]
     },
     "execution_count": 1,
     "metadata": {},
     "output_type": "execute_result"
    }
   ],
   "source": [
    "# Setting up a custom stylesheet in IJulia\n",
    "# New in 0.6\n",
    "file = open(\"style.css\") # A .css file in the same folder as this notebook file\n",
    "styl = readstring(file) # Read the file\n",
    "HTML(\"$styl\") # Output as HTML"
   ]
  },
  {
   "cell_type": "markdown",
   "metadata": {},
   "source": [
    "<h1> SIR models of disease dynamics </h1>"
   ]
  },
  {
   "cell_type": "markdown",
   "metadata": {},
   "source": [
    "<h2>In this lecture</h2>\n",
    "\n",
    "- [Outcome](#Outcome)\n",
    "- [SIR Models: the concepts](#SIR-Models:-the-concepts)\n",
    "- [SIR Models: the equations](#SIR-Models:-the-equations)\n",
    "- [Julia code: the function for one time-step](#Julia-code:-the-function-for-one-time-step)\n",
    "- [Julia code: the loop structure](#Julia-code:-the-loop-structure)\n",
    "- [Running the model](#Running-the-model)\n",
    "- [Plotting the results](#Plotting-the-results)\n"
   ]
  },
  {
   "cell_type": "markdown",
   "metadata": {},
   "source": [
    "[Back to the top](#In-this-lecture)"
   ]
  },
  {
   "cell_type": "markdown",
   "metadata": {},
   "source": [
    "<h2>Outcome</h2>\n",
    "\n",
    "After this lecture, you will be able to\n",
    "- Define the compartments S, I and R of an SIR\n",
    "- Formulate an SIR model for infectious diseases\n",
    "- Write a \"for\" loop to for an SIR model \n",
    "- Plot the curves for S(t), I(t) and R(t)\n",
    "\n",
    "[Back to the top](#In-this-lecture)"
   ]
  },
  {
   "cell_type": "markdown",
   "metadata": {},
   "source": [
    "<h2>SIR Models: the concepts</h2>\n",
    "\n",
    "SIR models formalise what is probably the simplest possible way to think of an epidemic: \n",
    "- before the epidemic starts, there is a population at risk of catching the disease\n",
    "- the disease spreads from infected to susceptible people\n",
    "- after a while, people are no longer infected\n",
    "- once infected, people are never infected again\n",
    "- we ignore all other differences between people\n",
    "\n",
    "We use the symbol $S$ for the number of people who are still at risk of the disease. \"$S$\" is short for \"susceptible\", meaning a person who hasn't had the disease and might catch it. We think of $S$ as a function of time, that is, we think that as the epidemic progresses, $S$ changes. Therefore we write $S(t)$ for the number of suseptibles at time $t$.\n",
    "\n",
    "The number $S(0)$, which is the number of susceptibles at the start of the epidemic, is a key value in this model.\n",
    "\n",
    "The number of infected people at time $t$ is given by $I(t)$. We assume that $I(0) > 0$, because otherwise the epidemic can't start.\n",
    "\n",
    "Finally, the people previously infected but no longer infectious are called \"removed\". (Unfortunately, this doesn't mean they've recovered. They may still be ill, or as happens tragically often with Ebola, they may be dead). We use $R(t)$ to symbolise the number of removed people  at time $t$.\n",
    "\n",
    "\n"
   ]
  },
  {
   "cell_type": "markdown",
   "metadata": {},
   "source": [
    "**NB! It is not necessary for S, I and R to be whole numbers. ** This is a model, and all we want is for the predicted values of $S$, $I$ and $R$ to be close to what is observed. By close we mean within a few percent. In fact, because the models are so simple and the real situation so variable, getting numbers within a few percent is a major achievement.\n",
    "\n",
    "Unfortunately, this is usually possible only with  hindsight. We will show that an SIR model can do pretty well for the 2014 West African EVD epidemic, but it will be with hindsight. The course of the epidemic was not successfully predicted until it was nearly over."
   ]
  },
  {
   "cell_type": "markdown",
   "metadata": {},
   "source": [
    "[Back to the top](#In-this-lecture)"
   ]
  },
  {
   "cell_type": "markdown",
   "metadata": {},
   "source": [
    "<h2>SIR Models: the equations</h2>\n",
    "\n",
    "We will model $S$, $I$ and $R$ in discrete time steps. In fact, we will use the same length of time step $dt$ for every step. We denote by $t_i$ the time after $i$ steps. Since we assume that $t_0 = 0$, we have $t_i = i\\,dt$.\n",
    "\n",
    "The model steps from $t_i$ to $t_{i+1}$, so what we want to do is use the values of $S(t_i)$, $I(t_i)$ and $R(t_i)$ to predict the values $S(t_{i+1})$, $I(t_{i+1})$ and $R(t_{i+1})$. So our model is set up in terms of three equations.\n",
    "\n",
    "These equations all have the form \"new value = old value + gains - losses\". The model specifies how we calculate the gains and losses.\n",
    "\n",
    "For susceptibles, there is only a loss term. The simplest SIR models come from the so-called \"law of mass action\". This law holds that all susceptibles have an equal chance of meeting an infected person. And the same is assumed for infected people. Then the number of  meetings of infecteds and susceptibles is proportional to product $SI$. We use the symbol $\\lambda$ for the constant of proportionality, and we interpret $\\lambda SI$ as the rate at which susceptibles become infected. This is of course a rate per day. So the actual loss over the time step $dt$ is actually $\\lambda SI\\,dt$ so the equation for $S$ is\n",
    "\n",
    "1 ...     $ S(t_{i+1}) = S(t_i) - \\lambda S(t_i)I(t_i)\\,dt$.\n",
    "\n",
    "On the other hand, the loss rate for infected people is just a constant probability of recovery per unit time. So a constant fraction $\\gamma$ is removed from the infecteds per day. This gives a loss of $\\gamma I$ infecteds per day, which is $\\gamma I\\,dt$ loss of infecteds per time step. The gain of infecteds must be exactly the susceptibles who become infected, so the equation for $I$ is\n",
    "\n",
    "2 ...     $I(t_{i+1}) = I(t_i) + \\lambda S(t_i)I(t_i)\\,dt - \\gamma I(t_i)\\,dt$.\n",
    "\n",
    "In an SIR model, the removed population equation has only a gain term, no loss term. What is lost from infecteds is gained by removeds, so the equation for $R$ is\n",
    "\n",
    "3 ...     $R(t_{i+1}) = R(t_i) + \\gamma I(t_i)\\,dt$.\n",
    "\n",
    "Our discrete SIR model consists of equations 1, 2 and 3 for $S$, $I$, $R$."
   ]
  },
  {
   "cell_type": "markdown",
   "metadata": {},
   "source": [
    "[Back to the top](#In-this-lecture)"
   ]
  },
  {
   "cell_type": "markdown",
   "metadata": {},
   "source": [
    "<h2>Julia code: the function for one time-step</h2>\n",
    "\n",
    "So now we consider the best way to write the Julia code. We have several options: we could write a \"for\" loop with the three equations inside; we could make three functions, one for each of $S$, $I$ and $R$; we could combine all three into one array and write one function to update all three at the same time. We will do that here.\n",
    "\n",
    "**Julia functions have access to all variables that are visible at the level that the function is created**\n",
    "\n",
    "This feature of Julia will surprise many experienced programmers. If we assign a value to the variable b and then call a function that uses b without mentioning b in the argument of the function, the function will nevertheless use the value of b as needed. See below:\n"
   ]
  },
  {
   "cell_type": "code",
   "execution_count": 2,
   "metadata": {},
   "outputs": [
    {
     "data": {
      "text/plain": [
       "24"
      ]
     },
     "execution_count": 2,
     "metadata": {},
     "output_type": "execute_result"
    }
   ],
   "source": [
    "b = 4;\n",
    "f(x) = b*x\n",
    "f(6)"
   ]
  },
  {
   "cell_type": "markdown",
   "metadata": {},
   "source": [
    "We will use this feature to pass the values of $\\lambda$ and $\\gamma$ to the updating function. That is, in writing the code for the function, we pass it only the $S$, $I$, $R$ arguments and take the parameter values from the context in which the function is called. This is actually amazingly convenient, especially when we want to experiment with different parameter values for  the sake of fitting the model output to the data.\n",
    "\n",
    "This means the function looks like this:"
   ]
  },
  {
   "cell_type": "code",
   "execution_count": 3,
   "metadata": {},
   "outputs": [
    {
     "data": {
      "text/plain": [
       "updateSIR (generic function with 1 method)"
      ]
     },
     "execution_count": 3,
     "metadata": {},
     "output_type": "execute_result"
    }
   ],
   "source": [
    "function updateSIR(popnvector)       # some liberty here: using upper case in the function name\n",
    "    susceptibles = popnvector[1];\n",
    "    infecteds    = popnvector[2]; \n",
    "    removeds     = popnvector[3];\n",
    "    newS = susceptibles - lambda*susceptibles*infecteds*dt\n",
    "    newI = infecteds + lambda*susceptibles*infecteds*dt - gam*infecteds*dt  #note abbreviation for gamma (see below)\n",
    "    newR = removeds + gam*infecteds*dt\n",
    "    return [newS newI newR]   # NB! spaces only to make this a one row of a two-dimensional array\n",
    "    #                   and note the use of \"return\" to specify what the function output should be \n",
    "end"
   ]
  },
  {
   "cell_type": "markdown",
   "metadata": {},
   "source": [
    "One should always do at least minimal checking that a function works as expected. \n",
    "\n",
    "For professional code, one should do extensive checking, both of output and input ... one should in fact write the function so that if it fails, it fails  gracefully, and give it some protection against error conditions. But we're not writing professional code!\n",
    "\n",
    "On the other hand, let us take the opportunity also to illustrate some typical bugs and how to meet them."
   ]
  },
  {
   "cell_type": "code",
   "execution_count": 4,
   "metadata": {},
   "outputs": [
    {
     "data": {
      "text/plain": [
       "1×3 Array{Float64,2}:\n",
       " 975.0  34.5  20.5"
      ]
     },
     "execution_count": 4,
     "metadata": {},
     "output_type": "execute_result"
    }
   ],
   "source": [
    "# first we set the parameters\n",
    "dt = 0.5                    # so we are taking two steps per day\n",
    "lambda = 1/200; gam = 1/10  #note that gamma is a function in the stats packages, so let's not use it as a name\n",
    "\n",
    "# then we specify the input vector to the function\n",
    "s, i, r = 1000., 10, 20  # multiple assignment\n",
    "vec = [s i r]         # followed by creating the input vector; spaces again so that it is a row of an array\n",
    "updateSIR(vec)        # finally the actual function call to test the function"
   ]
  },
  {
   "cell_type": "markdown",
   "metadata": {},
   "source": [
    "[Back to the top](#In-this-lecture)"
   ]
  },
  {
   "cell_type": "markdown",
   "metadata": {},
   "source": [
    "<h2>Julia code: the loop structure</h2>\n",
    "\n",
    "Now we consider the loop structure. We can't run the model indefinitely, of course, so there has to be a definite end time $T_f$. We will use $T_f=610$ days, which is just a little more than the number of epidemic days in the data from Wikipedia.\n",
    "\n",
    "The number of steps is then in principle $n = T_f/dt$, but here is a delicate moment in the use of computers. Computer arithmetic is not infinitely precise, and so we cannot be quite sure that if we use the computer to calculate $n$ in this way that we will exactly have $n\\,dt = T_f$ as we expect on the grounds of algebra. I like to set time as a separate variable, to keep explicit track of step number $i$, and to continue for $n$ steps. Then if at the end the time is not exactly $T_f$ it doesn't matter, because it will be extremely close to it.\n",
    "\n",
    "The take-home message is DO NOT RELY ON EXACT EQUALITY, even if you can reasonably expect it. Computers normally are only very close to the numbers you, the programmer, are thinking of (excluding again the exactness that professional programmers may sometimes achieve).\n",
    "\n",
    "Knowing the value of $n$ also allows us to initialise an array to hold all the values as they're collected, one row of three elements for each value of the time. This will end up being $n+1$ values, of course.\n",
    "\n",
    "So here is the concept code:"
   ]
  },
  {
   "cell_type": "code",
   "execution_count": 7,
   "metadata": {},
   "outputs": [],
   "source": [
    "# New in 0.6\n",
    "tfinal = 610;    # respecting community values: lowercase only in the names \n",
    "nsteps = round(Int64, tfinal/dt)    # note the use of round() with type Int64 to ensure that nsteps is an integer\n",
    "resultvals = Array{Float64}(nsteps+1, 3)  #initialise array of type Float64 to hold results\n",
    "timevec = Array{Float64}(nsteps+1)        # ... ditto for time values\n",
    "\n",
    "# specify the initial values S(0), I(0), R(0)\n",
    "# resultvals[1,:] = [s0, i0, r0]  # ... and assign them to the first row\n",
    "\n",
    "for step  = 1:nsteps\n",
    "    # call updateSIR with the step vals and load result into resultvals[step+1, :]\n",
    "    # update time and load it into timevec\n",
    "end"
   ]
  },
  {
   "cell_type": "markdown",
   "metadata": {},
   "source": [
    "[Back to the top](#In-this-lecture)"
   ]
  },
  {
   "cell_type": "markdown",
   "metadata": {},
   "source": [
    "<h2>Running the model</h2>\n",
    "\n",
    "We can now run the model. To illustrate the steps, I paste the  cell above into the cell below, and supply the missing bits, this includes the parameter values that we set up before, but not the updateSIR function, as we do not wish to modify that."
   ]
  },
  {
   "cell_type": "code",
   "execution_count": 8,
   "metadata": {},
   "outputs": [],
   "source": [
    "# New in 0.6\n",
    "# set the values that define the current run\n",
    "lambda = 1/20000   # infection rate parameter (assumes rates are per day)\n",
    "gam = 1/10       # recovery rate parameter  (ditto)\n",
    "dt = 0.5         # length of time step in days\n",
    "tfinal = 610;    # respecting community values: lowercase only in the names \n",
    "s0 = 10000.0     # initial susceptibles, note that we use the  type Float64 from the start\n",
    "i0 = 4.          # initial infecteds; set this to 1. to  mimic an epidemic with an index case\n",
    "r0 = 0.          # not always the case, of course\n",
    "\n",
    "# initialise \n",
    "nsteps = round(Int64, tfinal/dt)    # note the use of round() with type Int64 to ensure that nsteps is an integer\n",
    "resultvals = Array{Float64}(nsteps+1, 3)  #initialise array of type Float64 to hold results\n",
    "timevec = Array{Float64}(nsteps+1)        # ... ditto for time values\n",
    "resultvals[1,:] = [s0, i0, r0]  # ... and assign them to the first row\n",
    "timevec[1] = 0.                 # also Float64, of course.\n",
    "\n",
    "for step  = 1:nsteps\n",
    "    resultvals[step+1, :] = updateSIR(resultvals[step, :])  # NB! pay careful attention to the rows being used\n",
    "    timevec[step+1] = timevec[step] + dt\n",
    "end"
   ]
  },
  {
   "cell_type": "markdown",
   "metadata": {},
   "source": [
    "[Back to the top](#In-this-lecture)"
   ]
  },
  {
   "cell_type": "markdown",
   "metadata": {},
   "source": [
    "<h2>Plotting the results</h2>\n",
    "\n",
    "It is now simple  to plot the three population components versus the time.\n",
    "\n"
   ]
  },
  {
   "cell_type": "code",
   "execution_count": 9,
   "metadata": {},
   "outputs": [
    {
     "data": {
      "text/html": [
       "<img src=\"data:image/png;base64,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\" />"
      ]
     },
     "execution_count": 9,
     "metadata": {},
     "output_type": "execute_result"
    }
   ],
   "source": [
    "using Plots\n",
    "pyplot()\n",
    "plot(timevec, resultvals)  # quick and dirty! Plots ought to interpret this as we mean it ..."
   ]
  },
  {
   "cell_type": "code",
   "execution_count": 10,
   "metadata": {},
   "outputs": [
    {
     "data": {
      "text/html": [
       "<img src=\"data:image/png;base64,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\" />"
      ]
     },
     "execution_count": 10,
     "metadata": {},
     "output_type": "execute_result"
    }
   ],
   "source": [
    "plot(timevec, resultvals,  # we should of course at a minimum provide some labels\n",
    "title  = \"Example of SIR results\",\n",
    "xlabel = \"Epidemic day\",\n",
    "ylabel = \"Population size\",\n",
    "label  = [\"Susceptibles\" \"Infecteds\" \"Removeds\"]\n",
    ")"
   ]
  },
  {
   "cell_type": "markdown",
   "metadata": {},
   "source": [
    "[Back to the top](#In-this-lecture)"
   ]
  },
  {
   "cell_type": "code",
   "execution_count": null,
   "metadata": {
    "collapsed": true
   },
   "outputs": [],
   "source": []
  }
 ],
 "metadata": {
  "hide_input": false,
  "kernelspec": {
   "display_name": "Julia 0.6.0",
   "language": "julia",
   "name": "julia-0.6"
  },
  "language_info": {
   "file_extension": ".jl",
   "mimetype": "application/julia",
   "name": "julia",
   "version": "0.6.0"
  },
  "varInspector": {
   "cols": {
    "lenName": 16,
    "lenType": 16,
    "lenVar": 40
   },
   "kernels_config": {
    "python": {
     "delete_cmd_postfix": "",
     "delete_cmd_prefix": "del ",
     "library": "var_list.py",
     "varRefreshCmd": "print(var_dic_list())"
    },
    "r": {
     "delete_cmd_postfix": ") ",
     "delete_cmd_prefix": "rm(",
     "library": "var_list.r",
     "varRefreshCmd": "cat(var_dic_list()) "
    }
   },
   "types_to_exclude": [
    "module",
    "function",
    "builtin_function_or_method",
    "instance",
    "_Feature"
   ],
   "window_display": false
  }
 },
 "nbformat": 4,
 "nbformat_minor": 1
}
