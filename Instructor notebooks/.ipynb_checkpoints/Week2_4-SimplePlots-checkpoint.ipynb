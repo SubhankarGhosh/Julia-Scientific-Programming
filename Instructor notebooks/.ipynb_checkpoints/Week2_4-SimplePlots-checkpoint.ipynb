{
 "cells": [
  {
   "cell_type": "code",
   "execution_count": 1,
   "metadata": {},
   "outputs": [
    {
     "data": {
      "text/html": [
       "<link href='http://fonts.googleapis.com/css?family=Alegreya+Sans:100,300,400,500,700,800,900,100italic,300italic,400italic,500italic,700italic,800italic,900italic' rel='stylesheet' type='text/css'>\r\n",
       "<link href='http://fonts.googleapis.com/css?family=Arvo:400,700,400italic' rel='stylesheet' type='text/css'>\r\n",
       "<link href='http://fonts.googleapis.com/css?family=PT+Mono' rel='stylesheet' type='text/css'>\r\n",
       "<link href='http://fonts.googleapis.com/css?family=Shadows+Into+Light' rel='stylesheet' type='text/css'>\r\n",
       "<link href='http://fonts.googleapis.com/css?family=Philosopher:400,700,400italic,700italic' rel='stylesheet' type='text/css'>\r\n",
       "\r\n",
       "<style>\r\n",
       "\r\n",
       "@font-face {\r\n",
       "    font-family: \"Computer Modern\";\r\n",
       "    src: url('http://mirrors.ctan.org/fonts/cm-unicode/fonts/otf/cmunss.otf');\r\n",
       "}\r\n",
       "\r\n",
       "#notebook_panel { /* main background */\r\n",
       "    background: #ddd;\r\n",
       "    color: #000000;\r\n",
       "}\r\n",
       "\r\n",
       "\r\n",
       "\r\n",
       "/* Formatting for header cells */\r\n",
       ".text_cell_render h1 {\r\n",
       "    font-family: 'Philosopher', sans-serif;\r\n",
       "    font-weight: 400;\r\n",
       "    font-size: 2.2em;\r\n",
       "    line-height: 100%;\r\n",
       "    color: rgb(0, 80, 120);\r\n",
       "    margin-bottom: 0.1em;\r\n",
       "    margin-top: 0.1em;\r\n",
       "    display: block;\r\n",
       "}\t\r\n",
       ".text_cell_render h2 {\r\n",
       "    font-family: 'Philosopher', serif;\r\n",
       "    font-weight: 400;\r\n",
       "    font-size: 1.9em;\r\n",
       "    line-height: 100%;\r\n",
       "    color: rgb(200,100,0);\r\n",
       "    margin-bottom: 0.1em;\r\n",
       "    margin-top: 0.1em;\r\n",
       "    display: block;\r\n",
       "}\t\r\n",
       "\r\n",
       ".text_cell_render h3 {\r\n",
       "    font-family: 'Philosopher', serif;\r\n",
       "    margin-top:12px;\r\n",
       "    margin-bottom: 3px;\r\n",
       "    font-style: italic;\r\n",
       "    color: rgb(94,127,192);\r\n",
       "}\r\n",
       "\r\n",
       ".text_cell_render h4 {\r\n",
       "    font-family: 'Philosopher', serif;\r\n",
       "}\r\n",
       "\r\n",
       ".text_cell_render h5 {\r\n",
       "    font-family: 'Alegreya Sans', sans-serif;\r\n",
       "    font-weight: 300;\r\n",
       "    font-size: 16pt;\r\n",
       "    color: grey;\r\n",
       "    font-style: italic;\r\n",
       "    margin-bottom: .1em;\r\n",
       "    margin-top: 0.1em;\r\n",
       "    display: block;\r\n",
       "}\r\n",
       "\r\n",
       ".text_cell_render h6 {\r\n",
       "    font-family: 'PT Mono', sans-serif;\r\n",
       "    font-weight: 300;\r\n",
       "    font-size: 10pt;\r\n",
       "    color: grey;\r\n",
       "    margin-bottom: 1px;\r\n",
       "    margin-top: 1px;\r\n",
       "}\r\n",
       "\r\n",
       ".CodeMirror{\r\n",
       "        font-family: \"PT Mono\";\r\n",
       "        font-size: 100%;\r\n",
       "}\r\n",
       "\r\n",
       "</style>\r\n",
       "\r\n"
      ],
      "text/plain": [
       "HTML{String}(\"<link href='http://fonts.googleapis.com/css?family=Alegreya+Sans:100,300,400,500,700,800,900,100italic,300italic,400italic,500italic,700italic,800italic,900italic' rel='stylesheet' type='text/css'>\\r\\n<link href='http://fonts.googleapis.com/css?family=Arvo:400,700,400italic' rel='stylesheet' type='text/css'>\\r\\n<link href='http://fonts.googleapis.com/css?family=PT+Mono' rel='stylesheet' type='text/css'>\\r\\n<link href='http://fonts.googleapis.com/css?family=Shadows+Into+Light' rel='stylesheet' type='text/css'>\\r\\n<link href='http://fonts.googleapis.com/css?family=Philosopher:400,700,400italic,700italic' rel='stylesheet' type='text/css'>\\r\\n\\r\\n<style>\\r\\n\\r\\n@font-face {\\r\\n    font-family: \\\"Computer Modern\\\";\\r\\n    src: url('http://mirrors.ctan.org/fonts/cm-unicode/fonts/otf/cmunss.otf');\\r\\n}\\r\\n\\r\\n#notebook_panel { /* main background */\\r\\n    background: #ddd;\\r\\n    color: #000000;\\r\\n}\\r\\n\\r\\n\\r\\n\\r\\n/* Formatting for header cells */\\r\\n.text_cell_render h1 {\\r\\n    font-family: 'Philosopher', sans-serif;\\r\\n    font-weight: 400;\\r\\n    font-size: 2.2em;\\r\\n    line-height: 100%;\\r\\n    color: rgb(0, 80, 120);\\r\\n    margin-bottom: 0.1em;\\r\\n    margin-top: 0.1em;\\r\\n    display: block;\\r\\n}\\t\\r\\n.text_cell_render h2 {\\r\\n    font-family: 'Philosopher', serif;\\r\\n    font-weight: 400;\\r\\n    font-size: 1.9em;\\r\\n    line-height: 100%;\\r\\n    color: rgb(200,100,0);\\r\\n    margin-bottom: 0.1em;\\r\\n    margin-top: 0.1em;\\r\\n    display: block;\\r\\n}\\t\\r\\n\\r\\n.text_cell_render h3 {\\r\\n    font-family: 'Philosopher', serif;\\r\\n    margin-top:12px;\\r\\n    margin-bottom: 3px;\\r\\n    font-style: italic;\\r\\n    color: rgb(94,127,192);\\r\\n}\\r\\n\\r\\n.text_cell_render h4 {\\r\\n    font-family: 'Philosopher', serif;\\r\\n}\\r\\n\\r\\n.text_cell_render h5 {\\r\\n    font-family: 'Alegreya Sans', sans-serif;\\r\\n    font-weight: 300;\\r\\n    font-size: 16pt;\\r\\n    color: grey;\\r\\n    font-style: italic;\\r\\n    margin-bottom: .1em;\\r\\n    margin-top: 0.1em;\\r\\n    display: block;\\r\\n}\\r\\n\\r\\n.text_cell_render h6 {\\r\\n    font-family: 'PT Mono', sans-serif;\\r\\n    font-weight: 300;\\r\\n    font-size: 10pt;\\r\\n    color: grey;\\r\\n    margin-bottom: 1px;\\r\\n    margin-top: 1px;\\r\\n}\\r\\n\\r\\n.CodeMirror{\\r\\n        font-family: \\\"PT Mono\\\";\\r\\n        font-size: 100%;\\r\\n}\\r\\n\\r\\n</style>\\r\\n\\r\\n\")"
      ]
     },
     "execution_count": 1,
     "metadata": {},
     "output_type": "execute_result"
    }
   ],
   "source": [
    "# Setting up a custom stylesheet in IJulia\n",
    "# New in 0.6\n",
    "file = open(\"style.css\") # A .css file in the same folder as this notebook file\n",
    "styl = readstring(file) # Read the file\n",
    "HTML(\"$styl\") # Output as HTML"
   ]
  },
  {
   "cell_type": "markdown",
   "metadata": {},
   "source": [
    "<h1> Simple plots with the Plots package </h1>"
   ]
  },
  {
   "cell_type": "markdown",
   "metadata": {},
   "source": [
    "<h2>In this lecture</h2>\n",
    "\n",
    "- [Outcome](#Outcome)\n",
    "- [Load the Plots package into a current notebook](#Load-the-Plots-package-into-a-current-notebook)\n",
    "- [Activate the PyPlot backend for use with Plots](#Activate-the-PyPlot-backend-for-use-with-Plots)\n",
    "- [Plot a curve from coordinate data](#Plot-a-curve-from-coordinate-data)\n",
    "- [Tweak the current plot](#Tweak-the-current-plot)\n",
    "- [Save the current plot](#Save-the-current-plot)\n"
   ]
  },
  {
   "cell_type": "markdown",
   "metadata": {},
   "source": [
    "[Back to the top](#In-this-lecture)"
   ]
  },
  {
   "cell_type": "markdown",
   "metadata": {},
   "source": [
    "<h2>Outcome</h2>\n",
    "\n",
    "After this lecture, you will be able to\n",
    "- Explain how the Plots package relate to other plotting projects in Julia\n",
    "- Load the Plots package into a current notebook and the PyPlot backend for use with Plots\n",
    "- Plot coordinate data as lines in the default style supplied by Plots\n",
    "- Modify the current plot style: replace lines with markers, add title and labels, remove legend and grid lines\n",
    "- Save the current plot in .png and .pdf format\n",
    "\n",
    "[Back to the top](#In-this-lecture)"
   ]
  },
  {
   "cell_type": "markdown",
   "metadata": {},
   "source": [
    "To start, we load the data that we saved last time (the *converted* data, of course), and we create the x- and y-coordinates of the points we want to plot. Those are of course just columns 1 and 2 of the data.\n",
    "\n",
    "We use array slicing to extract the data we need---note the use of  the \":\" operator"
   ]
  },
  {
   "cell_type": "code",
   "execution_count": 2,
   "metadata": {},
   "outputs": [
    {
     "data": {
      "text/plain": [
       "54-element Array{Any,1}:\n",
       " 28637\n",
       " 28634\n",
       " 28635\n",
       " 28607\n",
       " 28539\n",
       " 28476\n",
       " 28454\n",
       " 28388\n",
       " 28295\n",
       " 28220\n",
       " 28147\n",
       " 28073\n",
       " 27952\n",
       "     ⋮\n",
       "  1835\n",
       "  1437\n",
       "  1201\n",
       "   982\n",
       "   779\n",
       "   528\n",
       "   309\n",
       "   260\n",
       "   239\n",
       "   176\n",
       "   130\n",
       "    49"
      ]
     },
     "execution_count": 2,
     "metadata": {},
     "output_type": "execute_result"
    }
   ],
   "source": [
    "EVDdata = readdlm(\"wikipediaEVDdatesconverted.csv\", ',')  # don't forget the delimiter!\n",
    "epidays = EVDdata[:, 1]  # Here \":\" means all the entries in all rows of the specified columns\n",
    "allcases = EVDdata[:, 2] # ditto---here, the specified columns is just column 2"
   ]
  },
  {
   "cell_type": "markdown",
   "metadata": {},
   "source": [
    "<h2>Load the Plots package into a current notebook</h2>\n",
    "\n",
    "Julia has quite a few projects on visualising scientific and technical data, and  several of them are concerned mainly with making plots. \n",
    "\n",
    "We choose to offer you the Plots package, together with the PyPlot backend. PyPlot is based on the Python package matplotlib, which in its turn imitates the way Matlab makes plots. This combination of Python and Matlab means that we can draw on a wealth of experience. \n",
    "\n",
    "Indeed, the PyPlot, matplotlib and Matlab communities are welcoming and helpful, and if you go online you will find lots of examples and discussions. If you have a particular query, a little internet searching will probably provide an answer. If not, there are many online forums where you could expect a rapid, polite and helpful reply to  most of your questions. \n",
    "\n",
    "We load Plots with a simple command. This also works from your own home installation, though  you may have to add the Plots package by issuing \"Pkg.add(\"Plots\")\"."
   ]
  },
  {
   "cell_type": "code",
   "execution_count": 3,
   "metadata": {
    "collapsed": true
   },
   "outputs": [],
   "source": [
    "using Plots   # this loads the Plots package into your current workspace. It may take a few seconds."
   ]
  },
  {
   "cell_type": "markdown",
   "metadata": {},
   "source": [
    "[Back to the top](#In-this-lecture)"
   ]
  },
  {
   "cell_type": "markdown",
   "metadata": {},
   "source": [
    "<h2>Activate the PyPlot backend for use with Plots</h2>"
   ]
  },
  {
   "cell_type": "markdown",
   "metadata": {},
   "source": [
    "As I said above, having loaded Plots we need to specify which backend to use. The idea of Plots is that we specify a plot with *identical code*, irrrespective of backend. To change backends is then just to run the command for the new backend.\n",
    "\n",
    "However, not all backends do the same things, of course, so some things work better in some back-ends and other things in others. For more information, do consult the Plots homepage at https://juliaplots.github.io . The PyPlot examples are at https://juliaplots.github.io/examples/pyplot/ .\n",
    "\n",
    "Here's how to specify PyPlot as the backend for  Plots to use:"
   ]
  },
  {
   "cell_type": "code",
   "execution_count": 4,
   "metadata": {},
   "outputs": [
    {
     "name": "stderr",
     "output_type": "stream",
     "text": [
      "\u001b[1m\u001b[36mINFO: \u001b[39m\u001b[22m\u001b[36mRecompiling stale cache file C:\\Users\\juank\\.julia\\lib\\v0.6\\PyPlot.ji for module PyPlot.\n",
      "\u001b[39m"
     ]
    },
    {
     "data": {
      "text/plain": [
       "Plots.PyPlotBackend()"
      ]
     },
     "execution_count": 4,
     "metadata": {},
     "output_type": "execute_result"
    }
   ],
   "source": [
    "pyplot()"
   ]
  },
  {
   "cell_type": "markdown",
   "metadata": {},
   "source": [
    "Note that it is enough to use \"pyplot()\". That is, no arguments are needed. Plots has reasonable default values it uses, but the user can override them. For example, you can  specify a picture size of to your own liking."
   ]
  },
  {
   "cell_type": "markdown",
   "metadata": {},
   "source": [
    "[Back to the top](#In-this-lecture)"
   ]
  },
  {
   "cell_type": "markdown",
   "metadata": {},
   "source": [
    "<h2>Plot a curve from coordinate data</h2>\n",
    "\n",
    "For Plots to work as advertised, it must be extremely straightforward to plot the data. And it is:"
   ]
  },
  {
   "cell_type": "code",
   "execution_count": 5,
   "metadata": {},
   "outputs": [
    {
     "data": {
      "text/html": [
       "<img src=\"data:image/png;base64,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\" />"
      ]
     },
     "execution_count": 5,
     "metadata": {},
     "output_type": "execute_result"
    }
   ],
   "source": [
    "plot(epidays, allcases)"
   ]
  },
  {
   "cell_type": "markdown",
   "metadata": {},
   "source": [
    "Hm, not too bad! Good choice of scale for the two axes. A light blue for the curve is not that readable for some people, but it looks pretty. The default is to show a legend but not title or axis labels.\n",
    "\n",
    "Plots lives up to its billing---simple to use, good pictures produced."
   ]
  },
  {
   "cell_type": "markdown",
   "metadata": {},
   "source": [
    "[Back to the top](#In-this-lecture)"
   ]
  },
  {
   "cell_type": "markdown",
   "metadata": {},
   "source": [
    "<h2>Tweak the current plot</h2>"
   ]
  },
  {
   "cell_type": "markdown",
   "metadata": {},
   "source": [
    "We choose different attributes by specifying the values of keywords. Plots provides many ways to do this, but I'll show only a few. For more information, see the Plots homepage https://juliaplots.github.io/ .\n",
    "\n",
    "I think the plot would be better if it used symbols for the data points. Let's also omit the line. That means the line type is set to \"scatter\". The keyword for the symbol that is plotted is \"marker\", and I  choose \"diamond\" as its value. Note the use of the colon in the syntax below!"
   ]
  },
  {
   "cell_type": "code",
   "execution_count": 6,
   "metadata": {},
   "outputs": [
    {
     "data": {
      "text/html": [
       "<img src=\"data:image/png;base64,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\" />"
      ]
     },
     "execution_count": 6,
     "metadata": {},
     "output_type": "execute_result"
    }
   ],
   "source": [
    "plot(epidays, allcases, linetype = :scatter, marker = :diamond)"
   ]
  },
  {
   "cell_type": "markdown",
   "metadata": {},
   "source": [
    "We should also add a title and axis labels, and while we're at it turn off the legend. For illustration, I also change the line type and line style so that a gray dotted line is plotted between the diamonds, tur the grid off and  increase the size of the diamonds.\n",
    "\n",
    "For the long command that results, it is a good idea to use white space to break it into logical parts. Note that although visually it looks like several lines, it is just one function call and so in the sense of computer programming it is just one unit of code."
   ]
  },
  {
   "cell_type": "code",
   "execution_count": 10,
   "metadata": {},
   "outputs": [
    {
     "data": {
      "text/html": [
       "<img src=\"data:image/png;base64,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\" />"
      ]
     },
     "execution_count": 10,
     "metadata": {},
     "output_type": "execute_result"
    }
   ],
   "source": [
    "# New in 0.6\n",
    "plot(epidays, allcases,   # here are the data to be plotted, below are the attributes\n",
    "title       = \"West African EVD epidemic, total cases\", \n",
    "xlabel    = \"Days since 22 March 2014\",\n",
    "ylabel    = \"Total cases to date (three countries)\",\n",
    "marker  = (:diamond, 8),  # note the use of  parentheses to group the marker attributes into a composite of attributes \n",
    "line         = (:path, \"gray\"),   # line attributes likewise put together as one unit by the use of parantheses\n",
    "legend   = false,\n",
    "grid        = false)    \n",
    "\n",
    "# A nice thing: this layout permits us add comments to individual parts of  the function call. \n",
    "# Also, notice that it helps readibility to line up vertically all the assignment \"=\" signs"
   ]
  },
  {
   "cell_type": "markdown",
   "metadata": {},
   "source": [
    "[Back to the top](#In-this-lecture)"
   ]
  },
  {
   "cell_type": "markdown",
   "metadata": {},
   "source": [
    "<h2>Save the current plot</h2>\n",
    "\n",
    "Of course, one needs to be able to save plots from the screen in a format to be used elsewhere. For documents and presentations, pdf is a good format, while for websites .png is often preferred. \n",
    "\n",
    "The function to use is savefig(). Plots will follow the extension you provide for the filename. If you omit the filename, the defaults kick in and Plots will use png as the format and add .png as the file extension.\n",
    "\n",
    "All three cases are illustrated below. After you've saved the figures, check in your folder that they are there and work as advertised!"
   ]
  },
  {
   "cell_type": "code",
   "execution_count": 11,
   "metadata": {
    "collapsed": true
   },
   "outputs": [],
   "source": [
    "savefig(\"WAfricanEVD_noformatspecified\")             # no extension, so plot saves it as .png  \n",
    "savefig(\"WAfricanEVD.pdf\")      # Saved as a pdf\n",
    "savefig(\"WAfricanEVD.png\")     # Saved png format"
   ]
  },
  {
   "cell_type": "markdown",
   "metadata": {},
   "source": [
    "[Back to the top](#In-this-lecture)"
   ]
  },
  {
   "cell_type": "code",
   "execution_count": null,
   "metadata": {
    "collapsed": true
   },
   "outputs": [],
   "source": []
  }
 ],
 "metadata": {
  "hide_input": false,
  "kernelspec": {
   "display_name": "Julia 0.6.0",
   "language": "julia",
   "name": "julia-0.6"
  },
  "language_info": {
   "file_extension": ".jl",
   "mimetype": "application/julia",
   "name": "julia",
   "version": "0.6.0"
  },
  "varInspector": {
   "cols": {
    "lenName": 16,
    "lenType": 16,
    "lenVar": 40
   },
   "kernels_config": {
    "python": {
     "delete_cmd_postfix": "",
     "delete_cmd_prefix": "del ",
     "library": "var_list.py",
     "varRefreshCmd": "print(var_dic_list())"
    },
    "r": {
     "delete_cmd_postfix": ") ",
     "delete_cmd_prefix": "rm(",
     "library": "var_list.r",
     "varRefreshCmd": "cat(var_dic_list()) "
    }
   },
   "types_to_exclude": [
    "module",
    "function",
    "builtin_function_or_method",
    "instance",
    "_Feature"
   ],
   "window_display": false
  }
 },
 "nbformat": 4,
 "nbformat_minor": 1
}
