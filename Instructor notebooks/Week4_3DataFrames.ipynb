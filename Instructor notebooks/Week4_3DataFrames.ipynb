{
 "cells": [
  {
   "cell_type": "code",
   "execution_count": 1,
   "metadata": {},
   "outputs": [
    {
     "data": {
      "text/html": [
       "<link href='http://fonts.googleapis.com/css?family=Alegreya+Sans:100,300,400,500,700,800,900,100italic,300italic,400italic,500italic,700italic,800italic,900italic' rel='stylesheet' type='text/css'>\r\n",
       "<link href='http://fonts.googleapis.com/css?family=Arvo:400,700,400italic' rel='stylesheet' type='text/css'>\r\n",
       "<link href='http://fonts.googleapis.com/css?family=PT+Mono' rel='stylesheet' type='text/css'>\r\n",
       "<link href='http://fonts.googleapis.com/css?family=Shadows+Into+Light' rel='stylesheet' type='text/css'>\r\n",
       "<link href='http://fonts.googleapis.com/css?family=Philosopher:400,700,400italic,700italic' rel='stylesheet' type='text/css'>\r\n",
       "\r\n",
       "<style>\r\n",
       "\r\n",
       "@font-face {\r\n",
       "    font-family: \"Computer Modern\";\r\n",
       "    src: url('http://mirrors.ctan.org/fonts/cm-unicode/fonts/otf/cmunss.otf');\r\n",
       "}\r\n",
       "\r\n",
       "#notebook_panel { /* main background */\r\n",
       "    background: #ddd;\r\n",
       "    color: #000000;\r\n",
       "}\r\n",
       "\r\n",
       "\r\n",
       "\r\n",
       "/* Formatting for header cells */\r\n",
       ".text_cell_render h1 {\r\n",
       "    font-family: 'Philosopher', sans-serif;\r\n",
       "    font-weight: 400;\r\n",
       "    font-size: 2.2em;\r\n",
       "    line-height: 100%;\r\n",
       "    color: rgb(0, 80, 120);\r\n",
       "    margin-bottom: 0.1em;\r\n",
       "    margin-top: 0.1em;\r\n",
       "    display: block;\r\n",
       "}\t\r\n",
       ".text_cell_render h2 {\r\n",
       "    font-family: 'Philosopher', serif;\r\n",
       "    font-weight: 400;\r\n",
       "    font-size: 1.9em;\r\n",
       "    line-height: 100%;\r\n",
       "    color: rgb(200,100,0);\r\n",
       "    margin-bottom: 0.1em;\r\n",
       "    margin-top: 0.1em;\r\n",
       "    display: block;\r\n",
       "}\t\r\n",
       "\r\n",
       ".text_cell_render h3 {\r\n",
       "    font-family: 'Philosopher', serif;\r\n",
       "    margin-top:12px;\r\n",
       "    margin-bottom: 3px;\r\n",
       "    font-style: italic;\r\n",
       "    color: rgb(94,127,192);\r\n",
       "}\r\n",
       "\r\n",
       ".text_cell_render h4 {\r\n",
       "    font-family: 'Philosopher', serif;\r\n",
       "}\r\n",
       "\r\n",
       ".text_cell_render h5 {\r\n",
       "    font-family: 'Alegreya Sans', sans-serif;\r\n",
       "    font-weight: 300;\r\n",
       "    font-size: 16pt;\r\n",
       "    color: grey;\r\n",
       "    font-style: italic;\r\n",
       "    margin-bottom: .1em;\r\n",
       "    margin-top: 0.1em;\r\n",
       "    display: block;\r\n",
       "}\r\n",
       "\r\n",
       ".text_cell_render h6 {\r\n",
       "    font-family: 'PT Mono', sans-serif;\r\n",
       "    font-weight: 300;\r\n",
       "    font-size: 10pt;\r\n",
       "    color: grey;\r\n",
       "    margin-bottom: 1px;\r\n",
       "    margin-top: 1px;\r\n",
       "}\r\n",
       "\r\n",
       ".CodeMirror{\r\n",
       "        font-family: \"PT Mono\";\r\n",
       "        font-size: 100%;\r\n",
       "}\r\n",
       "\r\n",
       "</style>\r\n",
       "\r\n"
      ],
      "text/plain": [
       "HTML{String}(\"<link href='http://fonts.googleapis.com/css?family=Alegreya+Sans:100,300,400,500,700,800,900,100italic,300italic,400italic,500italic,700italic,800italic,900italic' rel='stylesheet' type='text/css'>\\r\\n<link href='http://fonts.googleapis.com/css?family=Arvo:400,700,400italic' rel='stylesheet' type='text/css'>\\r\\n<link href='http://fonts.googleapis.com/css?family=PT+Mono' rel='stylesheet' type='text/css'>\\r\\n<link href='http://fonts.googleapis.com/css?family=Shadows+Into+Light' rel='stylesheet' type='text/css'>\\r\\n<link href='http://fonts.googleapis.com/css?family=Philosopher:400,700,400italic,700italic' rel='stylesheet' type='text/css'>\\r\\n\\r\\n<style>\\r\\n\\r\\n@font-face {\\r\\n    font-family: \\\"Computer Modern\\\";\\r\\n    src: url('http://mirrors.ctan.org/fonts/cm-unicode/fonts/otf/cmunss.otf');\\r\\n}\\r\\n\\r\\n#notebook_panel { /* main background */\\r\\n    background: #ddd;\\r\\n    color: #000000;\\r\\n}\\r\\n\\r\\n\\r\\n\\r\\n/* Formatting for header cells */\\r\\n.text_cell_render h1 {\\r\\n    font-family: 'Philosopher', sans-serif;\\r\\n    font-weight: 400;\\r\\n    font-size: 2.2em;\\r\\n    line-height: 100%;\\r\\n    color: rgb(0, 80, 120);\\r\\n    margin-bottom: 0.1em;\\r\\n    margin-top: 0.1em;\\r\\n    display: block;\\r\\n}\\t\\r\\n.text_cell_render h2 {\\r\\n    font-family: 'Philosopher', serif;\\r\\n    font-weight: 400;\\r\\n    font-size: 1.9em;\\r\\n    line-height: 100%;\\r\\n    color: rgb(200,100,0);\\r\\n    margin-bottom: 0.1em;\\r\\n    margin-top: 0.1em;\\r\\n    display: block;\\r\\n}\\t\\r\\n\\r\\n.text_cell_render h3 {\\r\\n    font-family: 'Philosopher', serif;\\r\\n    margin-top:12px;\\r\\n    margin-bottom: 3px;\\r\\n    font-style: italic;\\r\\n    color: rgb(94,127,192);\\r\\n}\\r\\n\\r\\n.text_cell_render h4 {\\r\\n    font-family: 'Philosopher', serif;\\r\\n}\\r\\n\\r\\n.text_cell_render h5 {\\r\\n    font-family: 'Alegreya Sans', sans-serif;\\r\\n    font-weight: 300;\\r\\n    font-size: 16pt;\\r\\n    color: grey;\\r\\n    font-style: italic;\\r\\n    margin-bottom: .1em;\\r\\n    margin-top: 0.1em;\\r\\n    display: block;\\r\\n}\\r\\n\\r\\n.text_cell_render h6 {\\r\\n    font-family: 'PT Mono', sans-serif;\\r\\n    font-weight: 300;\\r\\n    font-size: 10pt;\\r\\n    color: grey;\\r\\n    margin-bottom: 1px;\\r\\n    margin-top: 1px;\\r\\n}\\r\\n\\r\\n.CodeMirror{\\r\\n        font-family: \\\"PT Mono\\\";\\r\\n        font-size: 100%;\\r\\n}\\r\\n\\r\\n</style>\\r\\n\\r\\n\")"
      ]
     },
     "execution_count": 1,
     "metadata": {},
     "output_type": "execute_result"
    }
   ],
   "source": [
    "# Setting up a custom stylesheet in IJulia\n",
    "file = open(\"style.css\") # A .css file in the same folder as this notebook file\n",
    "styl = readstring(file) # Read the file # New in 0.6\n",
    "HTML(\"$styl\") # Output as HTML"
   ]
  },
  {
   "cell_type": "markdown",
   "metadata": {},
   "source": [
    "# DataFrames"
   ]
  },
  {
   "cell_type": "markdown",
   "metadata": {},
   "source": [
    "## In this lesson"
   ]
  },
  {
   "cell_type": "markdown",
   "metadata": {},
   "source": [
    "- [Introduction](#Introduction)\n",
    "- [Importing packages for this lesson](#Importing-packages-for-this-lesson)\n",
    "- [Outcomes](#Outcomes)\n",
    "+ [The DataArray](#The-DataArray)\n",
    "+ [Getting to know the content of your DataFrame](#Getting-to-know-the-content-of-your-DataFrame)\n",
    "+ [Importing an exporting data files](#Importing-an-exporting-data-files)\n",
    "    + [Reading tabular data](#Reading-tabular-data)\n",
    "    + [Exporting a DataFrame](#Exporting-a-DataFrame)\n",
    "+ [Combining DataFrames](#Combining-DataFrames)\n",
    "+ [Grouping and splicing](#Grouping-and-splicing)\n",
    "    + [by](#by)\n",
    "    + [aggregate](#aggregate)\n",
    "    + [groupby](#groupby)\n",
    "    + [sub](#sub)\n",
    "+ [Sorting](#Sorting)\n",
    "+ [Duplicate rows](#Duplicate-rows)\n",
    "    + [unique](#unique)\n",
    "    + [deleterows](#deleterows)\n",
    "+ [Dealing with NA values](#Dealing-with-NA-values)\n",
    "+ [Renaming columns](#Renaming-columns)\n",
    "+ [Converting columns to Julia arrays](#Converting-columns-to-Julia-arrays)"
   ]
  },
  {
   "cell_type": "markdown",
   "metadata": {},
   "source": [
    "<hr>\n",
    "<h2>Introduction</h2>"
   ]
  },
  {
   "cell_type": "markdown",
   "metadata": {},
   "source": [
    "Arrays are powerful collections of data in Julia.  At times, though, we need a more powerful tool.  The `DataFrames` package is one of the most important extensions to Julia.  It allows for a level of easy and sophistication that makes working with data a pleasure.  It is worth our time to spend one lecture exploring this package."
   ]
  },
  {
   "cell_type": "markdown",
   "metadata": {},
   "source": [
    "[Back to the top](#In-this-lesson)"
   ]
  },
  {
   "cell_type": "markdown",
   "metadata": {},
   "source": [
    "<hr>\n",
    "<h2>Importing packages for this lesson</h2>"
   ]
  },
  {
   "cell_type": "code",
   "execution_count": 2,
   "metadata": {
    "collapsed": true
   },
   "outputs": [],
   "source": [
    "using DataFrames"
   ]
  },
  {
   "cell_type": "markdown",
   "metadata": {},
   "source": [
    "[Back to the top](#In-this-lesson)"
   ]
  },
  {
   "cell_type": "markdown",
   "metadata": {},
   "source": [
    "<hr>\n",
    "<h2>Outcomes</h2>"
   ]
  },
  {
   "cell_type": "markdown",
   "metadata": {},
   "source": [
    "After successfully completing this lecture, you will be able to:\n",
    "\n",
    "- Understand a `DataArray` (as extension of Julia arrays)\n",
    "- Scaling up your two-dimensional array to a powerful `DataFrame`\n",
    "- Import data files as `DataFrames`\n",
    "- Write `DataFrames` to disk as `csv` files\n",
    "- Manipulate `DataFrames` and the data that they contain"
   ]
  },
  {
   "cell_type": "markdown",
   "metadata": {},
   "source": [
    "[Back to the top](#In-this-lesson)"
   ]
  },
  {
   "cell_type": "markdown",
   "metadata": {},
   "source": [
    "## The DataArray"
   ]
  },
  {
   "cell_type": "markdown",
   "metadata": {},
   "source": [
    "Base Julia has an array type that is easy to create."
   ]
  },
  {
   "cell_type": "code",
   "execution_count": 3,
   "metadata": {},
   "outputs": [
    {
     "data": {
      "text/plain": [
       "6-element Array{Int64,1}:\n",
       " 1\n",
       " 2\n",
       " 3\n",
       " 6\n",
       " 7\n",
       " 8"
      ]
     },
     "execution_count": 3,
     "metadata": {},
     "output_type": "execute_result"
    }
   ],
   "source": [
    "arr = [1, 2, 3, 6, 7, 8]"
   ]
  },
  {
   "cell_type": "code",
   "execution_count": 4,
   "metadata": {},
   "outputs": [
    {
     "data": {
      "text/plain": [
       "Array{Int64,1}"
      ]
     },
     "execution_count": 4,
     "metadata": {},
     "output_type": "execute_result"
    }
   ],
   "source": [
    "# Checking the type of the variable arr\n",
    "typeof(arr)"
   ]
  },
  {
   "cell_type": "markdown",
   "metadata": {},
   "source": [
    "A DataArray is similar.  We can simply pass an array variable as an argument to the ```DataArray()``` function and the second makes use of the ```@data()``` macro."
   ]
  },
  {
   "cell_type": "code",
   "execution_count": 5,
   "metadata": {},
   "outputs": [
    {
     "data": {
      "text/plain": [
       "6-element DataArrays.DataArray{Int64,1}:\n",
       " 1\n",
       " 2\n",
       " 3\n",
       " 6\n",
       " 7\n",
       " 8"
      ]
     },
     "execution_count": 5,
     "metadata": {},
     "output_type": "execute_result"
    }
   ],
   "source": [
    "# DataArray was imported with DataFrames\n",
    "da1 = DataArray(arr)"
   ]
  },
  {
   "cell_type": "code",
   "execution_count": 6,
   "metadata": {},
   "outputs": [
    {
     "data": {
      "text/plain": [
       "6-element DataArrays.DataArray{Int64,1}:\n",
       "  1\n",
       "  3\n",
       "  5\n",
       "  8\n",
       " 10\n",
       " 12"
      ]
     },
     "execution_count": 6,
     "metadata": {},
     "output_type": "execute_result"
    }
   ],
   "source": [
    "da2 = @data([1, 3, 5, 8, 10, 12])"
   ]
  },
  {
   "cell_type": "markdown",
   "metadata": {},
   "source": [
    "We can use a variety of built-in Julia functions to manipulate these arrays.  Let's start with the `mapreduce()` function."
   ]
  },
  {
   "cell_type": "markdown",
   "metadata": {},
   "source": [
    "In the code below, I create a *recipe* whereby I create a variable called `x` which is then squared.  After the comma comes the `+` operator suggesting that we sum all of the values and lastly I refer to the actual values that will go through this *recipe*."
   ]
  },
  {
   "cell_type": "code",
   "execution_count": 7,
   "metadata": {},
   "outputs": [
    {
     "data": {
      "text/plain": [
       "343"
      ]
     },
     "execution_count": 7,
     "metadata": {},
     "output_type": "execute_result"
    }
   ],
   "source": [
    "mapreduce(x -> x^2, +, da2)"
   ]
  },
  {
   "cell_type": "markdown",
   "metadata": {},
   "source": [
    "I could also use the `map()` function."
   ]
  },
  {
   "cell_type": "code",
   "execution_count": 8,
   "metadata": {},
   "outputs": [
    {
     "data": {
      "text/plain": [
       "343"
      ]
     },
     "execution_count": 8,
     "metadata": {},
     "output_type": "execute_result"
    }
   ],
   "source": [
    "sum(map(x -> x^2, da2))"
   ]
  },
  {
   "cell_type": "markdown",
   "metadata": {},
   "source": [
    "[Back top the top](#In-this-lesson)"
   ]
  },
  {
   "cell_type": "markdown",
   "metadata": {},
   "source": [
    "## The DataFrame"
   ]
  },
  {
   "cell_type": "markdown",
   "metadata": {},
   "source": [
    "The DataFrame type can hold tables of data.  Each column is in essence a DataArray."
   ]
  },
  {
   "cell_type": "markdown",
   "metadata": {},
   "source": [
    "There are many ways of creating a DataFrame.  The first we will consider here lists the column names and add values in each row of each column."
   ]
  },
  {
   "cell_type": "code",
   "execution_count": 9,
   "metadata": {},
   "outputs": [
    {
     "data": {
      "text/html": [
       "<table class=\"data-frame\"><thead><tr><th></th><th>A</th><th>B</th></tr></thead><tbody><tr><th>1</th><td>1</td><td>Y</td></tr><tr><th>2</th><td>2</td><td>Y</td></tr><tr><th>3</th><td>3</td><td>N</td></tr><tr><th>4</th><td>4</td><td>Y</td></tr><tr><th>5</th><td>5</td><td>N</td></tr></tbody></table>"
      ],
      "text/plain": [
       "5×2 DataFrames.DataFrame\n",
       "│ Row │ A │ B   │\n",
       "├─────┼───┼─────┤\n",
       "│ 1   │ 1 │ \"Y\" │\n",
       "│ 2   │ 2 │ \"Y\" │\n",
       "│ 3   │ 3 │ \"N\" │\n",
       "│ 4   │ 4 │ \"Y\" │\n",
       "│ 5   │ 5 │ \"N\" │"
      ]
     },
     "execution_count": 9,
     "metadata": {},
     "output_type": "execute_result"
    }
   ],
   "source": [
    "# The arguments used are name of column = values, name of next column = values, ...\n",
    "df1 = DataFrame(A = 1:5, B = [\"Y\", \"Y\", \"N\", \"Y\", \"N\"])"
   ]
  },
  {
   "cell_type": "markdown",
   "metadata": {},
   "source": [
    "Note how the index starts at $ 1 $.  We have two columns, the first named *A* and the second named *B*.    Column *A* holds values $ 1 $ through $ 5 $ and the rows of column *B* each hold one of the items in the array created as an argument."
   ]
  },
  {
   "cell_type": "markdown",
   "metadata": {},
   "source": [
    "<p>You might wonder what happens of the arrays that fill each column are not of equal length.  Well, you will get an error.  Something like this:</p>\n",
    "<p>\n",
    "```LoadError: New columns must have the same length as old columns\n",
    "while loading In[21], in expression starting on line 1\n",
    "\n",
    " in insert_single_column! at /Users/juanklopper/.julia/v0.4/DataFrames/src/dataframe/dataframe.jl:309\n",
    " in setindex! at /Users/juanklopper/.julia/v0.4/DataFrames/src/dataframe/dataframe.jl:368\n",
    " in DataFrame at /Users/juanklopper/.julia/v0.4/DataFrames/src/dataframe/dataframe.jl:104```\n",
    " </p>"
   ]
  },
  {
   "cell_type": "markdown",
   "metadata": {},
   "source": [
    "The second way simply creates (and names) each column, together with its own data."
   ]
  },
  {
   "cell_type": "code",
   "execution_count": 10,
   "metadata": {},
   "outputs": [],
   "source": [
    "# Creating an empty DataFrame\n",
    "df2 = DataFrame();"
   ]
  },
  {
   "cell_type": "code",
   "execution_count": 11,
   "metadata": {},
   "outputs": [],
   "source": [
    "# Adding columns\n",
    "df2[:A] = 1:5\n",
    "df2[:B] = [\"This\", \"is\", \"a\", \"new\", \"column\"];"
   ]
  },
  {
   "cell_type": "code",
   "execution_count": 12,
   "metadata": {},
   "outputs": [
    {
     "data": {
      "text/html": [
       "<table class=\"data-frame\"><thead><tr><th></th><th>A</th><th>B</th></tr></thead><tbody><tr><th>1</th><td>1</td><td>This</td></tr><tr><th>2</th><td>2</td><td>is</td></tr><tr><th>3</th><td>3</td><td>a</td></tr><tr><th>4</th><td>4</td><td>new</td></tr><tr><th>5</th><td>5</td><td>column</td></tr></tbody></table>"
      ],
      "text/plain": [
       "5×2 DataFrames.DataFrame\n",
       "│ Row │ A │ B        │\n",
       "├─────┼───┼──────────┤\n",
       "│ 1   │ 1 │ \"This\"   │\n",
       "│ 2   │ 2 │ \"is\"     │\n",
       "│ 3   │ 3 │ \"a\"      │\n",
       "│ 4   │ 4 │ \"new\"    │\n",
       "│ 5   │ 5 │ \"column\" │"
      ]
     },
     "execution_count": 12,
     "metadata": {},
     "output_type": "execute_result"
    }
   ],
   "source": [
    "df2"
   ]
  },
  {
   "cell_type": "markdown",
   "metadata": {},
   "source": [
    "There are more ways to create DataFrames and we will take a look at these later in the lesson."
   ]
  },
  {
   "cell_type": "markdown",
   "metadata": {},
   "source": [
    "A DataFrame is thus a table with columns and rows, which are indexed.  We can take a look at the size of a DataFrame using the ```size()``` function.  In the case of ```df2``` we have $ 5 $ rows and $ 2 $ columns."
   ]
  },
  {
   "cell_type": "code",
   "execution_count": 13,
   "metadata": {},
   "outputs": [
    {
     "data": {
      "text/plain": [
       "(5, 2)"
      ]
     },
     "execution_count": 13,
     "metadata": {},
     "output_type": "execute_result"
    }
   ],
   "source": [
    "size(df2)"
   ]
  },
  {
   "cell_type": "code",
   "execution_count": 14,
   "metadata": {},
   "outputs": [
    {
     "data": {
      "text/plain": [
       "Tuple{Int64,Int64}"
      ]
     },
     "execution_count": 14,
     "metadata": {},
     "output_type": "execute_result"
    }
   ],
   "source": [
    "# The size() function returns a tuple\n",
    "typeof(size(df2))"
   ]
  },
  {
   "cell_type": "markdown",
   "metadata": {},
   "source": [
    "Since ```size()``` returns a tuple, we can use its index."
   ]
  },
  {
   "cell_type": "code",
   "execution_count": 15,
   "metadata": {},
   "outputs": [
    {
     "data": {
      "text/plain": [
       "5"
      ]
     },
     "execution_count": 15,
     "metadata": {},
     "output_type": "execute_result"
    }
   ],
   "source": [
    "no_of_rows = size(df2, 1)"
   ]
  },
  {
   "cell_type": "code",
   "execution_count": 16,
   "metadata": {},
   "outputs": [
    {
     "data": {
      "text/plain": [
       "2"
      ]
     },
     "execution_count": 16,
     "metadata": {},
     "output_type": "execute_result"
    }
   ],
   "source": [
    "no_of_cols = size(df2, 2)"
   ]
  },
  {
   "cell_type": "markdown",
   "metadata": {},
   "source": [
    "This is helpfull if we want to iterate through the rows for instance.  As a shortcut, we could also have used ` no_of_rows, no_of_cols = size(df2)`."
   ]
  },
  {
   "cell_type": "markdown",
   "metadata": {},
   "source": [
    "[Back to the top](#In-this-lesson)"
   ]
  },
  {
   "cell_type": "markdown",
   "metadata": {},
   "source": [
    "## Getting to know the content of your DataFrame"
   ]
  },
  {
   "cell_type": "markdown",
   "metadata": {},
   "source": [
    "Let's create a bigger DataFrame using one of the methods we looked at above."
   ]
  },
  {
   "cell_type": "code",
   "execution_count": 17,
   "metadata": {
    "collapsed": true
   },
   "outputs": [],
   "source": [
    "df3 = DataFrame();"
   ]
  },
  {
   "cell_type": "code",
   "execution_count": 18,
   "metadata": {},
   "outputs": [
    {
     "data": {
      "text/plain": [
       "3-element Array{Float64,1}:\n",
       " 0.865724\n",
       " 0.787132\n",
       " 0.875527"
      ]
     },
     "execution_count": 18,
     "metadata": {},
     "output_type": "execute_result"
    }
   ],
   "source": [
    "# The rand function selects floating point values in the range [0,1]\n",
    "# Below we specify that we want 3 such values\n",
    "rand(3)"
   ]
  },
  {
   "cell_type": "code",
   "execution_count": 19,
   "metadata": {},
   "outputs": [],
   "source": [
    "# Creating four colums each containing 15 rows of data\n",
    "df3[:A] = rand(15)\n",
    "df3[:B] = rand(15)\n",
    "df3[:C] = rand(15)\n",
    "df3[:D] = rand(15);"
   ]
  },
  {
   "cell_type": "code",
   "execution_count": 20,
   "metadata": {},
   "outputs": [
    {
     "data": {
      "text/html": [
       "<table class=\"data-frame\"><thead><tr><th></th><th>A</th><th>B</th><th>C</th><th>D</th></tr></thead><tbody><tr><th>1</th><td>0.006066100733944424</td><td>0.6086871696320064</td><td>0.4110154311073244</td><td>0.41367304729481047</td></tr><tr><th>2</th><td>0.8325139648921298</td><td>0.16456964524207085</td><td>0.05043042445917534</td><td>0.5875023717327554</td></tr><tr><th>3</th><td>0.5914908698671428</td><td>0.2017016159174152</td><td>0.07765130932594189</td><td>0.6799933384840231</td></tr><tr><th>4</th><td>0.6000665438259625</td><td>0.4905293205675465</td><td>0.1331463260950123</td><td>0.4268060185087932</td></tr><tr><th>5</th><td>0.8355333085292664</td><td>0.024627201236158802</td><td>0.7747586241586202</td><td>0.061896424849607</td></tr><tr><th>6</th><td>0.24748134364726293</td><td>0.734138331901734</td><td>0.5764720099712914</td><td>0.44230346753849825</td></tr><tr><th>7</th><td>0.45269053627574296</td><td>0.42930645046468574</td><td>0.1306188565404356</td><td>0.8514799501617292</td></tr><tr><th>8</th><td>0.3270427427747109</td><td>0.4639395124506409</td><td>0.791801234858974</td><td>0.5234412025500499</td></tr><tr><th>9</th><td>0.021011571941348617</td><td>0.48146793798323095</td><td>0.1367867303550696</td><td>0.23907812320131128</td></tr><tr><th>10</th><td>0.5173543760482218</td><td>0.6633038216541491</td><td>0.8876945542048431</td><td>0.2928009036298369</td></tr><tr><th>11</th><td>0.030883352120425922</td><td>0.19364713003033285</td><td>0.9958036739846865</td><td>0.2791445760325324</td></tr><tr><th>12</th><td>0.3328030282682686</td><td>0.6980413579588705</td><td>0.6574900797257031</td><td>0.8050364019643927</td></tr><tr><th>13</th><td>0.16422732692300612</td><td>0.08773698117134265</td><td>0.329394116331861</td><td>0.848547679560506</td></tr><tr><th>14</th><td>0.11494676577188279</td><td>0.10414311031446255</td><td>0.8439239840618913</td><td>0.6626082772883257</td></tr><tr><th>15</th><td>0.6042722135002994</td><td>0.3049517635239103</td><td>0.12271068630964521</td><td>0.0680093749410291</td></tr></tbody></table>"
      ],
      "text/plain": [
       "15×4 DataFrames.DataFrame\n",
       "│ Row │ A         │ B         │ C         │ D         │\n",
       "├─────┼───────────┼───────────┼───────────┼───────────┤\n",
       "│ 1   │ 0.0060661 │ 0.608687  │ 0.411015  │ 0.413673  │\n",
       "│ 2   │ 0.832514  │ 0.16457   │ 0.0504304 │ 0.587502  │\n",
       "│ 3   │ 0.591491  │ 0.201702  │ 0.0776513 │ 0.679993  │\n",
       "│ 4   │ 0.600067  │ 0.490529  │ 0.133146  │ 0.426806  │\n",
       "│ 5   │ 0.835533  │ 0.0246272 │ 0.774759  │ 0.0618964 │\n",
       "│ 6   │ 0.247481  │ 0.734138  │ 0.576472  │ 0.442303  │\n",
       "│ 7   │ 0.452691  │ 0.429306  │ 0.130619  │ 0.85148   │\n",
       "│ 8   │ 0.327043  │ 0.46394   │ 0.791801  │ 0.523441  │\n",
       "│ 9   │ 0.0210116 │ 0.481468  │ 0.136787  │ 0.239078  │\n",
       "│ 10  │ 0.517354  │ 0.663304  │ 0.887695  │ 0.292801  │\n",
       "│ 11  │ 0.0308834 │ 0.193647  │ 0.995804  │ 0.279145  │\n",
       "│ 12  │ 0.332803  │ 0.698041  │ 0.65749   │ 0.805036  │\n",
       "│ 13  │ 0.164227  │ 0.087737  │ 0.329394  │ 0.848548  │\n",
       "│ 14  │ 0.114947  │ 0.104143  │ 0.843924  │ 0.662608  │\n",
       "│ 15  │ 0.604272  │ 0.304952  │ 0.122711  │ 0.0680094 │"
      ]
     },
     "execution_count": 20,
     "metadata": {},
     "output_type": "execute_result"
    }
   ],
   "source": [
    "# The complete DataFrame\n",
    "df3"
   ]
  },
  {
   "cell_type": "markdown",
   "metadata": {},
   "source": [
    "In a larger DataFrame such as ```df3``` we could look at the first few or last few rows alone."
   ]
  },
  {
   "cell_type": "code",
   "execution_count": 21,
   "metadata": {},
   "outputs": [
    {
     "data": {
      "text/html": [
       "<table class=\"data-frame\"><thead><tr><th></th><th>A</th><th>B</th><th>C</th><th>D</th></tr></thead><tbody><tr><th>1</th><td>0.006066100733944424</td><td>0.6086871696320064</td><td>0.4110154311073244</td><td>0.41367304729481047</td></tr><tr><th>2</th><td>0.8325139648921298</td><td>0.16456964524207085</td><td>0.05043042445917534</td><td>0.5875023717327554</td></tr><tr><th>3</th><td>0.5914908698671428</td><td>0.2017016159174152</td><td>0.07765130932594189</td><td>0.6799933384840231</td></tr><tr><th>4</th><td>0.6000665438259625</td><td>0.4905293205675465</td><td>0.1331463260950123</td><td>0.4268060185087932</td></tr><tr><th>5</th><td>0.8355333085292664</td><td>0.024627201236158802</td><td>0.7747586241586202</td><td>0.061896424849607</td></tr><tr><th>6</th><td>0.24748134364726293</td><td>0.734138331901734</td><td>0.5764720099712914</td><td>0.44230346753849825</td></tr></tbody></table>"
      ],
      "text/plain": [
       "6×4 DataFrames.DataFrame\n",
       "│ Row │ A         │ B         │ C         │ D         │\n",
       "├─────┼───────────┼───────────┼───────────┼───────────┤\n",
       "│ 1   │ 0.0060661 │ 0.608687  │ 0.411015  │ 0.413673  │\n",
       "│ 2   │ 0.832514  │ 0.16457   │ 0.0504304 │ 0.587502  │\n",
       "│ 3   │ 0.591491  │ 0.201702  │ 0.0776513 │ 0.679993  │\n",
       "│ 4   │ 0.600067  │ 0.490529  │ 0.133146  │ 0.426806  │\n",
       "│ 5   │ 0.835533  │ 0.0246272 │ 0.774759  │ 0.0618964 │\n",
       "│ 6   │ 0.247481  │ 0.734138  │ 0.576472  │ 0.442303  │"
      ]
     },
     "execution_count": 21,
     "metadata": {},
     "output_type": "execute_result"
    }
   ],
   "source": [
    "# Using the head() function to look at the first 6 (default value) rows\n",
    "head(df3)"
   ]
  },
  {
   "cell_type": "code",
   "execution_count": 22,
   "metadata": {},
   "outputs": [
    {
     "data": {
      "text/html": [
       "<table class=\"data-frame\"><thead><tr><th></th><th>A</th><th>B</th><th>C</th><th>D</th></tr></thead><tbody><tr><th>1</th><td>0.16422732692300612</td><td>0.08773698117134265</td><td>0.329394116331861</td><td>0.848547679560506</td></tr><tr><th>2</th><td>0.11494676577188279</td><td>0.10414311031446255</td><td>0.8439239840618913</td><td>0.6626082772883257</td></tr><tr><th>3</th><td>0.6042722135002994</td><td>0.3049517635239103</td><td>0.12271068630964521</td><td>0.0680093749410291</td></tr></tbody></table>"
      ],
      "text/plain": [
       "3×4 DataFrames.DataFrame\n",
       "│ Row │ A        │ B        │ C        │ D         │\n",
       "├─────┼──────────┼──────────┼──────────┼───────────┤\n",
       "│ 1   │ 0.164227 │ 0.087737 │ 0.329394 │ 0.848548  │\n",
       "│ 2   │ 0.114947 │ 0.104143 │ 0.843924 │ 0.662608  │\n",
       "│ 3   │ 0.604272 │ 0.304952 │ 0.122711 │ 0.0680094 │"
      ]
     },
     "execution_count": 22,
     "metadata": {},
     "output_type": "execute_result"
    }
   ],
   "source": [
    "# Using the tail() function to look at the last 3 rows\n",
    "tail(df3, 3)"
   ]
  },
  {
   "cell_type": "markdown",
   "metadata": {},
   "source": [
    "Note that although we get the last $ 3 $ rows in the DataFrame using the `tails()` function, the index is not that of the original full DataFrame index."
   ]
  },
  {
   "cell_type": "markdown",
   "metadata": {},
   "source": [
    "We can list the columns of a DataFrame and see what type of data it holds using the ```showcols()``` function."
   ]
  },
  {
   "cell_type": "code",
   "execution_count": 23,
   "metadata": {},
   "outputs": [
    {
     "name": "stdout",
     "output_type": "stream",
     "text": [
      "15×4 DataFrames.DataFrame\n",
      "│ Col # │ Name │ Eltype  │ Missing │\n",
      "├───────┼──────┼─────────┼─────────┤\n",
      "│ 1     │ A    │ Float64 │ 0       │\n",
      "│ 2     │ B    │ Float64 │ 0       │\n",
      "│ 3     │ C    │ Float64 │ 0       │\n",
      "│ 4     │ D    │ Float64 │ 0       │"
     ]
    }
   ],
   "source": [
    "showcols(df3)"
   ]
  },
  {
   "cell_type": "markdown",
   "metadata": {},
   "source": [
    "We note the $ 4 $ columns, their names and the data type that they hold.  The `Eltype` column states the type of the data point values in each column and will help us determine the statistical tests that we can use on the data point values.  The last column is quite important and we will definitely discuss this later.  It tells us if there are any `NA` values."
   ]
  },
  {
   "cell_type": "markdown",
   "metadata": {},
   "source": [
    "If we simply want to see the element types of each column, we can use the `eltypes()` function."
   ]
  },
  {
   "cell_type": "code",
   "execution_count": 24,
   "metadata": {},
   "outputs": [
    {
     "data": {
      "text/plain": [
       "4-element Array{Type,1}:\n",
       " Float64\n",
       " Float64\n",
       " Float64\n",
       " Float64"
      ]
     },
     "execution_count": 24,
     "metadata": {},
     "output_type": "execute_result"
    }
   ],
   "source": [
    "eltypes(df3)"
   ]
  },
  {
   "cell_type": "markdown",
   "metadata": {},
   "source": [
    "The `dump()` function provides us with a tree-like look at our DataFrame."
   ]
  },
  {
   "cell_type": "code",
   "execution_count": 25,
   "metadata": {},
   "outputs": [
    {
     "name": "stdout",
     "output_type": "stream",
     "text": [
      "DataFrames.DataFrame  15 observations of 4 variables\n",
      "  A: DataArrays.DataArray{Float64,1}(15) [0.0060661, 0.832514, 0.591491, 0.600067]\n",
      "  B: DataArrays.DataArray{Float64,1}(15) [0.608687, 0.16457, 0.201702, 0.490529]\n",
      "  C: DataArrays.DataArray{Float64,1}(15) [0.411015, 0.0504304, 0.0776513, 0.133146]\n",
      "  D: DataArrays.DataArray{Float64,1}(15) [0.413673, 0.587502, 0.679993, 0.426806]\n",
      "\n"
     ]
    }
   ],
   "source": [
    "dump(df3)"
   ]
  },
  {
   "cell_type": "markdown",
   "metadata": {},
   "source": [
    "We note $ 15 $ observations (rows), each for $ 4 $ variables (columns).  A list of all the variables is given."
   ]
  },
  {
   "cell_type": "markdown",
   "metadata": {},
   "source": [
    "We can use the `describe()` function on the complete DataFrame or only on select columns to get some descriptive statistics on each column, provided the data is numerical."
   ]
  },
  {
   "cell_type": "code",
   "execution_count": 26,
   "metadata": {},
   "outputs": [
    {
     "name": "stdout",
     "output_type": "stream",
     "text": [
      "A\n",
      "Summary Stats:\n",
      "Mean:           0.378559\n",
      "Minimum:        0.006066\n",
      "1st Quartile:   0.139587\n",
      "Median:         0.332803\n",
      "3rd Quartile:   0.595779\n",
      "Maximum:        0.835533\n",
      "Length:         15\n",
      "Type:           Float64\n",
      "Number Missing: 0\n",
      "% Missing:      0.000000\n",
      "\n",
      "B\n",
      "Summary Stats:\n",
      "Mean:           0.376719\n",
      "Minimum:        0.024627\n",
      "1st Quartile:   0.179108\n",
      "Median:         0.429306\n",
      "3rd Quartile:   0.549608\n",
      "Maximum:        0.734138\n",
      "Length:         15\n",
      "Type:           Float64\n",
      "Number Missing: 0\n",
      "% Missing:      0.000000\n",
      "\n",
      "C\n",
      "Summary Stats:\n",
      "Mean:           0.461313\n",
      "Minimum:        0.050430\n",
      "1st Quartile:   0.131883\n",
      "Median:         0.411015\n",
      "3rd Quartile:   0.783280\n",
      "Maximum:        0.995804\n",
      "Length:         15\n",
      "Type:           Float64\n",
      "Number Missing: 0\n",
      "% Missing:      0.000000\n",
      "\n",
      "D\n",
      "Summary Stats:\n",
      "Mean:           0.478821\n",
      "Minimum:        0.061896\n",
      "1st Quartile:   0.285973\n",
      "Median:         0.442303\n",
      "3rd Quartile:   0.671301\n",
      "Maximum:        0.851480\n",
      "Length:         15\n",
      "Type:           Float64\n",
      "Number Missing: 0\n",
      "% Missing:      0.000000\n",
      "\n"
     ]
    }
   ],
   "source": [
    "describe(df3)"
   ]
  },
  {
   "cell_type": "code",
   "execution_count": 27,
   "metadata": {},
   "outputs": [
    {
     "name": "stdout",
     "output_type": "stream",
     "text": [
      "A\n",
      "Summary Stats:\n",
      "Mean:           3.000000\n",
      "Minimum:        1.000000\n",
      "1st Quartile:   2.000000\n",
      "Median:         3.000000\n",
      "3rd Quartile:   4.000000\n",
      "Maximum:        5.000000\n",
      "Length:         5\n",
      "Type:           Int64\n",
      "Number Missing: 0\n",
      "% Missing:      0.000000\n",
      "\n",
      "B\n",
      "Summary Stats:\n",
      "Length:         5\n",
      "Type:           String\n",
      "Number Unique:  5\n",
      "Number Missing: 0\n",
      "% Missing:      0.000000\n",
      "\n"
     ]
    }
   ],
   "source": [
    "# Looking at what happens in the case of a column with strings\n",
    "describe(df2)"
   ]
  },
  {
   "cell_type": "markdown",
   "metadata": {
    "collapsed": true
   },
   "source": [
    "In column B we note $ 5 $ data point values each of ASCIIString type.  There are no missing values and all $ 5 $ values are unique (no repeats)."
   ]
  },
  {
   "cell_type": "markdown",
   "metadata": {},
   "source": [
    "We can display only certain rows and column of our DataFrame in a variety of ways."
   ]
  },
  {
   "cell_type": "code",
   "execution_count": 28,
   "metadata": {},
   "outputs": [
    {
     "data": {
      "text/plain": [
       "15-element DataArrays.DataArray{Float64,1}:\n",
       " 0.0060661\n",
       " 0.832514 \n",
       " 0.591491 \n",
       " 0.600067 \n",
       " 0.835533 \n",
       " 0.247481 \n",
       " 0.452691 \n",
       " 0.327043 \n",
       " 0.0210116\n",
       " 0.517354 \n",
       " 0.0308834\n",
       " 0.332803 \n",
       " 0.164227 \n",
       " 0.114947 \n",
       " 0.604272 "
      ]
     },
     "execution_count": 28,
     "metadata": {},
     "output_type": "execute_result"
    }
   ],
   "source": [
    "# Viewing only column A\n",
    "df3[:A]"
   ]
  },
  {
   "cell_type": "code",
   "execution_count": 29,
   "metadata": {},
   "outputs": [
    {
     "data": {
      "text/html": [
       "<table class=\"data-frame\"><thead><tr><th></th><th>A</th><th>C</th></tr></thead><tbody><tr><th>1</th><td>0.006066100733944424</td><td>0.4110154311073244</td></tr><tr><th>2</th><td>0.8325139648921298</td><td>0.05043042445917534</td></tr><tr><th>3</th><td>0.5914908698671428</td><td>0.07765130932594189</td></tr><tr><th>4</th><td>0.6000665438259625</td><td>0.1331463260950123</td></tr><tr><th>5</th><td>0.8355333085292664</td><td>0.7747586241586202</td></tr><tr><th>6</th><td>0.24748134364726293</td><td>0.5764720099712914</td></tr><tr><th>7</th><td>0.45269053627574296</td><td>0.1306188565404356</td></tr><tr><th>8</th><td>0.3270427427747109</td><td>0.791801234858974</td></tr><tr><th>9</th><td>0.021011571941348617</td><td>0.1367867303550696</td></tr><tr><th>10</th><td>0.5173543760482218</td><td>0.8876945542048431</td></tr><tr><th>11</th><td>0.030883352120425922</td><td>0.9958036739846865</td></tr><tr><th>12</th><td>0.3328030282682686</td><td>0.6574900797257031</td></tr><tr><th>13</th><td>0.16422732692300612</td><td>0.329394116331861</td></tr><tr><th>14</th><td>0.11494676577188279</td><td>0.8439239840618913</td></tr><tr><th>15</th><td>0.6042722135002994</td><td>0.12271068630964521</td></tr></tbody></table>"
      ],
      "text/plain": [
       "15×2 DataFrames.DataFrame\n",
       "│ Row │ A         │ C         │\n",
       "├─────┼───────────┼───────────┤\n",
       "│ 1   │ 0.0060661 │ 0.411015  │\n",
       "│ 2   │ 0.832514  │ 0.0504304 │\n",
       "│ 3   │ 0.591491  │ 0.0776513 │\n",
       "│ 4   │ 0.600067  │ 0.133146  │\n",
       "│ 5   │ 0.835533  │ 0.774759  │\n",
       "│ 6   │ 0.247481  │ 0.576472  │\n",
       "│ 7   │ 0.452691  │ 0.130619  │\n",
       "│ 8   │ 0.327043  │ 0.791801  │\n",
       "│ 9   │ 0.0210116 │ 0.136787  │\n",
       "│ 10  │ 0.517354  │ 0.887695  │\n",
       "│ 11  │ 0.0308834 │ 0.995804  │\n",
       "│ 12  │ 0.332803  │ 0.65749   │\n",
       "│ 13  │ 0.164227  │ 0.329394  │\n",
       "│ 14  │ 0.114947  │ 0.843924  │\n",
       "│ 15  │ 0.604272  │ 0.122711  │"
      ]
     },
     "execution_count": 29,
     "metadata": {},
     "output_type": "execute_result"
    }
   ],
   "source": [
    "# Viewing columns A and C\n",
    "df3[[:A, :C]]"
   ]
  },
  {
   "cell_type": "code",
   "execution_count": 30,
   "metadata": {},
   "outputs": [
    {
     "data": {
      "text/html": [
       "<table class=\"data-frame\"><thead><tr><th></th><th>A</th><th>C</th></tr></thead><tbody><tr><th>1</th><td>0.006066100733944424</td><td>0.4110154311073244</td></tr><tr><th>2</th><td>0.8325139648921298</td><td>0.05043042445917534</td></tr><tr><th>3</th><td>0.5914908698671428</td><td>0.07765130932594189</td></tr><tr><th>4</th><td>0.6000665438259625</td><td>0.1331463260950123</td></tr><tr><th>5</th><td>0.8355333085292664</td><td>0.7747586241586202</td></tr><tr><th>6</th><td>0.24748134364726293</td><td>0.5764720099712914</td></tr><tr><th>7</th><td>0.45269053627574296</td><td>0.1306188565404356</td></tr><tr><th>8</th><td>0.3270427427747109</td><td>0.791801234858974</td></tr><tr><th>9</th><td>0.021011571941348617</td><td>0.1367867303550696</td></tr><tr><th>10</th><td>0.5173543760482218</td><td>0.8876945542048431</td></tr><tr><th>11</th><td>0.030883352120425922</td><td>0.9958036739846865</td></tr><tr><th>12</th><td>0.3328030282682686</td><td>0.6574900797257031</td></tr><tr><th>13</th><td>0.16422732692300612</td><td>0.329394116331861</td></tr><tr><th>14</th><td>0.11494676577188279</td><td>0.8439239840618913</td></tr><tr><th>15</th><td>0.6042722135002994</td><td>0.12271068630964521</td></tr></tbody></table>"
      ],
      "text/plain": [
       "15×2 DataFrames.DataFrame\n",
       "│ Row │ A         │ C         │\n",
       "├─────┼───────────┼───────────┤\n",
       "│ 1   │ 0.0060661 │ 0.411015  │\n",
       "│ 2   │ 0.832514  │ 0.0504304 │\n",
       "│ 3   │ 0.591491  │ 0.0776513 │\n",
       "│ 4   │ 0.600067  │ 0.133146  │\n",
       "│ 5   │ 0.835533  │ 0.774759  │\n",
       "│ 6   │ 0.247481  │ 0.576472  │\n",
       "│ 7   │ 0.452691  │ 0.130619  │\n",
       "│ 8   │ 0.327043  │ 0.791801  │\n",
       "│ 9   │ 0.0210116 │ 0.136787  │\n",
       "│ 10  │ 0.517354  │ 0.887695  │\n",
       "│ 11  │ 0.0308834 │ 0.995804  │\n",
       "│ 12  │ 0.332803  │ 0.65749   │\n",
       "│ 13  │ 0.164227  │ 0.329394  │\n",
       "│ 14  │ 0.114947  │ 0.843924  │\n",
       "│ 15  │ 0.604272  │ 0.122711  │"
      ]
     },
     "execution_count": 30,
     "metadata": {},
     "output_type": "execute_result"
    }
   ],
   "source": [
    "# Viewing columns A and C by index value\n",
    "df3[[1, 3]]"
   ]
  },
  {
   "cell_type": "code",
   "execution_count": 31,
   "metadata": {},
   "outputs": [
    {
     "data": {
      "text/html": [
       "<table class=\"data-frame\"><thead><tr><th></th><th>A</th><th>B</th><th>C</th><th>D</th></tr></thead><tbody><tr><th>1</th><td>0.5914908698671428</td><td>0.2017016159174152</td><td>0.07765130932594189</td><td>0.6799933384840231</td></tr><tr><th>2</th><td>0.6000665438259625</td><td>0.4905293205675465</td><td>0.1331463260950123</td><td>0.4268060185087932</td></tr><tr><th>3</th><td>0.8355333085292664</td><td>0.024627201236158802</td><td>0.7747586241586202</td><td>0.061896424849607</td></tr></tbody></table>"
      ],
      "text/plain": [
       "3×4 DataFrames.DataFrame\n",
       "│ Row │ A        │ B         │ C         │ D         │\n",
       "├─────┼──────────┼───────────┼───────────┼───────────┤\n",
       "│ 1   │ 0.591491 │ 0.201702  │ 0.0776513 │ 0.679993  │\n",
       "│ 2   │ 0.600067 │ 0.490529  │ 0.133146  │ 0.426806  │\n",
       "│ 3   │ 0.835533 │ 0.0246272 │ 0.774759  │ 0.0618964 │"
      ]
     },
     "execution_count": 31,
     "metadata": {},
     "output_type": "execute_result"
    }
   ],
   "source": [
    "# Viewing only rows 3 to 5 for all columns\n",
    "df3[3:5, :]"
   ]
  },
  {
   "cell_type": "code",
   "execution_count": 32,
   "metadata": {},
   "outputs": [
    {
     "data": {
      "text/html": [
       "<table class=\"data-frame\"><thead><tr><th></th><th>A</th><th>C</th></tr></thead><tbody><tr><th>1</th><td>0.5914908698671428</td><td>0.07765130932594189</td></tr><tr><th>2</th><td>0.8355333085292664</td><td>0.7747586241586202</td></tr></tbody></table>"
      ],
      "text/plain": [
       "2×2 DataFrames.DataFrame\n",
       "│ Row │ A        │ C         │\n",
       "├─────┼──────────┼───────────┤\n",
       "│ 1   │ 0.591491 │ 0.0776513 │\n",
       "│ 2   │ 0.835533 │ 0.774759  │"
      ]
     },
     "execution_count": 32,
     "metadata": {},
     "output_type": "execute_result"
    }
   ],
   "source": [
    "# Viewing rows 3 and 5 for columns A and C\n",
    "df3[[3, 5], [:A, :C]]"
   ]
  },
  {
   "cell_type": "markdown",
   "metadata": {},
   "source": [
    "[Back to the top](#In-this-lesson)"
   ]
  },
  {
   "cell_type": "markdown",
   "metadata": {},
   "source": [
    "## Importing an exporting data files"
   ]
  },
  {
   "cell_type": "markdown",
   "metadata": {},
   "source": [
    "- [Reading tabular data](#Reading-tabular-data)\n",
    "- [Exporting a DataFrame](#Exporting-a-DataFrame)"
   ]
  },
  {
   "cell_type": "markdown",
   "metadata": {},
   "source": [
    "### Reading tabular data"
   ]
  },
  {
   "cell_type": "markdown",
   "metadata": {},
   "source": [
    "Data that are stored in tabular form such as delimited files, i.e. comma separated files `.csv` or tab separated files or space delimited files can be imported as DataFrames using the DataFrames' function `readtable()` ."
   ]
  },
  {
   "cell_type": "markdown",
   "metadata": {},
   "source": [
    "This function takes one argument, the name of the file to be read: ```filename::AbstractString```, i.e. ```data.csv```.  There are a number of keyword arguments.\n",
    "- ```header::Bool``` defaults to ```true``` and uses the tabular data file's header line values (first row) as column names\n",
    "- ```separator::Char```uses the fact that delimited files have elements separated by some character, i.e. ```,``` for ```.csv```, a TAB for ```.tsv``` files or a space for ```.wsv``` files and these can bes specified (else the function uses the file extension to infer the separator character)\n",
    "- ```nrows::Int``` indicates how many rows (from the top) should be read and defaults to $ -1 $ which indicates the all the rows\n",
    "- ```names::Vector{Symbol}``` can be populated by column names to be used instead of the values in the first row\n",
    "- ```quotemark::Vector{Char}``` can be used to indicated that values between certain characters such as quoattion marks shoud be views as belonging to a single element and any separator characted inside of these marks will not be viewed as separators\n",
    "- ```decimal::Char``` can be set to something like a comma if values in the file used a comma a decimal indicator, else defaults to the full-stop character as indicator of decimal values\n",
    "- ```nastrings::Vector{String}``` translate any of the strings into this vector into an ```NA``` and defaults to ```[\"\", \"NA\"]```\n",
    "- ```truestrings::Vector{String}``` translate any of the strings into this vector into a Boolean true. Defaults to [\"T\", \"t\", \"TRUE\", \"true\"]\n",
    "- ```falsestrings::Vector{String}``` translate any of the strings into this vector into a Boolean ```false``` and defaults to ```[\"F\", \"f\", \"FALSE\", \"false\"]```\n",
    "- ```makefactors::Bool``` convert string columns into PooledDataVector's for use as factors and defaults to ```false```\n",
    "- ```eltypes::Vector``` specifies the types of all columns and defaults to ```[]```\n",
    "- ```allowcomments::Bool``` ignores all text inside comments and defaults to ```false```\n",
    "- ```commentmark::Char``` specifies the character that starts comments and defaults to ```'#'```\n",
    "- ```ignorepadding::Bool``` ignores all whitespace on left and right sides of a field and defaults to ```true```\n",
    "- ```skipstart::Int``` specifies the number of initial rows to skip and defaults to ```0```\n",
    "- ```skiprows::Vector{Int}``` specifies the indices of lines in the input to ignore and defaults to ```[]```\n",
    "- ```skipblanks::Bool``` skips any blank lines in input and defaults to ```true```\n",
    "- ```encoding::Symbol``` specifies the file's encoding as either ```:utf8``` or ```:latin1``` and defaults to ```:utf8```\n",
    "- ```normalizenames::Bool``` ensures that column names are valid Julia identifiers, i.e. this renames a column named ```a b``` to ```a_b``` which can then be accessed with ```:a_b``` instead of ```Symbol(\"a b\")``` and defaults to ```true```"
   ]
  },
  {
   "cell_type": "code",
   "execution_count": 33,
   "metadata": {},
   "outputs": [
    {
     "data": {
      "text/html": [
       "<table class=\"data-frame\"><thead><tr><th></th><th>PatientID</th><th>Cat1</th><th>Cat2</th><th>Var1</th><th>Var2</th><th>Var3</th></tr></thead><tbody><tr><th>1</th><td>1</td><td>A</td><td>C</td><td>38.25682170735211</td><td>5.939131803063266</td><td>35.05790787394423</td></tr><tr><th>2</th><td>2</td><td>A</td><td>C</td><td>17.831672926455425</td><td>5.3475437647467015</td><td>21.130960534087748</td></tr><tr><th>3</th><td>8</td><td>A</td><td>B</td><td>16.021847362622296</td><td>6.60708739107548</td><td>60.94357572800236</td></tr><tr><th>4</th><td>9</td><td>A</td><td>C</td><td>45.11578946046756</td><td>6.007331523437179</td><td>21.879716257527214</td></tr><tr><th>5</th><td>16</td><td>A</td><td>C</td><td>20.448024664719128</td><td>8.548191553013755</td><td>20.662273742223093</td></tr><tr><th>6</th><td>18</td><td>A</td><td>B</td><td>28.354866592358434</td><td>7.956423420109708</td><td>33.180721180524046</td></tr><tr><th>7</th><td>25</td><td>A</td><td>C</td><td>22.449698055243154</td><td>6.346176553966556</td><td>40.23647859806062</td></tr><tr><th>8</th><td>28</td><td>A</td><td>B</td><td>48.41249747282861</td><td>5.325830066483782</td><td>28.89558282117991</td></tr><tr><th>9</th><td>29</td><td>A</td><td>C</td><td>40.00749019795842</td><td>11.418946000149159</td><td>71.59107138476448</td></tr><tr><th>10</th><td>33</td><td>A</td><td>C</td><td>20.718078088759942</td><td>5.3776825349838875</td><td>27.421634761166143</td></tr><tr><th>11</th><td>37</td><td>A</td><td>B</td><td>17.039552902790813</td><td>5.341678126021321</td><td>24.350125791798412</td></tr><tr><th>12</th><td>38</td><td>A</td><td>B</td><td>42.668677048130725</td><td>5.822836826149952</td><td>52.361023970347645</td></tr><tr><th>13</th><td>41</td><td>A</td><td>B</td><td>19.954005492731604</td><td>5.139109665644092</td><td>93.1999049245544</td></tr><tr><th>14</th><td>42</td><td>A</td><td>B</td><td>20.616861807456626</td><td>5.373775257683365</td><td>22.956316044932706</td></tr><tr><th>15</th><td>45</td><td>A</td><td>B</td><td>31.96943333536114</td><td>7.03175222186184</td><td>32.4353920798117</td></tr><tr><th>16</th><td>48</td><td>A</td><td>C</td><td>15.896503262657347</td><td>6.816307422196048</td><td>56.91791495074396</td></tr><tr><th>17</th><td>50</td><td>A</td><td>B</td><td>34.12637671623271</td><td>10.132043236302893</td><td>95.0800494348705</td></tr><tr><th>18</th><td>54</td><td>A</td><td>C</td><td>17.266696029416444</td><td>6.232851527491789</td><td>30.592429272236995</td></tr><tr><th>19</th><td>56</td><td>A</td><td>B</td><td>17.65139392415621</td><td>6.482234591532695</td><td>30.411111164705403</td></tr><tr><th>20</th><td>57</td><td>A</td><td>C</td><td>19.411007643097165</td><td>6.7381729160524415</td><td>51.404061512592136</td></tr><tr><th>21</th><td>58</td><td>A</td><td>B</td><td>20.72167664093812</td><td>12.544965670716241</td><td>23.516481089946932</td></tr><tr><th>22</th><td>72</td><td>A</td><td>C</td><td>41.067434948202134</td><td>6.790353447911059</td><td>25.463601202747274</td></tr><tr><th>23</th><td>77</td><td>A</td><td>C</td><td>21.748637652644852</td><td>5.331207233871429</td><td>53.37901535144456</td></tr><tr><th>24</th><td>79</td><td>A</td><td>B</td><td>24.795379875133985</td><td>6.421028372159899</td><td>67.80454363409564</td></tr><tr><th>25</th><td>81</td><td>A</td><td>C</td><td>19.455898596105506</td><td>15.58264883701855</td><td>42.09359631060543</td></tr><tr><th>26</th><td>87</td><td>A</td><td>B</td><td>20.42366215424995</td><td>6.0313350908620045</td><td>20.315296150337286</td></tr><tr><th>27</th><td>90</td><td>A</td><td>B</td><td>32.12531899176456</td><td>7.5079670766812505</td><td>30.041428426466076</td></tr><tr><th>28</th><td>91</td><td>A</td><td>C</td><td>27.80314774867038</td><td>5.569594345445192</td><td>20.873838118661297</td></tr><tr><th>29</th><td>93</td><td>A</td><td>B</td><td>22.519476318918194</td><td>8.263168140286755</td><td>38.939609071578595</td></tr><tr><th>30</th><td>96</td><td>A</td><td>C</td><td>52.42066995572101</td><td>10.589195161626716</td><td>22.849503575655408</td></tr><tr><th>&vellip;</th><td>&vellip;</td><td>&vellip;</td><td>&vellip;</td><td>&vellip;</td><td>&vellip;</td><td>&vellip;</td></tr></tbody></table>"
      ],
      "text/plain": [
       "120×6 DataFrames.DataFrame\n",
       "│ Row │ PatientID │ Cat1 │ Cat2 │ Var1    │ Var2    │ Var3    │\n",
       "├─────┼───────────┼──────┼──────┼─────────┼─────────┼─────────┤\n",
       "│ 1   │ 1         │ \"A\"  │ \"C\"  │ 38.2568 │ 5.93913 │ 35.0579 │\n",
       "│ 2   │ 2         │ \"A\"  │ \"C\"  │ 17.8317 │ 5.34754 │ 21.131  │\n",
       "│ 3   │ 8         │ \"A\"  │ \"B\"  │ 16.0218 │ 6.60709 │ 60.9436 │\n",
       "│ 4   │ 9         │ \"A\"  │ \"C\"  │ 45.1158 │ 6.00733 │ 21.8797 │\n",
       "│ 5   │ 16        │ \"A\"  │ \"C\"  │ 20.448  │ 8.54819 │ 20.6623 │\n",
       "│ 6   │ 18        │ \"A\"  │ \"B\"  │ 28.3549 │ 7.95642 │ 33.1807 │\n",
       "│ 7   │ 25        │ \"A\"  │ \"C\"  │ 22.4497 │ 6.34618 │ 40.2365 │\n",
       "│ 8   │ 28        │ \"A\"  │ \"B\"  │ 48.4125 │ 5.32583 │ 28.8956 │\n",
       "│ 9   │ 29        │ \"A\"  │ \"C\"  │ 40.0075 │ 11.4189 │ 71.5911 │\n",
       "│ 10  │ 33        │ \"A\"  │ \"C\"  │ 20.7181 │ 5.37768 │ 27.4216 │\n",
       "│ 11  │ 37        │ \"A\"  │ \"B\"  │ 17.0396 │ 5.34168 │ 24.3501 │\n",
       "⋮\n",
       "│ 109 │ 76        │ \"B\"  │ \"R\"  │ 17.0029 │ 5.39477 │ 31.1297 │\n",
       "│ 110 │ 78        │ \"B\"  │ \"L\"  │ 55.3879 │ 4.15304 │ 40.0846 │\n",
       "│ 111 │ 80        │ \"B\"  │ \"R\"  │ 20.2205 │ 6.36442 │ 45.435  │\n",
       "│ 112 │ 83        │ \"B\"  │ \"L\"  │ 16.4172 │ 3.84167 │ 89.6969 │\n",
       "│ 113 │ 84        │ \"B\"  │ \"R\"  │ 47.6224 │ 5.40032 │ 47.4541 │\n",
       "│ 114 │ 86        │ \"B\"  │ \"L\"  │ 73.0229 │ 3.38349 │ 55.1737 │\n",
       "│ 115 │ 92        │ \"B\"  │ \"R\"  │ 16.4106 │ 4.30351 │ 87.7357 │\n",
       "│ 116 │ 95        │ \"B\"  │ \"R\"  │ 16.2801 │ 3.37252 │ 52.6018 │\n",
       "│ 117 │ 101       │ \"B\"  │ \"L\"  │ 16.8883 │ 3.19598 │ 60.1883 │\n",
       "│ 118 │ 113       │ \"B\"  │ \"R\"  │ 32.3537 │ 3.38677 │ 30.0157 │\n",
       "│ 119 │ 115       │ \"B\"  │ \"R\"  │ 20.1379 │ 3.42731 │ 44.6893 │\n",
       "│ 120 │ 119       │ \"B\"  │ \"L\"  │ 17.6144 │ 3.45116 │ 40.6947 │"
      ]
     },
     "execution_count": 33,
     "metadata": {},
     "output_type": "execute_result"
    }
   ],
   "source": [
    "# Example\n",
    "data1 = readtable(\"CCS.csv\")"
   ]
  },
  {
   "cell_type": "code",
   "execution_count": 34,
   "metadata": {},
   "outputs": [
    {
     "data": {
      "text/plain": [
       "DataFrames.DataFrame"
      ]
     },
     "execution_count": 34,
     "metadata": {},
     "output_type": "execute_result"
    }
   ],
   "source": [
    "# data1 is now a DataFrame\n",
    "typeof(data1)"
   ]
  },
  {
   "cell_type": "markdown",
   "metadata": {},
   "source": [
    "[Back to: Importing an exporting data files](#Importing-an-exporting-data-files)"
   ]
  },
  {
   "cell_type": "markdown",
   "metadata": {},
   "source": [
    "### Exporting a DataFrame"
   ]
  },
  {
   "cell_type": "markdown",
   "metadata": {},
   "source": [
    "A DataFrame can be exported as a delimited file using the ```writetable()``` function.  The function takes two arguments:\n",
    "- ```filename::AbstractString``` specifies the file name to be created, i.e. ```data.csv```\n",
    "- ```df::AbstractDataFrame``` specifies the name of the DataFrame to be exported\n",
    "There are a number of keywrod arguments:\n",
    "- ```separator::Char``` specifies the separator character that you would like to use and defaults to the output of getseparator(filename), which uses commas for files that end in ```.csv```, tabs for files that end in ```.tsv``` and a single space for files that end in ```.wsv```\n",
    "- ```quotemark::Char``` specifies the character used to delimit string fields and defaults to ```'\"'```\n",
    "- ```header::Bool``` specifies the column names from ```df``` and defaults to ```true```\n",
    "- ```nastring::AbstractString``` specifies what to write in place of missing data and defaults to ```NA```"
   ]
  },
  {
   "cell_type": "markdown",
   "metadata": {},
   "source": [
    "[Back to: Importing an exporting data files](#Importing-an-exporting-data-files)"
   ]
  },
  {
   "cell_type": "markdown",
   "metadata": {},
   "source": [
    "[Back to the top](#In-this-lesson)"
   ]
  },
  {
   "cell_type": "markdown",
   "metadata": {},
   "source": [
    "## Combining DataFrames"
   ]
  },
  {
   "cell_type": "markdown",
   "metadata": {},
   "source": [
    "Very often in data science and statistical analysis we have more than one DataFrame pertaining to the same research project and which to combine them in some way.  This is called a **join**.  In this first part we will construct to simple DataFrames to illustrate the basic concept of a DataFrames ```join```."
   ]
  },
  {
   "cell_type": "code",
   "execution_count": 35,
   "metadata": {
    "collapsed": true
   },
   "outputs": [],
   "source": [
    "# Creating two DataFrames\n",
    "subjects = DataFrame(Number = [100, 101, 102, 103], Stage = [\"I\", \"III\", \"II\", \"I\"])\n",
    "treatment  = DataFrame(Number = [103, 102, 101, 100], Treatment = [\"A\", \"B\", \"A\", \"B\"]);"
   ]
  },
  {
   "cell_type": "code",
   "execution_count": 36,
   "metadata": {},
   "outputs": [
    {
     "data": {
      "text/html": [
       "<table class=\"data-frame\"><thead><tr><th></th><th>Number</th><th>Stage</th></tr></thead><tbody><tr><th>1</th><td>100</td><td>I</td></tr><tr><th>2</th><td>101</td><td>III</td></tr><tr><th>3</th><td>102</td><td>II</td></tr><tr><th>4</th><td>103</td><td>I</td></tr></tbody></table>"
      ],
      "text/plain": [
       "4×2 DataFrames.DataFrame\n",
       "│ Row │ Number │ Stage │\n",
       "├─────┼────────┼───────┤\n",
       "│ 1   │ 100    │ \"I\"   │\n",
       "│ 2   │ 101    │ \"III\" │\n",
       "│ 3   │ 102    │ \"II\"  │\n",
       "│ 4   │ 103    │ \"I\"   │"
      ]
     },
     "execution_count": 36,
     "metadata": {},
     "output_type": "execute_result"
    }
   ],
   "source": [
    "subjects"
   ]
  },
  {
   "cell_type": "code",
   "execution_count": 37,
   "metadata": {},
   "outputs": [
    {
     "data": {
      "text/html": [
       "<table class=\"data-frame\"><thead><tr><th></th><th>Number</th><th>Treatment</th></tr></thead><tbody><tr><th>1</th><td>103</td><td>A</td></tr><tr><th>2</th><td>102</td><td>B</td></tr><tr><th>3</th><td>101</td><td>A</td></tr><tr><th>4</th><td>100</td><td>B</td></tr></tbody></table>"
      ],
      "text/plain": [
       "4×2 DataFrames.DataFrame\n",
       "│ Row │ Number │ Treatment │\n",
       "├─────┼────────┼───────────┤\n",
       "│ 1   │ 103    │ \"A\"       │\n",
       "│ 2   │ 102    │ \"B\"       │\n",
       "│ 3   │ 101    │ \"A\"       │\n",
       "│ 4   │ 100    │ \"B\"       │"
      ]
     },
     "execution_count": 37,
     "metadata": {},
     "output_type": "execute_result"
    }
   ],
   "source": [
    "treatment"
   ]
  },
  {
   "cell_type": "markdown",
   "metadata": {},
   "source": [
    "In the ```subjects``` DataFrame we have a column **Number** that contains $ 4 $ research subject numbers.  The column **Stage** colum indicates the stage of disease of each subject."
   ]
  },
  {
   "cell_type": "markdown",
   "metadata": {},
   "source": [
    "The ```treatment``` DataFrame has a similar **Number** column, with the same subject numbers (not in similar order as in the ```subject``` DataFrame), but this time there is a column named **Treatment** that specifies the treatment arm that each subject is in."
   ]
  },
  {
   "cell_type": "markdown",
   "metadata": {},
   "source": [
    "We can combine these two DataFrames into one using the ```join()``` function.  It takes as arguments the names of the original DataFrames and the column name on which to join."
   ]
  },
  {
   "cell_type": "code",
   "execution_count": 38,
   "metadata": {},
   "outputs": [
    {
     "data": {
      "text/html": [
       "<table class=\"data-frame\"><thead><tr><th></th><th>Number</th><th>Stage</th><th>Treatment</th></tr></thead><tbody><tr><th>1</th><td>100</td><td>I</td><td>B</td></tr><tr><th>2</th><td>101</td><td>III</td><td>A</td></tr><tr><th>3</th><td>102</td><td>II</td><td>B</td></tr><tr><th>4</th><td>103</td><td>I</td><td>A</td></tr></tbody></table>"
      ],
      "text/plain": [
       "4×3 DataFrames.DataFrame\n",
       "│ Row │ Number │ Stage │ Treatment │\n",
       "├─────┼────────┼───────┼───────────┤\n",
       "│ 1   │ 100    │ \"I\"   │ \"B\"       │\n",
       "│ 2   │ 101    │ \"III\" │ \"A\"       │\n",
       "│ 3   │ 102    │ \"II\"  │ \"B\"       │\n",
       "│ 4   │ 103    │ \"I\"   │ \"A\"       │"
      ]
     },
     "execution_count": 38,
     "metadata": {},
     "output_type": "execute_result"
    }
   ],
   "source": [
    "# Joing on a similarly named column\n",
    "df5 = join(subjects, treatment, on = :Number)"
   ]
  },
  {
   "cell_type": "markdown",
   "metadata": {},
   "source": [
    "The DataFrames were correctly combined.  You can well imagine a scenario where DataFrames are not so easy to combine, i.e. a dissimilar number of rows.  For these, the ```DataFrames``` package provides seven different types of joins using the argument ``` kind = ```:\n",
    "- ```:inner:``` contains rows for values of the key that exist in both the first (left) and second (right) arguments to join\n",
    "- ```:outer:``` contains rows for values of the key that exist in the first (left) or second (right) argument to join (i.e. all)\n",
    "- ```:left:``` contains rows for values of the key that exist in the first (left) argument to join, whether or not that value exists in the second (right) argument\n",
    "- ```:right:``` The contains rows for values of the key that exist in the second (right) argument to join, whether or not that value exists in the first (left) argument\n",
    "- ```:semi:``` is like an inner join, but output is restricted to columns from the first (left) argument to join\n",
    "- ```:anti:``` contains rows for values of the key that exist in the first (left) but not the second (right) argument to join and as with ```:semi``` joins, output is restricted to columns from the first (left) argument\n",
    "- ```:cross:``` is the cartesian product of rows from the first (left) and second (right) arguments to join"
   ]
  },
  {
   "cell_type": "code",
   "execution_count": 39,
   "metadata": {},
   "outputs": [
    {
     "data": {
      "text/html": [
       "<table class=\"data-frame\"><thead><tr><th></th><th>Number</th><th>Stage</th></tr></thead><tbody><tr><th>1</th><td>100</td><td>I</td></tr><tr><th>2</th><td>101</td><td>III</td></tr><tr><th>3</th><td>102</td><td>II</td></tr><tr><th>4</th><td>103</td><td>I</td></tr><tr><th>5</th><td>104</td><td>II</td></tr><tr><th>6</th><td>105</td><td>II</td></tr></tbody></table>"
      ],
      "text/plain": [
       "6×2 DataFrames.DataFrame\n",
       "│ Row │ Number │ Stage │\n",
       "├─────┼────────┼───────┤\n",
       "│ 1   │ 100    │ \"I\"   │\n",
       "│ 2   │ 101    │ \"III\" │\n",
       "│ 3   │ 102    │ \"II\"  │\n",
       "│ 4   │ 103    │ \"I\"   │\n",
       "│ 5   │ 104    │ \"II\"  │\n",
       "│ 6   │ 105    │ \"II\"  │"
      ]
     },
     "execution_count": 39,
     "metadata": {},
     "output_type": "execute_result"
    }
   ],
   "source": [
    "# Adding a longer list of subjects\n",
    "subjects = DataFrame(Number = [100, 101, 102, 103, 104, 105], Stage = [\"I\", \"III\", \"II\", \"I\", \"II\", \"II\"])"
   ]
  },
  {
   "cell_type": "code",
   "execution_count": 40,
   "metadata": {},
   "outputs": [
    {
     "data": {
      "text/html": [
       "<table class=\"data-frame\"><thead><tr><th></th><th>Number</th><th>Stage</th><th>Treatment</th></tr></thead><tbody><tr><th>1</th><td>100</td><td>I</td><td>B</td></tr><tr><th>2</th><td>101</td><td>III</td><td>A</td></tr><tr><th>3</th><td>102</td><td>II</td><td>B</td></tr><tr><th>4</th><td>103</td><td>I</td><td>A</td></tr></tbody></table>"
      ],
      "text/plain": [
       "4×3 DataFrames.DataFrame\n",
       "│ Row │ Number │ Stage │ Treatment │\n",
       "├─────┼────────┼───────┼───────────┤\n",
       "│ 1   │ 100    │ \"I\"   │ \"B\"       │\n",
       "│ 2   │ 101    │ \"III\" │ \"A\"       │\n",
       "│ 3   │ 102    │ \"II\"  │ \"B\"       │\n",
       "│ 4   │ 103    │ \"I\"   │ \"A\"       │"
      ]
     },
     "execution_count": 40,
     "metadata": {},
     "output_type": "execute_result"
    }
   ],
   "source": [
    "# Only contains subjects in that are in both DataFrames\n",
    "df6 = join(subjects, treatment, on = :Number, kind = :inner)"
   ]
  },
  {
   "cell_type": "code",
   "execution_count": 41,
   "metadata": {},
   "outputs": [
    {
     "data": {
      "text/html": [
       "<table class=\"data-frame\"><thead><tr><th></th><th>Number</th><th>Stage</th><th>Treatment</th></tr></thead><tbody><tr><th>1</th><td>100</td><td>I</td><td>B</td></tr><tr><th>2</th><td>101</td><td>III</td><td>A</td></tr><tr><th>3</th><td>102</td><td>II</td><td>B</td></tr><tr><th>4</th><td>103</td><td>I</td><td>A</td></tr><tr><th>5</th><td>104</td><td>II</td><td>NA</td></tr><tr><th>6</th><td>105</td><td>II</td><td>NA</td></tr></tbody></table>"
      ],
      "text/plain": [
       "6×3 DataFrames.DataFrame\n",
       "│ Row │ Number │ Stage │ Treatment │\n",
       "├─────┼────────┼───────┼───────────┤\n",
       "│ 1   │ 100    │ \"I\"   │ \"B\"       │\n",
       "│ 2   │ 101    │ \"III\" │ \"A\"       │\n",
       "│ 3   │ 102    │ \"II\"  │ \"B\"       │\n",
       "│ 4   │ 103    │ \"I\"   │ \"A\"       │\n",
       "│ 5   │ 104    │ \"II\"  │ NA        │\n",
       "│ 6   │ 105    │ \"II\"  │ NA        │"
      ]
     },
     "execution_count": 41,
     "metadata": {},
     "output_type": "execute_result"
    }
   ],
   "source": [
    "# Contains all the subjects\n",
    "# Empty fields filled with NA\n",
    "df7  = join(subjects, treatment, on = :Number, kind = :outer)"
   ]
  },
  {
   "cell_type": "markdown",
   "metadata": {},
   "source": [
    "[Back to the top](#In-this-lesson)"
   ]
  },
  {
   "cell_type": "markdown",
   "metadata": {},
   "source": [
    "## Grouping and splicing"
   ]
  },
  {
   "cell_type": "markdown",
   "metadata": {},
   "source": [
    "- [by](#by)\n",
    "- [aggregate](#aggregate)\n",
    "- [groupby](#groupby)\n",
    "- [sub](#sub)"
   ]
  },
  {
   "cell_type": "markdown",
   "metadata": {},
   "source": [
    "Perhaps just as common as [combining DataFrames](#Combining-DataFrames) in reseach projects is the need to group certain rows, applying a function to this grouping, such as counting the data point values and then combing the results.  For this, the ```DataFrames``` package provides the ```by()```, ```aggregate()``` and ```groupby()``` functions."
   ]
  },
  {
   "cell_type": "markdown",
   "metadata": {},
   "source": [
    "### by"
   ]
  },
  {
   "cell_type": "code",
   "execution_count": 42,
   "metadata": {},
   "outputs": [
    {
     "data": {
      "text/html": [
       "<table class=\"data-frame\"><thead><tr><th></th><th>Group</th><th>Variable1</th><th>Variable2</th></tr></thead><tbody><tr><th>1</th><td>B</td><td>0.12677507918069322</td><td>0.49542579456950153</td></tr><tr><th>2</th><td>B</td><td>0.3603710807429632</td><td>0.2640696106974594</td></tr><tr><th>3</th><td>C</td><td>-0.5081135505931501</td><td>0.8760266799672343</td></tr><tr><th>4</th><td>A</td><td>-0.15519232584716228</td><td>0.7742141589184184</td></tr><tr><th>5</th><td>A</td><td>-0.5941976083610289</td><td>0.3392656515749406</td></tr><tr><th>6</th><td>C</td><td>0.2766816582536977</td><td>0.7363153013961847</td></tr><tr><th>7</th><td>B</td><td>0.27429911822106445</td><td>0.18316549193407616</td></tr><tr><th>8</th><td>A</td><td>0.8161358771757333</td><td>0.23058652246209244</td></tr><tr><th>9</th><td>A</td><td>-0.5704629460679982</td><td>0.9404393256057346</td></tr><tr><th>10</th><td>A</td><td>-0.9197302771985247</td><td>0.8401020604487892</td></tr><tr><th>11</th><td>A</td><td>-0.6601443380813267</td><td>0.5806643463706258</td></tr><tr><th>12</th><td>A</td><td>0.39585724764023617</td><td>0.14558922082964076</td></tr><tr><th>13</th><td>A</td><td>-1.2851808676141296</td><td>0.5196561534767026</td></tr><tr><th>14</th><td>C</td><td>0.18770920603507318</td><td>0.9351303978594769</td></tr><tr><th>15</th><td>B</td><td>0.7195123112460544</td><td>0.2870723602157499</td></tr></tbody></table>"
      ],
      "text/plain": [
       "15×3 DataFrames.DataFrame\n",
       "│ Row │ Group │ Variable1 │ Variable2 │\n",
       "├─────┼───────┼───────────┼───────────┤\n",
       "│ 1   │ \"B\"   │ 0.126775  │ 0.495426  │\n",
       "│ 2   │ \"B\"   │ 0.360371  │ 0.26407   │\n",
       "│ 3   │ \"C\"   │ -0.508114 │ 0.876027  │\n",
       "│ 4   │ \"A\"   │ -0.155192 │ 0.774214  │\n",
       "│ 5   │ \"A\"   │ -0.594198 │ 0.339266  │\n",
       "│ 6   │ \"C\"   │ 0.276682  │ 0.736315  │\n",
       "│ 7   │ \"B\"   │ 0.274299  │ 0.183165  │\n",
       "│ 8   │ \"A\"   │ 0.816136  │ 0.230587  │\n",
       "│ 9   │ \"A\"   │ -0.570463 │ 0.940439  │\n",
       "│ 10  │ \"A\"   │ -0.91973  │ 0.840102  │\n",
       "│ 11  │ \"A\"   │ -0.660144 │ 0.580664  │\n",
       "│ 12  │ \"A\"   │ 0.395857  │ 0.145589  │\n",
       "│ 13  │ \"A\"   │ -1.28518  │ 0.519656  │\n",
       "│ 14  │ \"C\"   │ 0.187709  │ 0.93513   │\n",
       "│ 15  │ \"B\"   │ 0.719512  │ 0.287072  │"
      ]
     },
     "execution_count": 42,
     "metadata": {},
     "output_type": "execute_result"
    }
   ],
   "source": [
    "# Creating a DataFrame to work with\n",
    "df8 = DataFrame(Group = rand([\"A\", \"B\", \"C\"], 15),\n",
    "Variable1 = randn(15), Variable2 = rand(15))"
   ]
  },
  {
   "cell_type": "markdown",
   "metadata": {},
   "source": [
    "Let's starts by grouping by the data point values in column **Group** and returning the size of the resulting split sections."
   ]
  },
  {
   "cell_type": "code",
   "execution_count": 43,
   "metadata": {},
   "outputs": [
    {
     "data": {
      "text/html": [
       "<table class=\"data-frame\"><thead><tr><th></th><th>Group</th><th>x1</th></tr></thead><tbody><tr><th>1</th><td>A</td><td>(8, 3)</td></tr><tr><th>2</th><td>B</td><td>(4, 3)</td></tr><tr><th>3</th><td>C</td><td>(3, 3)</td></tr></tbody></table>"
      ],
      "text/plain": [
       "3×2 DataFrames.DataFrame\n",
       "│ Row │ Group │ x1     │\n",
       "├─────┼───────┼────────┤\n",
       "│ 1   │ \"A\"   │ (8, 3) │\n",
       "│ 2   │ \"B\"   │ (4, 3) │\n",
       "│ 3   │ \"C\"   │ (3, 3) │"
      ]
     },
     "execution_count": 43,
     "metadata": {},
     "output_type": "execute_result"
    }
   ],
   "source": [
    "by(df8, :Group, size)"
   ]
  },
  {
   "cell_type": "markdown",
   "metadata": {},
   "source": [
    "We note that if we split the DataFrame by grouping what values are found in column **Group**, we will find three $ 5 \\times 3 $ parts.  This means that there are $ 5 $ instances of the data point value *A* in column **Group**, hence the $ 5 $ rows and that there are $ 3 $ columns (the **Group**, **Variable1** and **Variable2** columns."
   ]
  },
  {
   "cell_type": "markdown",
   "metadata": {},
   "source": [
    "If we simply want to count the occurrence of data point values in a column, we can the following."
   ]
  },
  {
   "cell_type": "code",
   "execution_count": 44,
   "metadata": {},
   "outputs": [
    {
     "data": {
      "text/html": [
       "<table class=\"data-frame\"><thead><tr><th></th><th>Group</th><th>Count</th></tr></thead><tbody><tr><th>1</th><td>A</td><td>8</td></tr><tr><th>2</th><td>B</td><td>4</td></tr><tr><th>3</th><td>C</td><td>3</td></tr></tbody></table>"
      ],
      "text/plain": [
       "3×2 DataFrames.DataFrame\n",
       "│ Row │ Group │ Count │\n",
       "├─────┼───────┼───────┤\n",
       "│ 1   │ \"A\"   │ 8     │\n",
       "│ 2   │ \"B\"   │ 4     │\n",
       "│ 3   │ \"C\"   │ 3     │"
      ]
     },
     "execution_count": 44,
     "metadata": {},
     "output_type": "execute_result"
    }
   ],
   "source": [
    "by(df8, :Group, df -> DataFrame(Count = size(df, 1)))"
   ]
  },
  {
   "cell_type": "markdown",
   "metadata": {},
   "source": [
    "We used the fact that the ```size()``` function returns a tuple and we are interested in the first value in the tuple, namely the row size.  We also used the ```DataFrame()``` function to create a DataFrame with a column named **Count** to hold the values."
   ]
  },
  {
   "cell_type": "markdown",
   "metadata": {},
   "source": [
    "[Back to: Grouping and splicing](#Grouping-and-splicing)"
   ]
  },
  {
   "cell_type": "markdown",
   "metadata": {},
   "source": [
    "### aggregate"
   ]
  },
  {
   "cell_type": "markdown",
   "metadata": {},
   "source": [
    "The aggregate function also groups (splits) the DataFrame by a column and then calculates a function or function on the rest of the columns.  The new colums are named from the old with an underscore suffix followed by the applied function."
   ]
  },
  {
   "cell_type": "code",
   "execution_count": 45,
   "metadata": {},
   "outputs": [
    {
     "data": {
      "text/html": [
       "<table class=\"data-frame\"><thead><tr><th></th><th>Group</th><th>Variable1_mean</th><th>Variable1_std</th><th>Variable2_mean</th><th>Variable2_std</th></tr></thead><tbody><tr><th>1</th><td>A</td><td>-0.3716144047942751</td><td>0.6921983845191239</td><td>0.5463146799608681</td><td>0.2924303271241591</td></tr><tr><th>2</th><td>B</td><td>0.37023939734769384</td><td>0.2520372746474093</td><td>0.30743331435419674</td><td>0.13301459012052982</td></tr><tr><th>3</th><td>C</td><td>-0.014574228768126399</td><td>0.42972644898129914</td><td>0.8491574597409652</td><td>0.1020946957099283</td></tr></tbody></table>"
      ],
      "text/plain": [
       "3×5 DataFrames.DataFrame\n",
       "│ Row │ Group │ Variable1_mean │ Variable1_std │ Variable2_mean │\n",
       "├─────┼───────┼────────────────┼───────────────┼────────────────┤\n",
       "│ 1   │ \"A\"   │ -0.371614      │ 0.692198      │ 0.546315       │\n",
       "│ 2   │ \"B\"   │ 0.370239       │ 0.252037      │ 0.307433       │\n",
       "│ 3   │ \"C\"   │ -0.0145742     │ 0.429726      │ 0.849157       │\n",
       "\n",
       "│ Row │ Variable2_std │\n",
       "├─────┼───────────────┤\n",
       "│ 1   │ 0.29243       │\n",
       "│ 2   │ 0.133015      │\n",
       "│ 3   │ 0.102095      │"
      ]
     },
     "execution_count": 45,
     "metadata": {},
     "output_type": "execute_result"
    }
   ],
   "source": [
    "# Calculating the mean and standard deviation of variables 1 and 2 grouped by\n",
    "# data point values in the Group column\n",
    "aggregate(df8, :Group, [mean, std])"
   ]
  },
  {
   "cell_type": "markdown",
   "metadata": {},
   "source": [
    "[Back to: Grouping and splicing](#Grouping-and-splicing)"
   ]
  },
  {
   "cell_type": "markdown",
   "metadata": {},
   "source": [
    "### groupby"
   ]
  },
  {
   "cell_type": "markdown",
   "metadata": {},
   "source": [
    "The ```groupby()``` function simply splits the DataFrame as specified."
   ]
  },
  {
   "cell_type": "code",
   "execution_count": 46,
   "metadata": {},
   "outputs": [
    {
     "data": {
      "text/plain": [
       "DataFrames.GroupedDataFrame  3 groups with keys: Symbol[:Group]\n",
       "First Group:\n",
       "8×3 DataFrames.SubDataFrame{Array{Int64,1}}\n",
       "│ Row │ Group │ Variable1 │ Variable2 │\n",
       "├─────┼───────┼───────────┼───────────┤\n",
       "│ 1   │ \"A\"   │ -0.155192 │ 0.774214  │\n",
       "│ 2   │ \"A\"   │ -0.594198 │ 0.339266  │\n",
       "│ 3   │ \"A\"   │ 0.816136  │ 0.230587  │\n",
       "│ 4   │ \"A\"   │ -0.570463 │ 0.940439  │\n",
       "│ 5   │ \"A\"   │ -0.91973  │ 0.840102  │\n",
       "│ 6   │ \"A\"   │ -0.660144 │ 0.580664  │\n",
       "│ 7   │ \"A\"   │ 0.395857  │ 0.145589  │\n",
       "│ 8   │ \"A\"   │ -1.28518  │ 0.519656  │\n",
       "⋮\n",
       "Last Group:\n",
       "3×3 DataFrames.SubDataFrame{Array{Int64,1}}\n",
       "│ Row │ Group │ Variable1 │ Variable2 │\n",
       "├─────┼───────┼───────────┼───────────┤\n",
       "│ 1   │ \"C\"   │ -0.508114 │ 0.876027  │\n",
       "│ 2   │ \"C\"   │ 0.276682  │ 0.736315  │\n",
       "│ 3   │ \"C\"   │ 0.187709  │ 0.93513   │"
      ]
     },
     "execution_count": 46,
     "metadata": {},
     "output_type": "execute_result"
    }
   ],
   "source": [
    "# Viewing the first and last groups\n",
    "groupby(df8, :Group)"
   ]
  },
  {
   "cell_type": "code",
   "execution_count": 47,
   "metadata": {},
   "outputs": [
    {
     "name": "stdout",
     "output_type": "stream",
     "text": [
      "8×3 DataFrames.SubDataFrame{Array{Int64,1}}\n",
      "│ Row │ Group │ Variable1 │ Variable2 │\n",
      "├─────┼───────┼───────────┼───────────┤\n",
      "│ 1   │ \"A\"   │ -0.155192 │ 0.774214  │\n",
      "│ 2   │ \"A\"   │ -0.594198 │ 0.339266  │\n",
      "│ 3   │ \"A\"   │ 0.816136  │ 0.230587  │\n",
      "│ 4   │ \"A\"   │ -0.570463 │ 0.940439  │\n",
      "│ 5   │ \"A\"   │ -0.91973  │ 0.840102  │\n",
      "│ 6   │ \"A\"   │ -0.660144 │ 0.580664  │\n",
      "│ 7   │ \"A\"   │ 0.395857  │ 0.145589  │\n",
      "│ 8   │ \"A\"   │ -1.28518  │ 0.519656  │4×3 DataFrames.SubDataFrame{Array{Int64,1}}\n",
      "│ Row │ Group │ Variable1 │ Variable2 │\n",
      "├─────┼───────┼───────────┼───────────┤\n",
      "│ 1   │ \"B\"   │ 0.126775  │ 0.495426  │\n",
      "│ 2   │ \"B\"   │ 0.360371  │ 0.26407   │\n",
      "│ 3   │ \"B\"   │ 0.274299  │ 0.183165  │\n",
      "│ 4   │ \"B\"   │ 0.719512  │ 0.287072  │3×3 DataFrames.SubDataFrame{Array{Int64,1}}\n",
      "│ Row │ Group │ Variable1 │ Variable2 │\n",
      "├─────┼───────┼───────────┼───────────┤\n",
      "│ 1   │ \"C\"   │ -0.508114 │ 0.876027  │\n",
      "│ 2   │ \"C\"   │ 0.276682  │ 0.736315  │\n",
      "│ 3   │ \"C\"   │ 0.187709  │ 0.93513   │"
     ]
    }
   ],
   "source": [
    "# Viewing all the groups using a for loop\n",
    "for i in groupby(df8, :Group)\n",
    "    print(i)\n",
    "end"
   ]
  },
  {
   "cell_type": "code",
   "execution_count": 48,
   "metadata": {},
   "outputs": [
    {
     "data": {
      "text/plain": [
       "3"
      ]
     },
     "execution_count": 48,
     "metadata": {},
     "output_type": "execute_result"
    }
   ],
   "source": [
    "# Calculating the number of subgroups using length()\n",
    "length(groupby(df8, :Group))"
   ]
  },
  {
   "cell_type": "code",
   "execution_count": 49,
   "metadata": {},
   "outputs": [
    {
     "data": {
      "text/html": [
       "<table class=\"data-frame\"><thead><tr><th></th><th>Group</th><th>Variable1</th><th>Variable2</th></tr></thead><tbody><tr><th>1</th><td>B</td><td>0.12677507918069322</td><td>0.49542579456950153</td></tr><tr><th>2</th><td>B</td><td>0.3603710807429632</td><td>0.2640696106974594</td></tr><tr><th>3</th><td>B</td><td>0.27429911822106445</td><td>0.18316549193407616</td></tr><tr><th>4</th><td>B</td><td>0.7195123112460544</td><td>0.2870723602157499</td></tr></tbody></table>"
      ],
      "text/plain": [
       "4×3 DataFrames.SubDataFrame{Array{Int64,1}}\n",
       "│ Row │ Group │ Variable1 │ Variable2 │\n",
       "├─────┼───────┼───────────┼───────────┤\n",
       "│ 1   │ \"B\"   │ 0.126775  │ 0.495426  │\n",
       "│ 2   │ \"B\"   │ 0.360371  │ 0.26407   │\n",
       "│ 3   │ \"B\"   │ 0.274299  │ 0.183165  │\n",
       "│ 4   │ \"B\"   │ 0.719512  │ 0.287072  │"
      ]
     },
     "execution_count": 49,
     "metadata": {},
     "output_type": "execute_result"
    }
   ],
   "source": [
    "# Viewing a specific group by its index value\n",
    "groupby(df8, :Group)[2]"
   ]
  },
  {
   "cell_type": "markdown",
   "metadata": {},
   "source": [
    "[Back to: Grouping and splicing](#Grouping-and-splicing)"
   ]
  },
  {
   "cell_type": "markdown",
   "metadata": {},
   "source": [
    "### sub"
   ]
  },
  {
   "cell_type": "markdown",
   "metadata": {},
   "source": [
    "It is no longer possible to create sub DataFrames using the sub function."
   ]
  },
  {
   "cell_type": "markdown",
   "metadata": {},
   "source": [
    "[Back to: Grouping and splicing](#Grouping-and-splicing)"
   ]
  },
  {
   "cell_type": "markdown",
   "metadata": {},
   "source": [
    "[Back to the top](#In-this-lesson)"
   ]
  },
  {
   "cell_type": "markdown",
   "metadata": {},
   "source": [
    "## Sorting"
   ]
  },
  {
   "cell_type": "markdown",
   "metadata": {},
   "source": [
    "Sorting the data point values in a column or columns is an important part of data analysis.  The ```sort!()``` function provides a variety of possibilities."
   ]
  },
  {
   "cell_type": "code",
   "execution_count": 100,
   "metadata": {},
   "outputs": [
    {
     "data": {
      "text/html": [
       "<table class=\"data-frame\"><thead><tr><th></th><th>Group</th><th>Variable1</th><th>Variable2</th><th>Variable3</th></tr></thead><tbody><tr><th>1</th><td>A</td><td>-1.2851808676141296</td><td>0.5196561534767026</td><td>0.3037155397282249</td></tr><tr><th>2</th><td>A</td><td>-0.9197302771985247</td><td>0.8401020604487892</td><td>-1.8614517775927681</td></tr><tr><th>3</th><td>A</td><td>-0.6601443380813267</td><td>0.5806643463706258</td><td>-2.397944418248676</td></tr><tr><th>4</th><td>A</td><td>-0.5941976083610289</td><td>0.3392656515749406</td><td>2.3585650976274484</td></tr><tr><th>5</th><td>A</td><td>-0.5704629460679982</td><td>0.9404393256057346</td><td>0.47575026351198646</td></tr><tr><th>6</th><td>A</td><td>-0.15519232584716228</td><td>0.7742141589184184</td><td>-0.05988742546740766</td></tr><tr><th>7</th><td>A</td><td>0.39585724764023617</td><td>0.14558922082964076</td><td>-0.20634829798325072</td></tr><tr><th>8</th><td>A</td><td>0.8161358771757333</td><td>0.23058652246209244</td><td>-1.7859630868219383</td></tr><tr><th>9</th><td>B</td><td>0.12677507918069322</td><td>0.49542579456950153</td><td>-1.1137401017734794</td></tr><tr><th>10</th><td>B</td><td>0.27429911822106445</td><td>0.18316549193407616</td><td>0.9348919583364685</td></tr><tr><th>11</th><td>B</td><td>0.3603710807429632</td><td>0.2640696106974594</td><td>0.007355041024558663</td></tr><tr><th>12</th><td>B</td><td>0.7195123112460544</td><td>0.2870723602157499</td><td>-0.8688362623941606</td></tr><tr><th>13</th><td>C</td><td>-0.5081135505931501</td><td>0.8760266799672343</td><td>-0.05630065936567543</td></tr><tr><th>14</th><td>C</td><td>0.18770920603507318</td><td>0.9351303978594769</td><td>0.06168345945575657</td></tr><tr><th>15</th><td>C</td><td>0.2766816582536977</td><td>0.7363153013961847</td><td>-1.553081009590854</td></tr></tbody></table>"
      ],
      "text/plain": [
       "15×4 DataFrames.DataFrame\n",
       "│ Row │ Group │ Variable1 │ Variable2 │ Variable3  │\n",
       "├─────┼───────┼───────────┼───────────┼────────────┤\n",
       "│ 1   │ \"A\"   │ -1.28518  │ 0.519656  │ 0.303716   │\n",
       "│ 2   │ \"A\"   │ -0.91973  │ 0.840102  │ -1.86145   │\n",
       "│ 3   │ \"A\"   │ -0.660144 │ 0.580664  │ -2.39794   │\n",
       "│ 4   │ \"A\"   │ -0.594198 │ 0.339266  │ 2.35857    │\n",
       "│ 5   │ \"A\"   │ -0.570463 │ 0.940439  │ 0.47575    │\n",
       "│ 6   │ \"A\"   │ -0.155192 │ 0.774214  │ -0.0598874 │\n",
       "│ 7   │ \"A\"   │ 0.395857  │ 0.145589  │ -0.206348  │\n",
       "│ 8   │ \"A\"   │ 0.816136  │ 0.230587  │ -1.78596   │\n",
       "│ 9   │ \"B\"   │ 0.126775  │ 0.495426  │ -1.11374   │\n",
       "│ 10  │ \"B\"   │ 0.274299  │ 0.183165  │ 0.934892   │\n",
       "│ 11  │ \"B\"   │ 0.360371  │ 0.26407   │ 0.00735504 │\n",
       "│ 12  │ \"B\"   │ 0.719512  │ 0.287072  │ -0.868836  │\n",
       "│ 13  │ \"C\"   │ -0.508114 │ 0.876027  │ -0.0563007 │\n",
       "│ 14  │ \"C\"   │ 0.187709  │ 0.93513   │ 0.0616835  │\n",
       "│ 15  │ \"C\"   │ 0.276682  │ 0.736315  │ -1.55308   │"
      ]
     },
     "execution_count": 100,
     "metadata": {},
     "output_type": "execute_result"
    }
   ],
   "source": [
    "# Adding a third column\n",
    "df8[:Variable3] = randn(15)\n",
    "df8"
   ]
  },
  {
   "cell_type": "code",
   "execution_count": 101,
   "metadata": {},
   "outputs": [
    {
     "data": {
      "text/html": [
       "<table class=\"data-frame\"><thead><tr><th></th><th>Group</th><th>Variable1</th><th>Variable2</th><th>Variable3</th></tr></thead><tbody><tr><th>1</th><td>C</td><td>0.2766816582536977</td><td>0.7363153013961847</td><td>-1.553081009590854</td></tr><tr><th>2</th><td>C</td><td>0.18770920603507318</td><td>0.9351303978594769</td><td>0.06168345945575657</td></tr><tr><th>3</th><td>C</td><td>-0.5081135505931501</td><td>0.8760266799672343</td><td>-0.05630065936567543</td></tr><tr><th>4</th><td>B</td><td>0.7195123112460544</td><td>0.2870723602157499</td><td>-0.8688362623941606</td></tr><tr><th>5</th><td>B</td><td>0.3603710807429632</td><td>0.2640696106974594</td><td>0.007355041024558663</td></tr><tr><th>6</th><td>B</td><td>0.27429911822106445</td><td>0.18316549193407616</td><td>0.9348919583364685</td></tr><tr><th>7</th><td>B</td><td>0.12677507918069322</td><td>0.49542579456950153</td><td>-1.1137401017734794</td></tr><tr><th>8</th><td>A</td><td>0.8161358771757333</td><td>0.23058652246209244</td><td>-1.7859630868219383</td></tr><tr><th>9</th><td>A</td><td>0.39585724764023617</td><td>0.14558922082964076</td><td>-0.20634829798325072</td></tr><tr><th>10</th><td>A</td><td>-0.15519232584716228</td><td>0.7742141589184184</td><td>-0.05988742546740766</td></tr><tr><th>11</th><td>A</td><td>-0.5704629460679982</td><td>0.9404393256057346</td><td>0.47575026351198646</td></tr><tr><th>12</th><td>A</td><td>-0.5941976083610289</td><td>0.3392656515749406</td><td>2.3585650976274484</td></tr><tr><th>13</th><td>A</td><td>-0.6601443380813267</td><td>0.5806643463706258</td><td>-2.397944418248676</td></tr><tr><th>14</th><td>A</td><td>-0.9197302771985247</td><td>0.8401020604487892</td><td>-1.8614517775927681</td></tr><tr><th>15</th><td>A</td><td>-1.2851808676141296</td><td>0.5196561534767026</td><td>0.3037155397282249</td></tr></tbody></table>"
      ],
      "text/plain": [
       "15×4 DataFrames.DataFrame\n",
       "│ Row │ Group │ Variable1 │ Variable2 │ Variable3  │\n",
       "├─────┼───────┼───────────┼───────────┼────────────┤\n",
       "│ 1   │ \"C\"   │ 0.276682  │ 0.736315  │ -1.55308   │\n",
       "│ 2   │ \"C\"   │ 0.187709  │ 0.93513   │ 0.0616835  │\n",
       "│ 3   │ \"C\"   │ -0.508114 │ 0.876027  │ -0.0563007 │\n",
       "│ 4   │ \"B\"   │ 0.719512  │ 0.287072  │ -0.868836  │\n",
       "│ 5   │ \"B\"   │ 0.360371  │ 0.26407   │ 0.00735504 │\n",
       "│ 6   │ \"B\"   │ 0.274299  │ 0.183165  │ 0.934892   │\n",
       "│ 7   │ \"B\"   │ 0.126775  │ 0.495426  │ -1.11374   │\n",
       "│ 8   │ \"A\"   │ 0.816136  │ 0.230587  │ -1.78596   │\n",
       "│ 9   │ \"A\"   │ 0.395857  │ 0.145589  │ -0.206348  │\n",
       "│ 10  │ \"A\"   │ -0.155192 │ 0.774214  │ -0.0598874 │\n",
       "│ 11  │ \"A\"   │ -0.570463 │ 0.940439  │ 0.47575    │\n",
       "│ 12  │ \"A\"   │ -0.594198 │ 0.339266  │ 2.35857    │\n",
       "│ 13  │ \"A\"   │ -0.660144 │ 0.580664  │ -2.39794   │\n",
       "│ 14  │ \"A\"   │ -0.91973  │ 0.840102  │ -1.86145   │\n",
       "│ 15  │ \"A\"   │ -1.28518  │ 0.519656  │ 0.303716   │"
      ]
     },
     "execution_count": 101,
     "metadata": {},
     "output_type": "execute_result"
    }
   ],
   "source": [
    "# Reversing by columns Group and Variable1\n",
    "# rev = true will do descending order for numerical values\n",
    "# and reverse alphabetical order for strings\n",
    "sort!(df8, cols = [:Group, :Variable1], rev = true)"
   ]
  },
  {
   "cell_type": "code",
   "execution_count": 102,
   "metadata": {},
   "outputs": [
    {
     "data": {
      "text/html": [
       "<table class=\"data-frame\"><thead><tr><th></th><th>Group</th><th>Variable1</th><th>Variable2</th><th>Variable3</th></tr></thead><tbody><tr><th>1</th><td>A</td><td>-1.2851808676141296</td><td>0.5196561534767026</td><td>0.3037155397282249</td></tr><tr><th>2</th><td>A</td><td>-0.9197302771985247</td><td>0.8401020604487892</td><td>-1.8614517775927681</td></tr><tr><th>3</th><td>A</td><td>-0.6601443380813267</td><td>0.5806643463706258</td><td>-2.397944418248676</td></tr><tr><th>4</th><td>A</td><td>-0.5941976083610289</td><td>0.3392656515749406</td><td>2.3585650976274484</td></tr><tr><th>5</th><td>A</td><td>-0.5704629460679982</td><td>0.9404393256057346</td><td>0.47575026351198646</td></tr><tr><th>6</th><td>A</td><td>-0.15519232584716228</td><td>0.7742141589184184</td><td>-0.05988742546740766</td></tr><tr><th>7</th><td>A</td><td>0.39585724764023617</td><td>0.14558922082964076</td><td>-0.20634829798325072</td></tr><tr><th>8</th><td>A</td><td>0.8161358771757333</td><td>0.23058652246209244</td><td>-1.7859630868219383</td></tr><tr><th>9</th><td>B</td><td>0.12677507918069322</td><td>0.49542579456950153</td><td>-1.1137401017734794</td></tr><tr><th>10</th><td>B</td><td>0.27429911822106445</td><td>0.18316549193407616</td><td>0.9348919583364685</td></tr><tr><th>11</th><td>B</td><td>0.3603710807429632</td><td>0.2640696106974594</td><td>0.007355041024558663</td></tr><tr><th>12</th><td>B</td><td>0.7195123112460544</td><td>0.2870723602157499</td><td>-0.8688362623941606</td></tr><tr><th>13</th><td>C</td><td>-0.5081135505931501</td><td>0.8760266799672343</td><td>-0.05630065936567543</td></tr><tr><th>14</th><td>C</td><td>0.18770920603507318</td><td>0.9351303978594769</td><td>0.06168345945575657</td></tr><tr><th>15</th><td>C</td><td>0.2766816582536977</td><td>0.7363153013961847</td><td>-1.553081009590854</td></tr></tbody></table>"
      ],
      "text/plain": [
       "15×4 DataFrames.DataFrame\n",
       "│ Row │ Group │ Variable1 │ Variable2 │ Variable3  │\n",
       "├─────┼───────┼───────────┼───────────┼────────────┤\n",
       "│ 1   │ \"A\"   │ -1.28518  │ 0.519656  │ 0.303716   │\n",
       "│ 2   │ \"A\"   │ -0.91973  │ 0.840102  │ -1.86145   │\n",
       "│ 3   │ \"A\"   │ -0.660144 │ 0.580664  │ -2.39794   │\n",
       "│ 4   │ \"A\"   │ -0.594198 │ 0.339266  │ 2.35857    │\n",
       "│ 5   │ \"A\"   │ -0.570463 │ 0.940439  │ 0.47575    │\n",
       "│ 6   │ \"A\"   │ -0.155192 │ 0.774214  │ -0.0598874 │\n",
       "│ 7   │ \"A\"   │ 0.395857  │ 0.145589  │ -0.206348  │\n",
       "│ 8   │ \"A\"   │ 0.816136  │ 0.230587  │ -1.78596   │\n",
       "│ 9   │ \"B\"   │ 0.126775  │ 0.495426  │ -1.11374   │\n",
       "│ 10  │ \"B\"   │ 0.274299  │ 0.183165  │ 0.934892   │\n",
       "│ 11  │ \"B\"   │ 0.360371  │ 0.26407   │ 0.00735504 │\n",
       "│ 12  │ \"B\"   │ 0.719512  │ 0.287072  │ -0.868836  │\n",
       "│ 13  │ \"C\"   │ -0.508114 │ 0.876027  │ -0.0563007 │\n",
       "│ 14  │ \"C\"   │ 0.187709  │ 0.93513   │ 0.0616835  │\n",
       "│ 15  │ \"C\"   │ 0.276682  │ 0.736315  │ -1.55308   │"
      ]
     },
     "execution_count": 102,
     "metadata": {},
     "output_type": "execute_result"
    }
   ],
   "source": [
    "# Ascending numerical and alphabetical string sorting\n",
    "# using rev = false\n",
    "sort!(df8, cols = [:Group, :Variable1], rev = false)"
   ]
  },
  {
   "cell_type": "code",
   "execution_count": 103,
   "metadata": {},
   "outputs": [
    {
     "data": {
      "text/html": [
       "<table class=\"data-frame\"><thead><tr><th></th><th>Group</th><th>Variable1</th><th>Variable2</th><th>Variable3</th></tr></thead><tbody><tr><th>1</th><td>A</td><td>-1.2851808676141296</td><td>0.5196561534767026</td><td>0.3037155397282249</td></tr><tr><th>2</th><td>A</td><td>-0.9197302771985247</td><td>0.8401020604487892</td><td>-1.8614517775927681</td></tr><tr><th>3</th><td>A</td><td>-0.6601443380813267</td><td>0.5806643463706258</td><td>-2.397944418248676</td></tr><tr><th>4</th><td>A</td><td>-0.5941976083610289</td><td>0.3392656515749406</td><td>2.3585650976274484</td></tr><tr><th>5</th><td>A</td><td>-0.5704629460679982</td><td>0.9404393256057346</td><td>0.47575026351198646</td></tr><tr><th>6</th><td>A</td><td>-0.15519232584716228</td><td>0.7742141589184184</td><td>-0.05988742546740766</td></tr><tr><th>7</th><td>A</td><td>0.39585724764023617</td><td>0.14558922082964076</td><td>-0.20634829798325072</td></tr><tr><th>8</th><td>A</td><td>0.8161358771757333</td><td>0.23058652246209244</td><td>-1.7859630868219383</td></tr><tr><th>9</th><td>B</td><td>0.12677507918069322</td><td>0.49542579456950153</td><td>-1.1137401017734794</td></tr><tr><th>10</th><td>B</td><td>0.27429911822106445</td><td>0.18316549193407616</td><td>0.9348919583364685</td></tr><tr><th>11</th><td>B</td><td>0.3603710807429632</td><td>0.2640696106974594</td><td>0.007355041024558663</td></tr><tr><th>12</th><td>B</td><td>0.7195123112460544</td><td>0.2870723602157499</td><td>-0.8688362623941606</td></tr><tr><th>13</th><td>C</td><td>-0.5081135505931501</td><td>0.8760266799672343</td><td>-0.05630065936567543</td></tr><tr><th>14</th><td>C</td><td>0.18770920603507318</td><td>0.9351303978594769</td><td>0.06168345945575657</td></tr><tr><th>15</th><td>C</td><td>0.2766816582536977</td><td>0.7363153013961847</td><td>-1.553081009590854</td></tr></tbody></table>"
      ],
      "text/plain": [
       "15×4 DataFrames.DataFrame\n",
       "│ Row │ Group │ Variable1 │ Variable2 │ Variable3  │\n",
       "├─────┼───────┼───────────┼───────────┼────────────┤\n",
       "│ 1   │ \"A\"   │ -1.28518  │ 0.519656  │ 0.303716   │\n",
       "│ 2   │ \"A\"   │ -0.91973  │ 0.840102  │ -1.86145   │\n",
       "│ 3   │ \"A\"   │ -0.660144 │ 0.580664  │ -2.39794   │\n",
       "│ 4   │ \"A\"   │ -0.594198 │ 0.339266  │ 2.35857    │\n",
       "│ 5   │ \"A\"   │ -0.570463 │ 0.940439  │ 0.47575    │\n",
       "│ 6   │ \"A\"   │ -0.155192 │ 0.774214  │ -0.0598874 │\n",
       "│ 7   │ \"A\"   │ 0.395857  │ 0.145589  │ -0.206348  │\n",
       "│ 8   │ \"A\"   │ 0.816136  │ 0.230587  │ -1.78596   │\n",
       "│ 9   │ \"B\"   │ 0.126775  │ 0.495426  │ -1.11374   │\n",
       "│ 10  │ \"B\"   │ 0.274299  │ 0.183165  │ 0.934892   │\n",
       "│ 11  │ \"B\"   │ 0.360371  │ 0.26407   │ 0.00735504 │\n",
       "│ 12  │ \"B\"   │ 0.719512  │ 0.287072  │ -0.868836  │\n",
       "│ 13  │ \"C\"   │ -0.508114 │ 0.876027  │ -0.0563007 │\n",
       "│ 14  │ \"C\"   │ 0.187709  │ 0.93513   │ 0.0616835  │\n",
       "│ 15  │ \"C\"   │ 0.276682  │ 0.736315  │ -1.55308   │"
      ]
     },
     "execution_count": 103,
     "metadata": {},
     "output_type": "execute_result"
    }
   ],
   "source": [
    "# A simple syntax\n",
    "sort!(df8, cols = [:Group, :Variable1, :Variable2],\n",
    "rev = (false, false, true))"
   ]
  },
  {
   "cell_type": "markdown",
   "metadata": {},
   "source": [
    "[Back to the top](#In-this-lesson)"
   ]
  },
  {
   "cell_type": "markdown",
   "metadata": {},
   "source": [
    "## Duplicate rows"
   ]
  },
  {
   "cell_type": "markdown",
   "metadata": {},
   "source": [
    "- [unique](#unique)\n",
    "- [deleterows](#deleterows)"
   ]
  },
  {
   "cell_type": "markdown",
   "metadata": {},
   "source": [
    "Data entry is almost never a *clean* process.  One common mistake taht is made when data is captured, is the repeat entry of data.  Duplicate rows can be removed using the ```unique()``` function.  Selected rows can also be removed for any reason (not just because they are duplicate rows) using the ```deleterows()``` function.  As is common to Julia Base, adding a bang, ```!```, i.e. ```unique!()```, results in a function that makes the changes permanent."
   ]
  },
  {
   "cell_type": "markdown",
   "metadata": {},
   "source": [
    "### unique"
   ]
  },
  {
   "cell_type": "code",
   "execution_count": 104,
   "metadata": {},
   "outputs": [
    {
     "data": {
      "text/html": [
       "<table class=\"data-frame\"><thead><tr><th></th><th>A</th><th>B</th><th>C</th></tr></thead><tbody><tr><th>1</th><td>1</td><td>11</td><td>A</td></tr><tr><th>2</th><td>2</td><td>12</td><td>B</td></tr><tr><th>3</th><td>2</td><td>12</td><td>B</td></tr><tr><th>4</th><td>3</td><td>13</td><td>C</td></tr><tr><th>5</th><td>4</td><td>14</td><td>D</td></tr><tr><th>6</th><td>5</td><td>15</td><td>E</td></tr></tbody></table>"
      ],
      "text/plain": [
       "6×3 DataFrames.DataFrame\n",
       "│ Row │ A │ B  │ C   │\n",
       "├─────┼───┼────┼─────┤\n",
       "│ 1   │ 1 │ 11 │ \"A\" │\n",
       "│ 2   │ 2 │ 12 │ \"B\" │\n",
       "│ 3   │ 2 │ 12 │ \"B\" │\n",
       "│ 4   │ 3 │ 13 │ \"C\" │\n",
       "│ 5   │ 4 │ 14 │ \"D\" │\n",
       "│ 6   │ 5 │ 15 │ \"E\" │"
      ]
     },
     "execution_count": 104,
     "metadata": {},
     "output_type": "execute_result"
    }
   ],
   "source": [
    "# Creating a DataFrame with an obvious duplicate row\n",
    "df9 = DataFrame(A = [1, 2, 2, 3, 4, 5],  B = [11, 12, 12, 13, 14, 15], C = [\"A\", \"B\", \"B\", \"C\", \"D\", \"E\"])"
   ]
  },
  {
   "cell_type": "code",
   "execution_count": 105,
   "metadata": {},
   "outputs": [
    {
     "data": {
      "text/html": [
       "<table class=\"data-frame\"><thead><tr><th></th><th>A</th><th>B</th><th>C</th></tr></thead><tbody><tr><th>1</th><td>1</td><td>11</td><td>A</td></tr><tr><th>2</th><td>2</td><td>12</td><td>B</td></tr><tr><th>3</th><td>3</td><td>13</td><td>C</td></tr><tr><th>4</th><td>4</td><td>14</td><td>D</td></tr><tr><th>5</th><td>5</td><td>15</td><td>E</td></tr></tbody></table>"
      ],
      "text/plain": [
       "5×3 DataFrames.DataFrame\n",
       "│ Row │ A │ B  │ C   │\n",
       "├─────┼───┼────┼─────┤\n",
       "│ 1   │ 1 │ 11 │ \"A\" │\n",
       "│ 2   │ 2 │ 12 │ \"B\" │\n",
       "│ 3   │ 3 │ 13 │ \"C\" │\n",
       "│ 4   │ 4 │ 14 │ \"D\" │\n",
       "│ 5   │ 5 │ 15 │ \"E\" │"
      ]
     },
     "execution_count": 105,
     "metadata": {},
     "output_type": "execute_result"
    }
   ],
   "source": [
    "# The unique() function returns a DataFrame without the duplicate(s)\n",
    "unique(df9)"
   ]
  },
  {
   "cell_type": "code",
   "execution_count": 106,
   "metadata": {},
   "outputs": [
    {
     "data": {
      "text/html": [
       "<table class=\"data-frame\"><thead><tr><th></th><th>A</th><th>B</th><th>C</th></tr></thead><tbody><tr><th>1</th><td>1</td><td>11</td><td>A</td></tr><tr><th>2</th><td>2</td><td>12</td><td>B</td></tr><tr><th>3</th><td>2</td><td>12</td><td>B</td></tr><tr><th>4</th><td>3</td><td>13</td><td>C</td></tr><tr><th>5</th><td>4</td><td>14</td><td>D</td></tr><tr><th>6</th><td>5</td><td>15</td><td>E</td></tr></tbody></table>"
      ],
      "text/plain": [
       "6×3 DataFrames.DataFrame\n",
       "│ Row │ A │ B  │ C   │\n",
       "├─────┼───┼────┼─────┤\n",
       "│ 1   │ 1 │ 11 │ \"A\" │\n",
       "│ 2   │ 2 │ 12 │ \"B\" │\n",
       "│ 3   │ 2 │ 12 │ \"B\" │\n",
       "│ 4   │ 3 │ 13 │ \"C\" │\n",
       "│ 5   │ 4 │ 14 │ \"D\" │\n",
       "│ 6   │ 5 │ 15 │ \"E\" │"
      ]
     },
     "execution_count": 106,
     "metadata": {},
     "output_type": "execute_result"
    }
   ],
   "source": [
    "# The change is not permanent, though\n",
    "df9"
   ]
  },
  {
   "cell_type": "code",
   "execution_count": 107,
   "metadata": {},
   "outputs": [
    {
     "data": {
      "text/html": [
       "<table class=\"data-frame\"><thead><tr><th></th><th>A</th><th>B</th><th>C</th></tr></thead><tbody><tr><th>1</th><td>1</td><td>11</td><td>A</td></tr><tr><th>2</th><td>2</td><td>12</td><td>B</td></tr><tr><th>3</th><td>3</td><td>13</td><td>C</td></tr><tr><th>4</th><td>4</td><td>14</td><td>D</td></tr><tr><th>5</th><td>5</td><td>15</td><td>E</td></tr></tbody></table>"
      ],
      "text/plain": [
       "5×3 DataFrames.DataFrame\n",
       "│ Row │ A │ B  │ C   │\n",
       "├─────┼───┼────┼─────┤\n",
       "│ 1   │ 1 │ 11 │ \"A\" │\n",
       "│ 2   │ 2 │ 12 │ \"B\" │\n",
       "│ 3   │ 3 │ 13 │ \"C\" │\n",
       "│ 4   │ 4 │ 14 │ \"D\" │\n",
       "│ 5   │ 5 │ 15 │ \"E\" │"
      ]
     },
     "execution_count": 107,
     "metadata": {},
     "output_type": "execute_result"
    }
   ],
   "source": [
    "# Making it permanent with unique!()\n",
    "unique!(df9)"
   ]
  },
  {
   "cell_type": "code",
   "execution_count": 108,
   "metadata": {},
   "outputs": [
    {
     "data": {
      "text/html": [
       "<table class=\"data-frame\"><thead><tr><th></th><th>A</th><th>B</th><th>C</th></tr></thead><tbody><tr><th>1</th><td>1</td><td>11</td><td>A</td></tr><tr><th>2</th><td>2</td><td>12</td><td>B</td></tr><tr><th>3</th><td>3</td><td>13</td><td>C</td></tr><tr><th>4</th><td>4</td><td>14</td><td>D</td></tr><tr><th>5</th><td>5</td><td>15</td><td>E</td></tr></tbody></table>"
      ],
      "text/plain": [
       "5×3 DataFrames.DataFrame\n",
       "│ Row │ A │ B  │ C   │\n",
       "├─────┼───┼────┼─────┤\n",
       "│ 1   │ 1 │ 11 │ \"A\" │\n",
       "│ 2   │ 2 │ 12 │ \"B\" │\n",
       "│ 3   │ 3 │ 13 │ \"C\" │\n",
       "│ 4   │ 4 │ 14 │ \"D\" │\n",
       "│ 5   │ 5 │ 15 │ \"E\" │"
      ]
     },
     "execution_count": 108,
     "metadata": {},
     "output_type": "execute_result"
    }
   ],
   "source": [
    "df9"
   ]
  },
  {
   "cell_type": "markdown",
   "metadata": {},
   "source": [
    "[Back to: Duplicate rows ](#Duplicate-rows)"
   ]
  },
  {
   "cell_type": "markdown",
   "metadata": {},
   "source": [
    "### deleterows"
   ]
  },
  {
   "cell_type": "markdown",
   "metadata": {},
   "source": [
    "As mentioned, we can also delete rows at will using ```deleterows()```."
   ]
  },
  {
   "cell_type": "code",
   "execution_count": 109,
   "metadata": {},
   "outputs": [
    {
     "data": {
      "text/html": [
       "<table class=\"data-frame\"><thead><tr><th></th><th>A</th><th>B</th><th>C</th></tr></thead><tbody><tr><th>1</th><td>2</td><td>12</td><td>B</td></tr><tr><th>2</th><td>3</td><td>13</td><td>C</td></tr><tr><th>3</th><td>4</td><td>14</td><td>D</td></tr></tbody></table>"
      ],
      "text/plain": [
       "3×3 DataFrames.DataFrame\n",
       "│ Row │ A │ B  │ C   │\n",
       "├─────┼───┼────┼─────┤\n",
       "│ 1   │ 2 │ 12 │ \"B\" │\n",
       "│ 2   │ 3 │ 13 │ \"C\" │\n",
       "│ 3   │ 4 │ 14 │ \"D\" │"
      ]
     },
     "execution_count": 109,
     "metadata": {},
     "output_type": "execute_result"
    }
   ],
   "source": [
    "# Permanently removing rows 1 and 5\n",
    "deleterows!(df9, [1, 5])"
   ]
  },
  {
   "cell_type": "markdown",
   "metadata": {},
   "source": [
    "[Back to: Duplicate rows ](#Duplicate-rows)"
   ]
  },
  {
   "cell_type": "markdown",
   "metadata": {},
   "source": [
    "[Back to the top](#In-this-lesson)"
   ]
  },
  {
   "cell_type": "markdown",
   "metadata": {},
   "source": [
    "## Dealing with NA values"
   ]
  },
  {
   "cell_type": "markdown",
   "metadata": {},
   "source": [
    "Another common problem in data entry is that of missing values.  This results in data point values of the ```NA``` type.  They create havoc trying to work with values in a DataFrame.  Fortunatley we can get rid of rows that contain ```NA``` values in a few ways."
   ]
  },
  {
   "cell_type": "code",
   "execution_count": 110,
   "metadata": {},
   "outputs": [
    {
     "data": {
      "text/html": [
       "<table class=\"data-frame\"><thead><tr><th></th><th>A</th><th>B</th><th>C</th></tr></thead><tbody><tr><th>1</th><td>1</td><td>11</td><td>21</td></tr><tr><th>2</th><td>2</td><td>12</td><td>22</td></tr><tr><th>3</th><td>3</td><td>13</td><td>23</td></tr><tr><th>4</th><td>4</td><td>14</td><td>24</td></tr><tr><th>5</th><td>5</td><td>15</td><td>25</td></tr><tr><th>6</th><td>6</td><td>16</td><td>26</td></tr><tr><th>7</th><td>7</td><td>17</td><td>27</td></tr><tr><th>8</th><td>8</td><td>18</td><td>28</td></tr><tr><th>9</th><td>9</td><td>19</td><td>29</td></tr><tr><th>10</th><td>10</td><td>20</td><td>30</td></tr></tbody></table>"
      ],
      "text/plain": [
       "10×3 DataFrames.DataFrame\n",
       "│ Row │ A  │ B  │ C  │\n",
       "├─────┼────┼────┼────┤\n",
       "│ 1   │ 1  │ 11 │ 21 │\n",
       "│ 2   │ 2  │ 12 │ 22 │\n",
       "│ 3   │ 3  │ 13 │ 23 │\n",
       "│ 4   │ 4  │ 14 │ 24 │\n",
       "│ 5   │ 5  │ 15 │ 25 │\n",
       "│ 6   │ 6  │ 16 │ 26 │\n",
       "│ 7   │ 7  │ 17 │ 27 │\n",
       "│ 8   │ 8  │ 18 │ 28 │\n",
       "│ 9   │ 9  │ 19 │ 29 │\n",
       "│ 10  │ 10 │ 20 │ 30 │"
      ]
     },
     "execution_count": 110,
     "metadata": {},
     "output_type": "execute_result"
    }
   ],
   "source": [
    "df10 = DataFrame(A = 1:10, B = 11:20, C = 21:30)"
   ]
  },
  {
   "cell_type": "code",
   "execution_count": 111,
   "metadata": {},
   "outputs": [
    {
     "data": {
      "text/plain": [
       "NA"
      ]
     },
     "execution_count": 111,
     "metadata": {},
     "output_type": "execute_result"
    }
   ],
   "source": [
    "# Manually inserting some NA values\n",
    "df10[3, :A] = NA\n",
    "df10[4, :B] = NA\n",
    "df10[[3, 9], :C] = NA # Rows 3 and 9 in column C"
   ]
  },
  {
   "cell_type": "code",
   "execution_count": 112,
   "metadata": {},
   "outputs": [
    {
     "data": {
      "text/html": [
       "<table class=\"data-frame\"><thead><tr><th></th><th>A</th><th>B</th><th>C</th></tr></thead><tbody><tr><th>1</th><td>1</td><td>11</td><td>21</td></tr><tr><th>2</th><td>2</td><td>12</td><td>22</td></tr><tr><th>3</th><td>NA</td><td>13</td><td>NA</td></tr><tr><th>4</th><td>4</td><td>NA</td><td>24</td></tr><tr><th>5</th><td>5</td><td>15</td><td>25</td></tr><tr><th>6</th><td>6</td><td>16</td><td>26</td></tr><tr><th>7</th><td>7</td><td>17</td><td>27</td></tr><tr><th>8</th><td>8</td><td>18</td><td>28</td></tr><tr><th>9</th><td>9</td><td>19</td><td>NA</td></tr><tr><th>10</th><td>10</td><td>20</td><td>30</td></tr></tbody></table>"
      ],
      "text/plain": [
       "10×3 DataFrames.DataFrame\n",
       "│ Row │ A  │ B  │ C  │\n",
       "├─────┼────┼────┼────┤\n",
       "│ 1   │ 1  │ 11 │ 21 │\n",
       "│ 2   │ 2  │ 12 │ 22 │\n",
       "│ 3   │ NA │ 13 │ NA │\n",
       "│ 4   │ 4  │ NA │ 24 │\n",
       "│ 5   │ 5  │ 15 │ 25 │\n",
       "│ 6   │ 6  │ 16 │ 26 │\n",
       "│ 7   │ 7  │ 17 │ 27 │\n",
       "│ 8   │ 8  │ 18 │ 28 │\n",
       "│ 9   │ 9  │ 19 │ NA │\n",
       "│ 10  │ 10 │ 20 │ 30 │"
      ]
     },
     "execution_count": 112,
     "metadata": {},
     "output_type": "execute_result"
    }
   ],
   "source": [
    "df10"
   ]
  },
  {
   "cell_type": "markdown",
   "metadata": {},
   "source": [
    "The ```complete_cases()``` function retruns Boolean values for each row, with a ```false``` return if the rows contains a ```NA``` value."
   ]
  },
  {
   "cell_type": "code",
   "execution_count": 113,
   "metadata": {},
   "outputs": [
    {
     "data": {
      "text/plain": [
       "10-element DataArrays.DataArray{Bool,1}:\n",
       "  true\n",
       "  true\n",
       " false\n",
       " false\n",
       "  true\n",
       "  true\n",
       "  true\n",
       "  true\n",
       " false\n",
       "  true"
      ]
     },
     "execution_count": 113,
     "metadata": {},
     "output_type": "execute_result"
    }
   ],
   "source": [
    "completecases(df10) # New in 0.6"
   ]
  },
  {
   "cell_type": "markdown",
   "metadata": {},
   "source": [
    "The ```complete_cases!()``` function permanently deletes rows with ```NA``` values."
   ]
  },
  {
   "cell_type": "code",
   "execution_count": 74,
   "metadata": {},
   "outputs": [
    {
     "data": {
      "text/html": [
       "<table class=\"data-frame\"><thead><tr><th></th><th>A</th><th>B</th><th>C</th></tr></thead><tbody><tr><th>1</th><td>1</td><td>11</td><td>21</td></tr><tr><th>2</th><td>2</td><td>12</td><td>22</td></tr><tr><th>3</th><td>5</td><td>15</td><td>25</td></tr><tr><th>4</th><td>6</td><td>16</td><td>26</td></tr><tr><th>5</th><td>7</td><td>17</td><td>27</td></tr><tr><th>6</th><td>8</td><td>18</td><td>28</td></tr><tr><th>7</th><td>10</td><td>20</td><td>30</td></tr></tbody></table>"
      ],
      "text/plain": [
       "7×3 DataFrames.DataFrame\n",
       "│ Row │ A  │ B  │ C  │\n",
       "├─────┼────┼────┼────┤\n",
       "│ 1   │ 1  │ 11 │ 21 │\n",
       "│ 2   │ 2  │ 12 │ 22 │\n",
       "│ 3   │ 5  │ 15 │ 25 │\n",
       "│ 4   │ 6  │ 16 │ 26 │\n",
       "│ 5   │ 7  │ 17 │ 27 │\n",
       "│ 6   │ 8  │ 18 │ 28 │\n",
       "│ 7   │ 10 │ 20 │ 30 │"
      ]
     },
     "execution_count": 74,
     "metadata": {},
     "output_type": "execute_result"
    }
   ],
   "source": [
    "completecases!(df10)"
   ]
  },
  {
   "cell_type": "code",
   "execution_count": 75,
   "metadata": {
    "collapsed": true
   },
   "outputs": [],
   "source": [
    "# Recreating the DataFrame df11 to use another way of deleting\n",
    "# rows with NA values\n",
    "df10 = DataFrame(A = 1:10, B = 11:20, C = 21:30)\n",
    "\n",
    "# Manually inserting some NA values\n",
    "df10[3, :A] = NA\n",
    "df10[4, :B] = NA\n",
    "df10[[3, 9], :C] = NA;"
   ]
  },
  {
   "cell_type": "markdown",
   "metadata": {},
   "source": [
    "Back to the original DataFrame, we can use the ```isna()``` function to show whether a value is of ```NA``` type."
   ]
  },
  {
   "cell_type": "code",
   "execution_count": 78,
   "metadata": {},
   "outputs": [
    {
     "data": {
      "text/plain": [
       "10-element BitArray{1}:\n",
       " false\n",
       " false\n",
       "  true\n",
       " false\n",
       " false\n",
       " false\n",
       " false\n",
       " false\n",
       " false\n",
       " false"
      ]
     },
     "execution_count": 78,
     "metadata": {},
     "output_type": "execute_result"
    }
   ],
   "source": [
    "isna.(df10[:A]) # New in 0.6"
   ]
  },
  {
   "cell_type": "markdown",
   "metadata": {},
   "source": [
    "By adding the ```findin()``` function we can identify only the ```NA``` rows."
   ]
  },
  {
   "cell_type": "code",
   "execution_count": 80,
   "metadata": {},
   "outputs": [
    {
     "data": {
      "text/plain": [
       "1-element Array{Int64,1}:\n",
       " 3"
      ]
     },
     "execution_count": 80,
     "metadata": {},
     "output_type": "execute_result"
    }
   ],
   "source": [
    "# The findin() function allows us to specify what we want to find, i.e. true or false\n",
    "# Boolean values (in this case for the isna())\n",
    "findin(isna.(df10[:A]), true)"
   ]
  },
  {
   "cell_type": "markdown",
   "metadata": {},
   "source": [
    "We can also use the ```find()``` function to simply find the rows with ```NA``` values."
   ]
  },
  {
   "cell_type": "code",
   "execution_count": 81,
   "metadata": {},
   "outputs": [
    {
     "data": {
      "text/plain": [
       "1-element Array{Int64,1}:\n",
       " 3"
      ]
     },
     "execution_count": 81,
     "metadata": {},
     "output_type": "execute_result"
    }
   ],
   "source": [
    "find(isna.(df10[:A]))"
   ]
  },
  {
   "cell_type": "markdown",
   "metadata": {},
   "source": [
    "This presents us with a way to delete all the rows that contain ```NA``` values."
   ]
  },
  {
   "cell_type": "code",
   "execution_count": 82,
   "metadata": {},
   "outputs": [
    {
     "data": {
      "text/plain": [
       "(10, 3)"
      ]
     },
     "execution_count": 82,
     "metadata": {},
     "output_type": "execute_result"
    }
   ],
   "source": [
    "# Finding the number of rows and columns\n",
    "rows, cols = size(df10)"
   ]
  },
  {
   "cell_type": "code",
   "execution_count": 84,
   "metadata": {},
   "outputs": [],
   "source": [
    "# Creating a for loop to go through all the columns and\n",
    "# deleting rows with NA values\n",
    "for i in 1:cols\n",
    "    deleterows!(df10, find(isna.(df10[:, i])))\n",
    "end"
   ]
  },
  {
   "cell_type": "code",
   "execution_count": 85,
   "metadata": {},
   "outputs": [
    {
     "data": {
      "text/html": [
       "<table class=\"data-frame\"><thead><tr><th></th><th>A</th><th>B</th><th>C</th></tr></thead><tbody><tr><th>1</th><td>1</td><td>11</td><td>21</td></tr><tr><th>2</th><td>2</td><td>12</td><td>22</td></tr><tr><th>3</th><td>5</td><td>15</td><td>25</td></tr><tr><th>4</th><td>6</td><td>16</td><td>26</td></tr><tr><th>5</th><td>7</td><td>17</td><td>27</td></tr><tr><th>6</th><td>8</td><td>18</td><td>28</td></tr><tr><th>7</th><td>10</td><td>20</td><td>30</td></tr></tbody></table>"
      ],
      "text/plain": [
       "7×3 DataFrames.DataFrame\n",
       "│ Row │ A  │ B  │ C  │\n",
       "├─────┼────┼────┼────┤\n",
       "│ 1   │ 1  │ 11 │ 21 │\n",
       "│ 2   │ 2  │ 12 │ 22 │\n",
       "│ 3   │ 5  │ 15 │ 25 │\n",
       "│ 4   │ 6  │ 16 │ 26 │\n",
       "│ 5   │ 7  │ 17 │ 27 │\n",
       "│ 6   │ 8  │ 18 │ 28 │\n",
       "│ 7   │ 10 │ 20 │ 30 │"
      ]
     },
     "execution_count": 85,
     "metadata": {},
     "output_type": "execute_result"
    }
   ],
   "source": [
    "# All rows with NA values removed\n",
    "df10"
   ]
  },
  {
   "cell_type": "markdown",
   "metadata": {},
   "source": [
    "[Back to the top](#In-this-lesson)"
   ]
  },
  {
   "cell_type": "markdown",
   "metadata": {},
   "source": [
    "## Renaming columns"
   ]
  },
  {
   "cell_type": "markdown",
   "metadata": {},
   "source": [
    "One more common problem in data science is the naming convention some data collectors use for their column names (variables).  It is often required to rename these, at times even to help with deidentfying data to comply with regulations.  The ```rename()``` and permanent effect ```rename!()``` function can help us achieve just this."
   ]
  },
  {
   "cell_type": "code",
   "execution_count": 86,
   "metadata": {},
   "outputs": [
    {
     "data": {
      "text/html": [
       "<table class=\"data-frame\"><thead><tr><th></th><th>x</th><th>y</th><th>z</th></tr></thead><tbody><tr><th>1</th><td>1</td><td>0.6950144125560078</td><td>c</td></tr><tr><th>2</th><td>2</td><td>0.3648679420645955</td><td>c</td></tr><tr><th>3</th><td>3</td><td>0.3682207073446335</td><td>x</td></tr><tr><th>4</th><td>4</td><td>0.9527896866851453</td><td>x</td></tr><tr><th>5</th><td>5</td><td>0.05345686911350067</td><td>r</td></tr><tr><th>6</th><td>6</td><td>0.2515397853005641</td><td>x</td></tr><tr><th>7</th><td>7</td><td>0.17947082102596879</td><td>c</td></tr><tr><th>8</th><td>8</td><td>0.18524270744859606</td><td>r</td></tr><tr><th>9</th><td>9</td><td>0.8629992814708485</td><td>r</td></tr><tr><th>10</th><td>10</td><td>0.7178243062638507</td><td>r</td></tr></tbody></table>"
      ],
      "text/plain": [
       "10×3 DataFrames.DataFrame\n",
       "│ Row │ x  │ y         │ z   │\n",
       "├─────┼────┼───────────┼─────┤\n",
       "│ 1   │ 1  │ 0.695014  │ \"c\" │\n",
       "│ 2   │ 2  │ 0.364868  │ \"c\" │\n",
       "│ 3   │ 3  │ 0.368221  │ \"x\" │\n",
       "│ 4   │ 4  │ 0.95279   │ \"x\" │\n",
       "│ 5   │ 5  │ 0.0534569 │ \"r\" │\n",
       "│ 6   │ 6  │ 0.25154   │ \"x\" │\n",
       "│ 7   │ 7  │ 0.179471  │ \"c\" │\n",
       "│ 8   │ 8  │ 0.185243  │ \"r\" │\n",
       "│ 9   │ 9  │ 0.862999  │ \"r\" │\n",
       "│ 10  │ 10 │ 0.717824  │ \"r\" │"
      ]
     },
     "execution_count": 86,
     "metadata": {},
     "output_type": "execute_result"
    }
   ],
   "source": [
    "df11 = DataFrame(x = 1:10, y = rand(10), z = rand([\"c\", \"x\", \"r\"], 10))"
   ]
  },
  {
   "cell_type": "markdown",
   "metadata": {},
   "source": [
    "Let's change the name of the **z** column to **Z**, but keep the renaming temporary."
   ]
  },
  {
   "cell_type": "code",
   "execution_count": 87,
   "metadata": {},
   "outputs": [
    {
     "data": {
      "text/html": [
       "<table class=\"data-frame\"><thead><tr><th></th><th>x</th><th>y</th><th>Z</th></tr></thead><tbody><tr><th>1</th><td>1</td><td>0.6950144125560078</td><td>c</td></tr><tr><th>2</th><td>2</td><td>0.3648679420645955</td><td>c</td></tr><tr><th>3</th><td>3</td><td>0.3682207073446335</td><td>x</td></tr><tr><th>4</th><td>4</td><td>0.9527896866851453</td><td>x</td></tr><tr><th>5</th><td>5</td><td>0.05345686911350067</td><td>r</td></tr><tr><th>6</th><td>6</td><td>0.2515397853005641</td><td>x</td></tr><tr><th>7</th><td>7</td><td>0.17947082102596879</td><td>c</td></tr><tr><th>8</th><td>8</td><td>0.18524270744859606</td><td>r</td></tr><tr><th>9</th><td>9</td><td>0.8629992814708485</td><td>r</td></tr><tr><th>10</th><td>10</td><td>0.7178243062638507</td><td>r</td></tr></tbody></table>"
      ],
      "text/plain": [
       "10×3 DataFrames.DataFrame\n",
       "│ Row │ x  │ y         │ Z   │\n",
       "├─────┼────┼───────────┼─────┤\n",
       "│ 1   │ 1  │ 0.695014  │ \"c\" │\n",
       "│ 2   │ 2  │ 0.364868  │ \"c\" │\n",
       "│ 3   │ 3  │ 0.368221  │ \"x\" │\n",
       "│ 4   │ 4  │ 0.95279   │ \"x\" │\n",
       "│ 5   │ 5  │ 0.0534569 │ \"r\" │\n",
       "│ 6   │ 6  │ 0.25154   │ \"x\" │\n",
       "│ 7   │ 7  │ 0.179471  │ \"c\" │\n",
       "│ 8   │ 8  │ 0.185243  │ \"r\" │\n",
       "│ 9   │ 9  │ 0.862999  │ \"r\" │\n",
       "│ 10  │ 10 │ 0.717824  │ \"r\" │"
      ]
     },
     "execution_count": 87,
     "metadata": {},
     "output_type": "execute_result"
    }
   ],
   "source": [
    "# Temporary renaming of the z column to Z\n",
    "rename(df11, :z, :Z)"
   ]
  },
  {
   "cell_type": "code",
   "execution_count": 88,
   "metadata": {},
   "outputs": [
    {
     "data": {
      "text/html": [
       "<table class=\"data-frame\"><thead><tr><th></th><th>x</th><th>y</th><th>z</th></tr></thead><tbody><tr><th>1</th><td>1</td><td>0.6950144125560078</td><td>c</td></tr><tr><th>2</th><td>2</td><td>0.3648679420645955</td><td>c</td></tr><tr><th>3</th><td>3</td><td>0.3682207073446335</td><td>x</td></tr><tr><th>4</th><td>4</td><td>0.9527896866851453</td><td>x</td></tr><tr><th>5</th><td>5</td><td>0.05345686911350067</td><td>r</td></tr><tr><th>6</th><td>6</td><td>0.2515397853005641</td><td>x</td></tr><tr><th>7</th><td>7</td><td>0.17947082102596879</td><td>c</td></tr><tr><th>8</th><td>8</td><td>0.18524270744859606</td><td>r</td></tr><tr><th>9</th><td>9</td><td>0.8629992814708485</td><td>r</td></tr><tr><th>10</th><td>10</td><td>0.7178243062638507</td><td>r</td></tr></tbody></table>"
      ],
      "text/plain": [
       "10×3 DataFrames.DataFrame\n",
       "│ Row │ x  │ y         │ z   │\n",
       "├─────┼────┼───────────┼─────┤\n",
       "│ 1   │ 1  │ 0.695014  │ \"c\" │\n",
       "│ 2   │ 2  │ 0.364868  │ \"c\" │\n",
       "│ 3   │ 3  │ 0.368221  │ \"x\" │\n",
       "│ 4   │ 4  │ 0.95279   │ \"x\" │\n",
       "│ 5   │ 5  │ 0.0534569 │ \"r\" │\n",
       "│ 6   │ 6  │ 0.25154   │ \"x\" │\n",
       "│ 7   │ 7  │ 0.179471  │ \"c\" │\n",
       "│ 8   │ 8  │ 0.185243  │ \"r\" │\n",
       "│ 9   │ 9  │ 0.862999  │ \"r\" │\n",
       "│ 10  │ 10 │ 0.717824  │ \"r\" │"
      ]
     },
     "execution_count": 88,
     "metadata": {},
     "output_type": "execute_result"
    }
   ],
   "source": [
    "# The results were not permanent\n",
    "df11"
   ]
  },
  {
   "cell_type": "markdown",
   "metadata": {},
   "source": [
    "We can use a ```Dict()``` dictionary to rename the columns.  Let's make a permanent change."
   ]
  },
  {
   "cell_type": "code",
   "execution_count": 89,
   "metadata": {},
   "outputs": [
    {
     "data": {
      "text/html": [
       "<table class=\"data-frame\"><thead><tr><th></th><th>a</th><th>b</th><th>c</th></tr></thead><tbody><tr><th>1</th><td>1</td><td>0.6950144125560078</td><td>c</td></tr><tr><th>2</th><td>2</td><td>0.3648679420645955</td><td>c</td></tr><tr><th>3</th><td>3</td><td>0.3682207073446335</td><td>x</td></tr><tr><th>4</th><td>4</td><td>0.9527896866851453</td><td>x</td></tr><tr><th>5</th><td>5</td><td>0.05345686911350067</td><td>r</td></tr><tr><th>6</th><td>6</td><td>0.2515397853005641</td><td>x</td></tr><tr><th>7</th><td>7</td><td>0.17947082102596879</td><td>c</td></tr><tr><th>8</th><td>8</td><td>0.18524270744859606</td><td>r</td></tr><tr><th>9</th><td>9</td><td>0.8629992814708485</td><td>r</td></tr><tr><th>10</th><td>10</td><td>0.7178243062638507</td><td>r</td></tr></tbody></table>"
      ],
      "text/plain": [
       "10×3 DataFrames.DataFrame\n",
       "│ Row │ a  │ b         │ c   │\n",
       "├─────┼────┼───────────┼─────┤\n",
       "│ 1   │ 1  │ 0.695014  │ \"c\" │\n",
       "│ 2   │ 2  │ 0.364868  │ \"c\" │\n",
       "│ 3   │ 3  │ 0.368221  │ \"x\" │\n",
       "│ 4   │ 4  │ 0.95279   │ \"x\" │\n",
       "│ 5   │ 5  │ 0.0534569 │ \"r\" │\n",
       "│ 6   │ 6  │ 0.25154   │ \"x\" │\n",
       "│ 7   │ 7  │ 0.179471  │ \"c\" │\n",
       "│ 8   │ 8  │ 0.185243  │ \"r\" │\n",
       "│ 9   │ 9  │ 0.862999  │ \"r\" │\n",
       "│ 10  │ 10 │ 0.717824  │ \"r\" │"
      ]
     },
     "execution_count": 89,
     "metadata": {},
     "output_type": "execute_result"
    }
   ],
   "source": [
    "rename!(df11, Dict(:x => :a, :y => :b, :z => :c))"
   ]
  },
  {
   "cell_type": "markdown",
   "metadata": {},
   "source": [
    "Lastly, we can also use the ```names!()``` function to rename the columns."
   ]
  },
  {
   "cell_type": "code",
   "execution_count": 90,
   "metadata": {},
   "outputs": [
    {
     "data": {
      "text/html": [
       "<table class=\"data-frame\"><thead><tr><th></th><th>A</th><th>B</th><th>C</th></tr></thead><tbody><tr><th>1</th><td>1</td><td>0.6950144125560078</td><td>c</td></tr><tr><th>2</th><td>2</td><td>0.3648679420645955</td><td>c</td></tr><tr><th>3</th><td>3</td><td>0.3682207073446335</td><td>x</td></tr><tr><th>4</th><td>4</td><td>0.9527896866851453</td><td>x</td></tr><tr><th>5</th><td>5</td><td>0.05345686911350067</td><td>r</td></tr><tr><th>6</th><td>6</td><td>0.2515397853005641</td><td>x</td></tr><tr><th>7</th><td>7</td><td>0.17947082102596879</td><td>c</td></tr><tr><th>8</th><td>8</td><td>0.18524270744859606</td><td>r</td></tr><tr><th>9</th><td>9</td><td>0.8629992814708485</td><td>r</td></tr><tr><th>10</th><td>10</td><td>0.7178243062638507</td><td>r</td></tr></tbody></table>"
      ],
      "text/plain": [
       "10×3 DataFrames.DataFrame\n",
       "│ Row │ A  │ B         │ C   │\n",
       "├─────┼────┼───────────┼─────┤\n",
       "│ 1   │ 1  │ 0.695014  │ \"c\" │\n",
       "│ 2   │ 2  │ 0.364868  │ \"c\" │\n",
       "│ 3   │ 3  │ 0.368221  │ \"x\" │\n",
       "│ 4   │ 4  │ 0.95279   │ \"x\" │\n",
       "│ 5   │ 5  │ 0.0534569 │ \"r\" │\n",
       "│ 6   │ 6  │ 0.25154   │ \"x\" │\n",
       "│ 7   │ 7  │ 0.179471  │ \"c\" │\n",
       "│ 8   │ 8  │ 0.185243  │ \"r\" │\n",
       "│ 9   │ 9  │ 0.862999  │ \"r\" │\n",
       "│ 10  │ 10 │ 0.717824  │ \"r\" │"
      ]
     },
     "execution_count": 90,
     "metadata": {},
     "output_type": "execute_result"
    }
   ],
   "source": [
    "names!(df11, [:A, :B, :C])"
   ]
  },
  {
   "cell_type": "markdown",
   "metadata": {},
   "source": [
    "[Back to the top](#In-this-lesson)"
   ]
  },
  {
   "cell_type": "markdown",
   "metadata": {},
   "source": [
    "<hr>\n",
    "<h2>Converting columns to Julia arrays</h2>"
   ]
  },
  {
   "cell_type": "markdown",
   "metadata": {},
   "source": [
    "At times, we might which to work with Julia arrays instead of columns in a DataFrame.  Fortunately we have the `convert()` function."
   ]
  },
  {
   "cell_type": "code",
   "execution_count": 91,
   "metadata": {},
   "outputs": [
    {
     "data": {
      "text/plain": [
       "10-element Array{Int64,1}:\n",
       "  1\n",
       "  2\n",
       "  3\n",
       "  4\n",
       "  5\n",
       "  6\n",
       "  7\n",
       "  8\n",
       "  9\n",
       " 10"
      ]
     },
     "execution_count": 91,
     "metadata": {},
     "output_type": "execute_result"
    }
   ],
   "source": [
    "array_a = convert(Array, df11[:A])"
   ]
  },
  {
   "cell_type": "markdown",
   "metadata": {},
   "source": [
    "[Back to the top](#In-this-lesson)"
   ]
  },
  {
   "cell_type": "code",
   "execution_count": null,
   "metadata": {},
   "outputs": [],
   "source": []
  }
 ],
 "metadata": {
  "anaconda-cloud": {},
  "hide_input": false,
  "kernelspec": {
   "display_name": "Julia 0.6.0",
   "language": "julia",
   "name": "julia-0.6"
  },
  "language_info": {
   "file_extension": ".jl",
   "mimetype": "application/julia",
   "name": "julia",
   "version": "0.6.0"
  },
  "varInspector": {
   "cols": {
    "lenName": 16,
    "lenType": 16,
    "lenVar": 40
   },
   "kernels_config": {
    "python": {
     "delete_cmd_postfix": "",
     "delete_cmd_prefix": "del ",
     "library": "var_list.py",
     "varRefreshCmd": "print(var_dic_list())"
    },
    "r": {
     "delete_cmd_postfix": ") ",
     "delete_cmd_prefix": "rm(",
     "library": "var_list.r",
     "varRefreshCmd": "cat(var_dic_list()) "
    }
   },
   "types_to_exclude": [
    "module",
    "function",
    "builtin_function_or_method",
    "instance",
    "_Feature"
   ],
   "window_display": false
  }
 },
 "nbformat": 4,
 "nbformat_minor": 1
}
