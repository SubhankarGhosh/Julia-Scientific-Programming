{
 "cells": [
  {
   "cell_type": "code",
   "execution_count": 2,
   "metadata": {},
   "outputs": [
    {
     "data": {
      "text/html": [
       "Lorem ipsum dolor sit amet, consectetur adipiscing elit. Cras vel tellus pharetra, vulputate nisi quis, semper elit. Mauris mollis est vitae convallis pharetra. Nulla pretium luctus massa, non dictum leo mollis eget. Donec non rutrum tortor, nec volutpat ligula. Nam pretium felis et faucibus convallis. Aliquam ut metus fringilla, semper massa vitae, venenatis risus. Nulla facilisi. Sed molestie bibendum magna et vehicula. Vivamus eu nibh vestibulum, mattis dolor in, cursus est. Suspendisse non lorem enim. Quisque in ultrices tellus, vel egestas odio.\n",
       "\n",
       "Pellentesque id suscipit leo. Curabitur id diam a tortor cursus tincidunt in ac diam. Aliquam molestie in nunc non faucibus. Curabitur nec semper metus. Fusce id massa sed justo pharetra lobortis. Pellentesque finibus tincidunt nisi, quis pellentesque odio luctus non. Aliquam pellentesque nulla sapien, sed pharetra libero dapibus eget. Aliquam quis nisl at augue luctus cursus. Aenean sit amet efficitur odio. Pellentesque ligula eros, pharetra eu dolor a, ultricies elementum lectus. Nunc a neque orci. Sed non sem sem.\n",
       "\n",
       "Donec odio ipsum, eleifend at consequat vitae, venenatis eu elit. Duis a euismod nibh, non bibendum arcu. Etiam viverra consectetur dolor, id fermentum augue porttitor eu. Integer aliquet magna dolor, in molestie purus egestas eu. Nam condimentum lacinia massa, at volutpat neque aliquam sed. Vestibulum varius laoreet eros vel mollis. Vestibulum tellus massa, hendrerit quis arcu placerat, congue malesuada augue. Vivamus in urna auctor, tempor enim sed, vehicula urna. Mauris nisi erat, dapibus et neque et, porttitor molestie leo. Proin tincidunt lorem metus, ac molestie tellus condimentum non. Pellentesque molestie sodales massa, nec ullamcorper odio pretium at.\n",
       "\n",
       "Duis finibus tellus at tincidunt iaculis. Duis fringilla sodales turpis, ut efficitur ex scelerisque quis. Donec arcu nisl, aliquam eu consequat eu, blandit a urna. Duis elementum non massa ac varius. Quisque in velit ultrices, auctor leo et, aliquet metus. Proin pulvinar sodales nisi et tristique. Suspendisse potenti. Morbi eu erat sit amet nisi efficitur sagittis vel id ipsum. Maecenas nec pellentesque lectus.\n",
       "\n",
       "Praesent consequat libero lectus. Pellentesque viverra porttitor finibus. Nulla facilisi. Sed vel lorem dapibus, semper nibh a, gravida ex. Cras dignissim sem in sem dapibus laoreet. Phasellus dictum mauris ut dui facilisis, ac tempus nibh commodo. Curabitur fermentum eros nulla, non vestibulum elit ullamcorper vitae. Sed at lorem iaculis, vehicula tellus vitae, mollis orci. Nulla facilisi."
      ],
      "text/plain": [
       "HTML{String}(\"Lorem ipsum dolor sit amet, consectetur adipiscing elit. Cras vel tellus pharetra, vulputate nisi quis, semper elit. Mauris mollis est vitae convallis pharetra. Nulla pretium luctus massa, non dictum leo mollis eget. Donec non rutrum tortor, nec volutpat ligula. Nam pretium felis et faucibus convallis. Aliquam ut metus fringilla, semper massa vitae, venenatis risus. Nulla facilisi. Sed molestie bibendum magna et vehicula. Vivamus eu nibh vestibulum, mattis dolor in, cursus est. Suspendisse non lorem enim. Quisque in ultrices tellus, vel egestas odio.\\n\\nPellentesque id suscipit leo. Curabitur id diam a tortor cursus tincidunt in ac diam. Aliquam molestie in nunc non faucibus. Curabitur nec semper metus. Fusce id massa sed justo pharetra lobortis. Pellentesque finibus tincidunt nisi, quis pellentesque odio luctus non. Aliquam pellentesque nulla sapien, sed pharetra libero dapibus eget. Aliquam quis nisl at augue luctus cursus. Aenean sit amet efficitur odio. Pellentesque ligula eros, pharetra eu dolor a, ultricies elementum lectus. Nunc a neque orci. Sed non sem sem.\\n\\nDonec odio ipsum, eleifend at consequat vitae, venenatis eu elit. Duis a euismod nibh, non bibendum arcu. Etiam viverra consectetur dolor, id fermentum augue porttitor eu. Integer aliquet magna dolor, in molestie purus egestas eu. Nam condimentum lacinia massa, at volutpat neque aliquam sed. Vestibulum varius laoreet eros vel mollis. Vestibulum tellus massa, hendrerit quis arcu placerat, congue malesuada augue. Vivamus in urna auctor, tempor enim sed, vehicula urna. Mauris nisi erat, dapibus et neque et, porttitor molestie leo. Proin tincidunt lorem metus, ac molestie tellus condimentum non. Pellentesque molestie sodales massa, nec ullamcorper odio pretium at.\\n\\nDuis finibus tellus at tincidunt iaculis. Duis fringilla sodales turpis, ut efficitur ex scelerisque quis. Donec arcu nisl, aliquam eu consequat eu, blandit a urna. Duis elementum non massa ac varius. Quisque in velit ultrices, auctor leo et, aliquet metus. Proin pulvinar sodales nisi et tristique. Suspendisse potenti. Morbi eu erat sit amet nisi efficitur sagittis vel id ipsum. Maecenas nec pellentesque lectus.\\n\\nPraesent consequat libero lectus. Pellentesque viverra porttitor finibus. Nulla facilisi. Sed vel lorem dapibus, semper nibh a, gravida ex. Cras dignissim sem in sem dapibus laoreet. Phasellus dictum mauris ut dui facilisis, ac tempus nibh commodo. Curabitur fermentum eros nulla, non vestibulum elit ullamcorper vitae. Sed at lorem iaculis, vehicula tellus vitae, mollis orci. Nulla facilisi.\")"
      ]
     },
     "execution_count": 2,
     "metadata": {},
     "output_type": "execute_result"
    }
   ],
   "source": [
    "file = open(\"LoremIpsum.txt\");\n",
    "styl = readstring(file);\n",
    "HTML(\"$styl\")"
   ]
  },
  {
   "cell_type": "code",
   "execution_count": 3,
   "metadata": {},
   "outputs": [
    {
     "name": "stdout",
     "output_type": "stream",
     "text": [
      "Hello! My word!\n"
     ]
    }
   ],
   "source": [
    "println(\"Hello!\" * \" My word!\")  # strings are combined using *"
   ]
  },
  {
   "cell_type": "code",
   "execution_count": 4,
   "metadata": {},
   "outputs": [
    {
     "name": "stdout",
     "output_type": "stream",
     "text": [
      "Hello! My word! My word! My word!\n"
     ]
    }
   ],
   "source": [
    "println(\"Hello!\" * \" My word!\"^3) # strings are repeated using ^"
   ]
  },
  {
   "cell_type": "code",
   "execution_count": 6,
   "metadata": {},
   "outputs": [
    {
     "data": {
      "text/plain": [
       "false"
      ]
     },
     "execution_count": 6,
     "metadata": {},
     "output_type": "execute_result"
    }
   ],
   "source": [
    "2 == 4-2  &&   2 === 4-2.0"
   ]
  },
  {
   "cell_type": "code",
   "execution_count": 7,
   "metadata": {},
   "outputs": [
    {
     "data": {
      "text/plain": [
       "3-element Array{Int64,1}:\n",
       " 140169944068848\n",
       " 140169891086864\n",
       " 140169891086672"
      ]
     },
     "execution_count": 7,
     "metadata": {},
     "output_type": "execute_result"
    }
   ],
   "source": [
    "Array{Int64}(3)"
   ]
  },
  {
   "cell_type": "code",
   "execution_count": 8,
   "metadata": {},
   "outputs": [
    {
     "ename": "LoadError",
     "evalue": "\u001b[91mUndefVarError: None not defined\u001b[39m",
     "output_type": "error",
     "traceback": [
      "\u001b[91mUndefVarError: None not defined\u001b[39m",
      ""
     ]
    }
   ],
   "source": [
    "Array{None}(3)"
   ]
  },
  {
   "cell_type": "code",
   "execution_count": 10,
   "metadata": {},
   "outputs": [
    {
     "data": {
      "text/plain": [
       "3-element Array{Nullable,1}:\n",
       " #undef\n",
       " #undef\n",
       " #undef"
      ]
     },
     "execution_count": 10,
     "metadata": {},
     "output_type": "execute_result"
    }
   ],
   "source": [
    "Array{Nullable}(3)"
   ]
  },
  {
   "cell_type": "markdown",
   "metadata": {},
   "source": [
    "## ^^^Useful"
   ]
  },
  {
   "cell_type": "code",
   "execution_count": null,
   "metadata": {},
   "outputs": [],
   "source": []
  }
 ],
 "metadata": {
  "kernelspec": {
   "display_name": "Julia 0.6.2",
   "language": "julia",
   "name": "julia-0.6"
  },
  "language_info": {
   "file_extension": ".jl",
   "mimetype": "application/julia",
   "name": "julia",
   "version": "0.6.2"
  }
 },
 "nbformat": 4,
 "nbformat_minor": 2
}
