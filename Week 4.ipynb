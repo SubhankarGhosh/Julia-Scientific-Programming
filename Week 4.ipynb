{
 "cells": [
  {
   "cell_type": "code",
   "execution_count": 1,
   "metadata": {},
   "outputs": [
    {
     "data": {
      "text/plain": [
       "Tuple{String,Int64,String,Int64,String,Int64}"
      ]
     },
     "execution_count": 1,
     "metadata": {},
     "output_type": "execute_result"
    }
   ],
   "source": [
    "typeof((\"A\", 3, \"B\", 4, \"C\", 2))"
   ]
  },
  {
   "cell_type": "code",
   "execution_count": 1,
   "metadata": {},
   "outputs": [],
   "source": [
    "using DataFrames"
   ]
  },
  {
   "cell_type": "code",
   "execution_count": 2,
   "metadata": {},
   "outputs": [
    {
     "name": "stdout",
     "output_type": "stream",
     "text": [
      "search: \u001b[1ms\u001b[22m\u001b[1mu\u001b[22m\u001b[1mb\u001b[22m \u001b[1ms\u001b[22m\u001b[1mu\u001b[22m\u001b[1mb\u001b[22m2ind \u001b[1ms\u001b[22m\u001b[1mu\u001b[22m\u001b[1mb\u001b[22mtypes \u001b[1mS\u001b[22m\u001b[1mu\u001b[22m\u001b[1mb\u001b[22mArray \u001b[1mS\u001b[22m\u001b[1mu\u001b[22m\u001b[1mb\u001b[22mString \u001b[1mS\u001b[22m\u001b[1mu\u001b[22m\u001b[1mb\u001b[22mDataFrame ind2\u001b[1ms\u001b[22m\u001b[1mu\u001b[22m\u001b[1mb\u001b[22m rand\u001b[1ms\u001b[22m\u001b[1mu\u001b[22m\u001b[1mb\u001b[22mseq\n"
     ]
    },
    {
     "data": {
      "text/markdown": [
       "No documentation found.\n",
       "\n",
       "`DataFrames.sub` is a `Function`.\n",
       "\n",
       "```\n",
       "# 1 method for generic function \"sub\":\n",
       "sub(df::DataFrames.AbstractDataFrame, rows) in DataFrames at deprecated.jl:56\n",
       "```\n"
      ],
      "text/plain": [
       "No documentation found.\n",
       "\n",
       "`DataFrames.sub` is a `Function`.\n",
       "\n",
       "```\n",
       "# 1 method for generic function \"sub\":\n",
       "sub(df::DataFrames.AbstractDataFrame, rows) in DataFrames at deprecated.jl:56\n",
       "```\n"
      ]
     },
     "execution_count": 2,
     "metadata": {},
     "output_type": "execute_result"
    },
    {
     "name": "stdout",
     "output_type": "stream",
     "text": [
      "\n"
     ]
    }
   ],
   "source": [
    "?sub"
   ]
  },
  {
   "cell_type": "code",
   "execution_count": 3,
   "metadata": {},
   "outputs": [],
   "source": [
    "df = DataFrame(A = rand(1:50, 15), B = rand(51:100, 15), C = rand(101:150, 15));"
   ]
  },
  {
   "cell_type": "code",
   "execution_count": 4,
   "metadata": {},
   "outputs": [
    {
     "data": {
      "text/html": [
       "<table class=\"data-frame\"><thead><tr><th></th><th>A</th><th>B</th><th>C</th></tr></thead><tbody><tr><th>1</th><td>14</td><td>59</td><td>111</td></tr><tr><th>2</th><td>8</td><td>93</td><td>127</td></tr><tr><th>3</th><td>45</td><td>81</td><td>147</td></tr><tr><th>4</th><td>12</td><td>90</td><td>115</td></tr><tr><th>5</th><td>39</td><td>76</td><td>111</td></tr><tr><th>6</th><td>20</td><td>91</td><td>147</td></tr><tr><th>7</th><td>33</td><td>81</td><td>109</td></tr><tr><th>8</th><td>42</td><td>93</td><td>111</td></tr><tr><th>9</th><td>17</td><td>53</td><td>118</td></tr><tr><th>10</th><td>24</td><td>65</td><td>111</td></tr><tr><th>11</th><td>47</td><td>74</td><td>130</td></tr><tr><th>12</th><td>36</td><td>82</td><td>131</td></tr><tr><th>13</th><td>49</td><td>68</td><td>101</td></tr><tr><th>14</th><td>41</td><td>91</td><td>145</td></tr><tr><th>15</th><td>33</td><td>98</td><td>142</td></tr></tbody></table>"
      ],
      "text/plain": [
       "15×3 DataFrames.DataFrame\n",
       "│ Row │ A  │ B  │ C   │\n",
       "├─────┼────┼────┼─────┤\n",
       "│ 1   │ 14 │ 59 │ 111 │\n",
       "│ 2   │ 8  │ 93 │ 127 │\n",
       "│ 3   │ 45 │ 81 │ 147 │\n",
       "│ 4   │ 12 │ 90 │ 115 │\n",
       "│ 5   │ 39 │ 76 │ 111 │\n",
       "│ 6   │ 20 │ 91 │ 147 │\n",
       "│ 7   │ 33 │ 81 │ 109 │\n",
       "│ 8   │ 42 │ 93 │ 111 │\n",
       "│ 9   │ 17 │ 53 │ 118 │\n",
       "│ 10  │ 24 │ 65 │ 111 │\n",
       "│ 11  │ 47 │ 74 │ 130 │\n",
       "│ 12  │ 36 │ 82 │ 131 │\n",
       "│ 13  │ 49 │ 68 │ 101 │\n",
       "│ 14  │ 41 │ 91 │ 145 │\n",
       "│ 15  │ 33 │ 98 │ 142 │"
      ]
     },
     "execution_count": 4,
     "metadata": {},
     "output_type": "execute_result"
    }
   ],
   "source": [
    "df"
   ]
  },
  {
   "cell_type": "code",
   "execution_count": 5,
   "metadata": {},
   "outputs": [
    {
     "data": {
      "text/html": [
       "<table class=\"data-frame\"><thead><tr><th></th><th>A</th><th>B</th><th>C</th></tr></thead><tbody><tr><th>1</th><td>39</td><td>76</td><td>111</td></tr></tbody></table>"
      ],
      "text/plain": [
       "1×3 DataFrames.SubDataFrame{Array{Int64,1}}\n",
       "│ Row │ A  │ B  │ C   │\n",
       "├─────┼────┼────┼─────┤\n",
       "│ 1   │ 39 │ 76 │ 111 │"
      ]
     },
     "execution_count": 5,
     "metadata": {},
     "output_type": "execute_result"
    }
   ],
   "source": [
    "sub(df, 5)"
   ]
  },
  {
   "cell_type": "code",
   "execution_count": 6,
   "metadata": {},
   "outputs": [
    {
     "data": {
      "text/html": [
       "<table class=\"data-frame\"><thead><tr><th></th><th>A</th><th>B</th><th>C</th></tr></thead><tbody><tr><th>1</th><td>14</td><td>59</td><td>111</td></tr><tr><th>2</th><td>8</td><td>93</td><td>127</td></tr><tr><th>3</th><td>12</td><td>90</td><td>115</td></tr><tr><th>4</th><td>20</td><td>91</td><td>147</td></tr><tr><th>5</th><td>33</td><td>81</td><td>109</td></tr><tr><th>6</th><td>42</td><td>93</td><td>111</td></tr><tr><th>7</th><td>24</td><td>65</td><td>111</td></tr><tr><th>8</th><td>47</td><td>74</td><td>130</td></tr><tr><th>9</th><td>36</td><td>82</td><td>131</td></tr><tr><th>10</th><td>49</td><td>68</td><td>101</td></tr><tr><th>11</th><td>41</td><td>91</td><td>145</td></tr><tr><th>12</th><td>33</td><td>98</td><td>142</td></tr></tbody></table>"
      ],
      "text/plain": [
       "12×3 DataFrames.DataFrame\n",
       "│ Row │ A  │ B  │ C   │\n",
       "├─────┼────┼────┼─────┤\n",
       "│ 1   │ 14 │ 59 │ 111 │\n",
       "│ 2   │ 8  │ 93 │ 127 │\n",
       "│ 3   │ 12 │ 90 │ 115 │\n",
       "│ 4   │ 20 │ 91 │ 147 │\n",
       "│ 5   │ 33 │ 81 │ 109 │\n",
       "│ 6   │ 42 │ 93 │ 111 │\n",
       "│ 7   │ 24 │ 65 │ 111 │\n",
       "│ 8   │ 47 │ 74 │ 130 │\n",
       "│ 9   │ 36 │ 82 │ 131 │\n",
       "│ 10  │ 49 │ 68 │ 101 │\n",
       "│ 11  │ 41 │ 91 │ 145 │\n",
       "│ 12  │ 33 │ 98 │ 142 │"
      ]
     },
     "execution_count": 6,
     "metadata": {},
     "output_type": "execute_result"
    }
   ],
   "source": [
    "deleterows!(df, [3, 5, 9])"
   ]
  },
  {
   "cell_type": "code",
   "execution_count": 7,
   "metadata": {},
   "outputs": [
    {
     "data": {
      "text/plain": [
       "30-element Array{Int64,1}:\n",
       "  9\n",
       "  5\n",
       " 15\n",
       "  7\n",
       "  5\n",
       " 10\n",
       " 11\n",
       " 14\n",
       " 12\n",
       " 10\n",
       " 15\n",
       " 12\n",
       " 15\n",
       "  ⋮\n",
       "  9\n",
       " 12\n",
       "  9\n",
       "  8\n",
       "  9\n",
       " 12\n",
       "  8\n",
       " 14\n",
       "  5\n",
       " 12\n",
       "  6\n",
       " 15"
      ]
     },
     "execution_count": 7,
     "metadata": {},
     "output_type": "execute_result"
    }
   ],
   "source": [
    "rand(5:15, 30)"
   ]
  },
  {
   "cell_type": "code",
   "execution_count": 9,
   "metadata": {},
   "outputs": [],
   "source": [
    "using Distributions, DataFrames"
   ]
  },
  {
   "cell_type": "code",
   "execution_count": 11,
   "metadata": {},
   "outputs": [
    {
     "data": {
      "text/html": [
       "<table class=\"data-frame\"><thead><tr><th></th><th>A</th><th>B</th><th>C</th></tr></thead><tbody><tr><th>1</th><td>-0.0151796</td><td>8.03018</td><td>13</td></tr><tr><th>2</th><td>0.173671</td><td>9.13203</td><td>14</td></tr><tr><th>3</th><td>-0.600591</td><td>10.7193</td><td>8</td></tr><tr><th>4</th><td>0.185425</td><td>8.42818</td><td>5</td></tr><tr><th>5</th><td>2.15278</td><td>8.25968</td><td>7</td></tr><tr><th>6</th><td>0.893331</td><td>10.2189</td><td>6</td></tr><tr><th>7</th><td>-0.760622</td><td>8.7601</td><td>10</td></tr><tr><th>8</th><td>0.412325</td><td>8.36881</td><td>14</td></tr><tr><th>9</th><td>0.654653</td><td>10.671</td><td>15</td></tr><tr><th>10</th><td>0.978264</td><td>12.5452</td><td>5</td></tr><tr><th>11</th><td>-1.28491</td><td>7.0983</td><td>14</td></tr><tr><th>12</th><td>-0.844929</td><td>7.94288</td><td>5</td></tr><tr><th>13</th><td>-1.24057</td><td>12.1348</td><td>7</td></tr><tr><th>14</th><td>-1.85492</td><td>9.54123</td><td>6</td></tr><tr><th>15</th><td>1.62956</td><td>11.9667</td><td>7</td></tr><tr><th>16</th><td>0.373452</td><td>6.47708</td><td>11</td></tr><tr><th>17</th><td>0.587875</td><td>8.57632</td><td>10</td></tr><tr><th>18</th><td>-1.62183</td><td>9.02889</td><td>12</td></tr><tr><th>19</th><td>0.859082</td><td>10.4345</td><td>11</td></tr><tr><th>20</th><td>-1.28928</td><td>12.2442</td><td>15</td></tr><tr><th>21</th><td>0.369633</td><td>11.0323</td><td>9</td></tr><tr><th>22</th><td>-0.151369</td><td>10.036</td><td>12</td></tr><tr><th>23</th><td>-1.38527</td><td>11.6821</td><td>11</td></tr><tr><th>24</th><td>0.637271</td><td>8.98687</td><td>6</td></tr><tr><th>25</th><td>-2.83974</td><td>11.6196</td><td>6</td></tr><tr><th>26</th><td>0.0421159</td><td>10.2447</td><td>9</td></tr><tr><th>27</th><td>-2.08648</td><td>11.8033</td><td>7</td></tr><tr><th>28</th><td>0.402525</td><td>12.3606</td><td>11</td></tr><tr><th>29</th><td>0.121271</td><td>7.63516</td><td>15</td></tr><tr><th>30</th><td>1.38694</td><td>9.40916</td><td>11</td></tr></tbody></table>"
      ],
      "text/plain": [
       "30×3 DataFrames.DataFrame\n",
       "│ Row │ A          │ B       │ C  │\n",
       "├─────┼────────────┼─────────┼────┤\n",
       "│ 1   │ -0.0151796 │ 8.03018 │ 13 │\n",
       "│ 2   │ 0.173671   │ 9.13203 │ 14 │\n",
       "│ 3   │ -0.600591  │ 10.7193 │ 8  │\n",
       "│ 4   │ 0.185425   │ 8.42818 │ 5  │\n",
       "│ 5   │ 2.15278    │ 8.25968 │ 7  │\n",
       "│ 6   │ 0.893331   │ 10.2189 │ 6  │\n",
       "│ 7   │ -0.760622  │ 8.7601  │ 10 │\n",
       "│ 8   │ 0.412325   │ 8.36881 │ 14 │\n",
       "│ 9   │ 0.654653   │ 10.671  │ 15 │\n",
       "│ 10  │ 0.978264   │ 12.5452 │ 5  │\n",
       "│ 11  │ -1.28491   │ 7.0983  │ 14 │\n",
       "⋮\n",
       "│ 19  │ 0.859082   │ 10.4345 │ 11 │\n",
       "│ 20  │ -1.28928   │ 12.2442 │ 15 │\n",
       "│ 21  │ 0.369633   │ 11.0323 │ 9  │\n",
       "│ 22  │ -0.151369  │ 10.036  │ 12 │\n",
       "│ 23  │ -1.38527   │ 11.6821 │ 11 │\n",
       "│ 24  │ 0.637271   │ 8.98687 │ 6  │\n",
       "│ 25  │ -2.83974   │ 11.6196 │ 6  │\n",
       "│ 26  │ 0.0421159  │ 10.2447 │ 9  │\n",
       "│ 27  │ -2.08648   │ 11.8033 │ 7  │\n",
       "│ 28  │ 0.402525   │ 12.3606 │ 11 │\n",
       "│ 29  │ 0.121271   │ 7.63516 │ 15 │\n",
       "│ 30  │ 1.38694    │ 9.40916 │ 11 │"
      ]
     },
     "execution_count": 11,
     "metadata": {},
     "output_type": "execute_result"
    }
   ],
   "source": [
    "array_1 = DataFrame(A = rand(Normal(0, 1), 30), B = rand(Normal(10, 2), 30), C = rand(5:15, 30))"
   ]
  },
  {
   "cell_type": "code",
   "execution_count": 12,
   "metadata": {},
   "outputs": [
    {
     "name": "stdout",
     "output_type": "stream",
     "text": [
      "Column 1 mean: -0.13718386497159993 variance: 1.3775039595421905\n"
     ]
    }
   ],
   "source": [
    "println(\"Column 1 mean: \", mean(array_1[:,1]), \" variance: \", var(array_1[:,1]));"
   ]
  },
  {
   "cell_type": "code",
   "execution_count": 13,
   "metadata": {},
   "outputs": [
    {
     "data": {
      "text/plain": [
       "30×3 Array{Float64,2}:\n",
       "  0.534479  10.6169    7.0\n",
       "  0.594111  10.817    13.0\n",
       " -1.25403    9.57131   7.0\n",
       "  0.473676   8.19819  15.0\n",
       "  1.57592   11.123    10.0\n",
       " -2.20606    9.46517  10.0\n",
       "  0.915985  10.6785    7.0\n",
       " -0.839323  11.6595   14.0\n",
       " -0.755838   7.61974   9.0\n",
       "  0.94072    9.95267   5.0\n",
       "  0.927188   9.9128   11.0\n",
       "  1.45288   10.7017   13.0\n",
       "  1.72983   12.0084    7.0\n",
       "  ⋮                       \n",
       "  1.15853    8.79381  14.0\n",
       "  1.01529    7.48173  14.0\n",
       "  1.46862   10.5841    5.0\n",
       " -0.136873  11.3129   11.0\n",
       " -0.262206   8.4347   10.0\n",
       " -0.508165  10.9114    6.0\n",
       "  1.13392    6.59631  12.0\n",
       "  0.631623  10.9931   12.0\n",
       " -0.503011  10.519    15.0\n",
       "  1.03852   11.48     10.0\n",
       " -0.236538   7.7868   13.0\n",
       "  1.49334    9.13408   6.0"
      ]
     },
     "execution_count": 13,
     "metadata": {},
     "output_type": "execute_result"
    }
   ],
   "source": [
    "array_2 = [rand(Normal(0, 1), 30) rand(Normal(10, 2), 30) rand(5:15, 30)]"
   ]
  },
  {
   "cell_type": "code",
   "execution_count": 15,
   "metadata": {},
   "outputs": [
    {
     "name": "stdout",
     "output_type": "stream",
     "text": [
      "Column 1 mean: 0.4553366844575366 variance: 1.0117463770151125\n"
     ]
    }
   ],
   "source": [
    "println(\"Column 1 mean: \", mean(array_2[:,1]), \" variance: \", var(array_2[:,1]));"
   ]
  },
  {
   "cell_type": "code",
   "execution_count": 16,
   "metadata": {},
   "outputs": [
    {
     "data": {
      "text/html": [
       "<table class=\"data-frame\"><thead><tr><th></th><th>x1</th><th>x2</th><th>x3</th></tr></thead><tbody><tr><th>1</th><td>0.534479</td><td>10.6169</td><td>7.0</td></tr><tr><th>2</th><td>0.594111</td><td>10.817</td><td>13.0</td></tr><tr><th>3</th><td>-1.25403</td><td>9.57131</td><td>7.0</td></tr><tr><th>4</th><td>0.473676</td><td>8.19819</td><td>15.0</td></tr><tr><th>5</th><td>1.57592</td><td>11.123</td><td>10.0</td></tr><tr><th>6</th><td>-2.20606</td><td>9.46517</td><td>10.0</td></tr><tr><th>7</th><td>0.915985</td><td>10.6785</td><td>7.0</td></tr><tr><th>8</th><td>-0.839323</td><td>11.6595</td><td>14.0</td></tr><tr><th>9</th><td>-0.755838</td><td>7.61974</td><td>9.0</td></tr><tr><th>10</th><td>0.94072</td><td>9.95267</td><td>5.0</td></tr><tr><th>11</th><td>0.927188</td><td>9.9128</td><td>11.0</td></tr><tr><th>12</th><td>1.45288</td><td>10.7017</td><td>13.0</td></tr><tr><th>13</th><td>1.72983</td><td>12.0084</td><td>7.0</td></tr><tr><th>14</th><td>-0.562142</td><td>11.6471</td><td>8.0</td></tr><tr><th>15</th><td>1.02494</td><td>8.36682</td><td>15.0</td></tr><tr><th>16</th><td>0.595288</td><td>10.1078</td><td>9.0</td></tr><tr><th>17</th><td>2.21663</td><td>9.15149</td><td>9.0</td></tr><tr><th>18</th><td>0.0028013</td><td>9.17339</td><td>13.0</td></tr><tr><th>19</th><td>1.15853</td><td>8.79381</td><td>14.0</td></tr><tr><th>20</th><td>1.01529</td><td>7.48173</td><td>14.0</td></tr><tr><th>21</th><td>1.46862</td><td>10.5841</td><td>5.0</td></tr><tr><th>22</th><td>-0.136873</td><td>11.3129</td><td>11.0</td></tr><tr><th>23</th><td>-0.262206</td><td>8.4347</td><td>10.0</td></tr><tr><th>24</th><td>-0.508165</td><td>10.9114</td><td>6.0</td></tr><tr><th>25</th><td>1.13392</td><td>6.59631</td><td>12.0</td></tr><tr><th>26</th><td>0.631623</td><td>10.9931</td><td>12.0</td></tr><tr><th>27</th><td>-0.503011</td><td>10.519</td><td>15.0</td></tr><tr><th>28</th><td>1.03852</td><td>11.48</td><td>10.0</td></tr><tr><th>29</th><td>-0.236538</td><td>7.7868</td><td>13.0</td></tr><tr><th>30</th><td>1.49334</td><td>9.13408</td><td>6.0</td></tr></tbody></table>"
      ],
      "text/plain": [
       "30×3 DataFrames.DataFrame\n",
       "│ Row │ x1        │ x2      │ x3   │\n",
       "├─────┼───────────┼─────────┼──────┤\n",
       "│ 1   │ 0.534479  │ 10.6169 │ 7.0  │\n",
       "│ 2   │ 0.594111  │ 10.817  │ 13.0 │\n",
       "│ 3   │ -1.25403  │ 9.57131 │ 7.0  │\n",
       "│ 4   │ 0.473676  │ 8.19819 │ 15.0 │\n",
       "│ 5   │ 1.57592   │ 11.123  │ 10.0 │\n",
       "│ 6   │ -2.20606  │ 9.46517 │ 10.0 │\n",
       "│ 7   │ 0.915985  │ 10.6785 │ 7.0  │\n",
       "│ 8   │ -0.839323 │ 11.6595 │ 14.0 │\n",
       "│ 9   │ -0.755838 │ 7.61974 │ 9.0  │\n",
       "│ 10  │ 0.94072   │ 9.95267 │ 5.0  │\n",
       "│ 11  │ 0.927188  │ 9.9128  │ 11.0 │\n",
       "⋮\n",
       "│ 19  │ 1.15853   │ 8.79381 │ 14.0 │\n",
       "│ 20  │ 1.01529   │ 7.48173 │ 14.0 │\n",
       "│ 21  │ 1.46862   │ 10.5841 │ 5.0  │\n",
       "│ 22  │ -0.136873 │ 11.3129 │ 11.0 │\n",
       "│ 23  │ -0.262206 │ 8.4347  │ 10.0 │\n",
       "│ 24  │ -0.508165 │ 10.9114 │ 6.0  │\n",
       "│ 25  │ 1.13392   │ 6.59631 │ 12.0 │\n",
       "│ 26  │ 0.631623  │ 10.9931 │ 12.0 │\n",
       "│ 27  │ -0.503011 │ 10.519  │ 15.0 │\n",
       "│ 28  │ 1.03852   │ 11.48   │ 10.0 │\n",
       "│ 29  │ -0.236538 │ 7.7868  │ 13.0 │\n",
       "│ 30  │ 1.49334   │ 9.13408 │ 6.0  │"
      ]
     },
     "execution_count": 16,
     "metadata": {},
     "output_type": "execute_result"
    }
   ],
   "source": [
    "df = DataFrame(array_2)"
   ]
  },
  {
   "cell_type": "code",
   "execution_count": 17,
   "metadata": {},
   "outputs": [
    {
     "data": {
      "text/html": [
       "<table class=\"data-frame\"><thead><tr><th></th><th>Var1</th><th>Var2</th><th>Var3</th></tr></thead><tbody><tr><th>1</th><td>0.534479</td><td>10.6169</td><td>7.0</td></tr><tr><th>2</th><td>0.594111</td><td>10.817</td><td>13.0</td></tr><tr><th>3</th><td>-1.25403</td><td>9.57131</td><td>7.0</td></tr><tr><th>4</th><td>0.473676</td><td>8.19819</td><td>15.0</td></tr><tr><th>5</th><td>1.57592</td><td>11.123</td><td>10.0</td></tr><tr><th>6</th><td>-2.20606</td><td>9.46517</td><td>10.0</td></tr><tr><th>7</th><td>0.915985</td><td>10.6785</td><td>7.0</td></tr><tr><th>8</th><td>-0.839323</td><td>11.6595</td><td>14.0</td></tr><tr><th>9</th><td>-0.755838</td><td>7.61974</td><td>9.0</td></tr><tr><th>10</th><td>0.94072</td><td>9.95267</td><td>5.0</td></tr><tr><th>11</th><td>0.927188</td><td>9.9128</td><td>11.0</td></tr><tr><th>12</th><td>1.45288</td><td>10.7017</td><td>13.0</td></tr><tr><th>13</th><td>1.72983</td><td>12.0084</td><td>7.0</td></tr><tr><th>14</th><td>-0.562142</td><td>11.6471</td><td>8.0</td></tr><tr><th>15</th><td>1.02494</td><td>8.36682</td><td>15.0</td></tr><tr><th>16</th><td>0.595288</td><td>10.1078</td><td>9.0</td></tr><tr><th>17</th><td>2.21663</td><td>9.15149</td><td>9.0</td></tr><tr><th>18</th><td>0.0028013</td><td>9.17339</td><td>13.0</td></tr><tr><th>19</th><td>1.15853</td><td>8.79381</td><td>14.0</td></tr><tr><th>20</th><td>1.01529</td><td>7.48173</td><td>14.0</td></tr><tr><th>21</th><td>1.46862</td><td>10.5841</td><td>5.0</td></tr><tr><th>22</th><td>-0.136873</td><td>11.3129</td><td>11.0</td></tr><tr><th>23</th><td>-0.262206</td><td>8.4347</td><td>10.0</td></tr><tr><th>24</th><td>-0.508165</td><td>10.9114</td><td>6.0</td></tr><tr><th>25</th><td>1.13392</td><td>6.59631</td><td>12.0</td></tr><tr><th>26</th><td>0.631623</td><td>10.9931</td><td>12.0</td></tr><tr><th>27</th><td>-0.503011</td><td>10.519</td><td>15.0</td></tr><tr><th>28</th><td>1.03852</td><td>11.48</td><td>10.0</td></tr><tr><th>29</th><td>-0.236538</td><td>7.7868</td><td>13.0</td></tr><tr><th>30</th><td>1.49334</td><td>9.13408</td><td>6.0</td></tr></tbody></table>"
      ],
      "text/plain": [
       "30×3 DataFrames.DataFrame\n",
       "│ Row │ Var1      │ Var2    │ Var3 │\n",
       "├─────┼───────────┼─────────┼──────┤\n",
       "│ 1   │ 0.534479  │ 10.6169 │ 7.0  │\n",
       "│ 2   │ 0.594111  │ 10.817  │ 13.0 │\n",
       "│ 3   │ -1.25403  │ 9.57131 │ 7.0  │\n",
       "│ 4   │ 0.473676  │ 8.19819 │ 15.0 │\n",
       "│ 5   │ 1.57592   │ 11.123  │ 10.0 │\n",
       "│ 6   │ -2.20606  │ 9.46517 │ 10.0 │\n",
       "│ 7   │ 0.915985  │ 10.6785 │ 7.0  │\n",
       "│ 8   │ -0.839323 │ 11.6595 │ 14.0 │\n",
       "│ 9   │ -0.755838 │ 7.61974 │ 9.0  │\n",
       "│ 10  │ 0.94072   │ 9.95267 │ 5.0  │\n",
       "│ 11  │ 0.927188  │ 9.9128  │ 11.0 │\n",
       "⋮\n",
       "│ 19  │ 1.15853   │ 8.79381 │ 14.0 │\n",
       "│ 20  │ 1.01529   │ 7.48173 │ 14.0 │\n",
       "│ 21  │ 1.46862   │ 10.5841 │ 5.0  │\n",
       "│ 22  │ -0.136873 │ 11.3129 │ 11.0 │\n",
       "│ 23  │ -0.262206 │ 8.4347  │ 10.0 │\n",
       "│ 24  │ -0.508165 │ 10.9114 │ 6.0  │\n",
       "│ 25  │ 1.13392   │ 6.59631 │ 12.0 │\n",
       "│ 26  │ 0.631623  │ 10.9931 │ 12.0 │\n",
       "│ 27  │ -0.503011 │ 10.519  │ 15.0 │\n",
       "│ 28  │ 1.03852   │ 11.48   │ 10.0 │\n",
       "│ 29  │ -0.236538 │ 7.7868  │ 13.0 │\n",
       "│ 30  │ 1.49334   │ 9.13408 │ 6.0  │"
      ]
     },
     "execution_count": 17,
     "metadata": {},
     "output_type": "execute_result"
    }
   ],
   "source": [
    "rename!(df, Dict(:x1 => :Var1, :x2 => :Var2, :x3 => :Var3))"
   ]
  },
  {
   "cell_type": "code",
   "execution_count": 18,
   "metadata": {},
   "outputs": [
    {
     "ename": "LoadError",
     "evalue": "\u001b[91mMethodError: no method matching typed_hcat(::DataFrames.DataFrame, ::Symbol, ::Int64)\u001b[0m\nClosest candidates are:\n  typed_hcat(\u001b[91m::Type\u001b[39m, ::Any...) at abstractarray.jl:1304\n  typed_hcat(\u001b[91m::Type{T}\u001b[39m, \u001b[91m::Number...\u001b[39m) where T at abstractarray.jl:1074\n  typed_hcat(\u001b[91m::Type{T}\u001b[39m, \u001b[91m::Union{Number, RowVector}...\u001b[39m) where T at linalg/rowvector.jl:164\u001b[39m",
     "output_type": "error",
     "traceback": [
      "\u001b[91mMethodError: no method matching typed_hcat(::DataFrames.DataFrame, ::Symbol, ::Int64)\u001b[0m\nClosest candidates are:\n  typed_hcat(\u001b[91m::Type\u001b[39m, ::Any...) at abstractarray.jl:1304\n  typed_hcat(\u001b[91m::Type{T}\u001b[39m, \u001b[91m::Number...\u001b[39m) where T at abstractarray.jl:1074\n  typed_hcat(\u001b[91m::Type{T}\u001b[39m, \u001b[91m::Union{Number, RowVector}...\u001b[39m) where T at linalg/rowvector.jl:164\u001b[39m",
      "",
      "Stacktrace:",
      " [1] \u001b[1minclude_string\u001b[22m\u001b[22m\u001b[1m(\u001b[22m\u001b[22m::String, ::String\u001b[1m)\u001b[22m\u001b[22m at \u001b[1m./loading.jl:522\u001b[22m\u001b[22m"
     ]
    }
   ],
   "source": [
    "df2 = df[:-20]"
   ]
  },
  {
   "cell_type": "code",
   "execution_count": 19,
   "metadata": {},
   "outputs": [
    {
     "ename": "LoadError",
     "evalue": "\u001b[91msyntax: missing last argument in \"11:\" range expression \u001b[39m",
     "output_type": "error",
     "traceback": [
      "\u001b[91msyntax: missing last argument in \"11:\" range expression \u001b[39m",
      "",
      "Stacktrace:",
      " [1] \u001b[1minclude_string\u001b[22m\u001b[22m\u001b[1m(\u001b[22m\u001b[22m::String, ::String\u001b[1m)\u001b[22m\u001b[22m at \u001b[1m./loading.jl:522\u001b[22m\u001b[22m"
     ]
    }
   ],
   "source": [
    "df2 = sub(df, 11:end)"
   ]
  },
  {
   "cell_type": "code",
   "execution_count": 21,
   "metadata": {},
   "outputs": [
    {
     "data": {
      "text/html": [
       "<table class=\"data-frame\"><thead><tr><th></th><th>Var1</th><th>Var2</th><th>Var3</th></tr></thead><tbody><tr><th>1</th><td>0.927188</td><td>9.9128</td><td>11.0</td></tr><tr><th>2</th><td>1.45288</td><td>10.7017</td><td>13.0</td></tr><tr><th>3</th><td>1.72983</td><td>12.0084</td><td>7.0</td></tr><tr><th>4</th><td>-0.562142</td><td>11.6471</td><td>8.0</td></tr><tr><th>5</th><td>1.02494</td><td>8.36682</td><td>15.0</td></tr><tr><th>6</th><td>0.595288</td><td>10.1078</td><td>9.0</td></tr><tr><th>7</th><td>2.21663</td><td>9.15149</td><td>9.0</td></tr><tr><th>8</th><td>0.0028013</td><td>9.17339</td><td>13.0</td></tr><tr><th>9</th><td>1.15853</td><td>8.79381</td><td>14.0</td></tr><tr><th>10</th><td>1.01529</td><td>7.48173</td><td>14.0</td></tr><tr><th>11</th><td>1.46862</td><td>10.5841</td><td>5.0</td></tr><tr><th>12</th><td>-0.136873</td><td>11.3129</td><td>11.0</td></tr><tr><th>13</th><td>-0.262206</td><td>8.4347</td><td>10.0</td></tr><tr><th>14</th><td>-0.508165</td><td>10.9114</td><td>6.0</td></tr><tr><th>15</th><td>1.13392</td><td>6.59631</td><td>12.0</td></tr><tr><th>16</th><td>0.631623</td><td>10.9931</td><td>12.0</td></tr><tr><th>17</th><td>-0.503011</td><td>10.519</td><td>15.0</td></tr><tr><th>18</th><td>1.03852</td><td>11.48</td><td>10.0</td></tr><tr><th>19</th><td>-0.236538</td><td>7.7868</td><td>13.0</td></tr><tr><th>20</th><td>1.49334</td><td>9.13408</td><td>6.0</td></tr></tbody></table>"
      ],
      "text/plain": [
       "20×3 DataFrames.DataFrame\n",
       "│ Row │ Var1      │ Var2    │ Var3 │\n",
       "├─────┼───────────┼─────────┼──────┤\n",
       "│ 1   │ 0.927188  │ 9.9128  │ 11.0 │\n",
       "│ 2   │ 1.45288   │ 10.7017 │ 13.0 │\n",
       "│ 3   │ 1.72983   │ 12.0084 │ 7.0  │\n",
       "│ 4   │ -0.562142 │ 11.6471 │ 8.0  │\n",
       "│ 5   │ 1.02494   │ 8.36682 │ 15.0 │\n",
       "│ 6   │ 0.595288  │ 10.1078 │ 9.0  │\n",
       "│ 7   │ 2.21663   │ 9.15149 │ 9.0  │\n",
       "│ 8   │ 0.0028013 │ 9.17339 │ 13.0 │\n",
       "│ 9   │ 1.15853   │ 8.79381 │ 14.0 │\n",
       "│ 10  │ 1.01529   │ 7.48173 │ 14.0 │\n",
       "│ 11  │ 1.46862   │ 10.5841 │ 5.0  │\n",
       "│ 12  │ -0.136873 │ 11.3129 │ 11.0 │\n",
       "│ 13  │ -0.262206 │ 8.4347  │ 10.0 │\n",
       "│ 14  │ -0.508165 │ 10.9114 │ 6.0  │\n",
       "│ 15  │ 1.13392   │ 6.59631 │ 12.0 │\n",
       "│ 16  │ 0.631623  │ 10.9931 │ 12.0 │\n",
       "│ 17  │ -0.503011 │ 10.519  │ 15.0 │\n",
       "│ 18  │ 1.03852   │ 11.48   │ 10.0 │\n",
       "│ 19  │ -0.236538 │ 7.7868  │ 13.0 │\n",
       "│ 20  │ 1.49334   │ 9.13408 │ 6.0  │"
      ]
     },
     "execution_count": 21,
     "metadata": {},
     "output_type": "execute_result"
    }
   ],
   "source": [
    "df2 = df[11:30, :]"
   ]
  },
  {
   "cell_type": "code",
   "execution_count": 22,
   "metadata": {},
   "outputs": [
    {
     "data": {
      "text/plain": [
       "20-element Array{String,1}:\n",
       " \"GroupA\"\n",
       " \"GroupB\"\n",
       " \"GroupA\"\n",
       " \"GroupB\"\n",
       " \"GroupA\"\n",
       " \"GroupA\"\n",
       " \"GroupA\"\n",
       " \"GroupA\"\n",
       " \"GroupB\"\n",
       " \"GroupA\"\n",
       " \"GroupA\"\n",
       " \"GroupA\"\n",
       " \"GroupA\"\n",
       " \"GroupA\"\n",
       " \"GroupA\"\n",
       " \"GroupB\"\n",
       " \"GroupA\"\n",
       " \"GroupA\"\n",
       " \"GroupA\"\n",
       " \"GroupA\""
      ]
     },
     "execution_count": 22,
     "metadata": {},
     "output_type": "execute_result"
    }
   ],
   "source": [
    "df2[:Cat1] = rand([\"GroupA\", \"GroupB\"], 20)"
   ]
  },
  {
   "cell_type": "code",
   "execution_count": 23,
   "metadata": {},
   "outputs": [
    {
     "data": {
      "text/html": [
       "<table class=\"data-frame\"><thead><tr><th></th><th>Var1</th><th>Var2</th><th>Var3</th><th>Cat1</th></tr></thead><tbody><tr><th>1</th><td>0.927188</td><td>9.9128</td><td>11.0</td><td>GroupA</td></tr><tr><th>2</th><td>1.45288</td><td>10.7017</td><td>13.0</td><td>GroupB</td></tr><tr><th>3</th><td>1.72983</td><td>12.0084</td><td>7.0</td><td>GroupA</td></tr><tr><th>4</th><td>-0.562142</td><td>11.6471</td><td>8.0</td><td>GroupB</td></tr><tr><th>5</th><td>1.02494</td><td>8.36682</td><td>15.0</td><td>GroupA</td></tr><tr><th>6</th><td>0.595288</td><td>10.1078</td><td>9.0</td><td>GroupA</td></tr><tr><th>7</th><td>2.21663</td><td>9.15149</td><td>9.0</td><td>GroupA</td></tr><tr><th>8</th><td>0.0028013</td><td>9.17339</td><td>13.0</td><td>GroupA</td></tr><tr><th>9</th><td>1.15853</td><td>8.79381</td><td>14.0</td><td>GroupB</td></tr><tr><th>10</th><td>1.01529</td><td>7.48173</td><td>14.0</td><td>GroupA</td></tr><tr><th>11</th><td>1.46862</td><td>10.5841</td><td>5.0</td><td>GroupA</td></tr><tr><th>12</th><td>-0.136873</td><td>11.3129</td><td>11.0</td><td>GroupA</td></tr><tr><th>13</th><td>-0.262206</td><td>8.4347</td><td>10.0</td><td>GroupA</td></tr><tr><th>14</th><td>-0.508165</td><td>10.9114</td><td>6.0</td><td>GroupA</td></tr><tr><th>15</th><td>1.13392</td><td>6.59631</td><td>12.0</td><td>GroupA</td></tr><tr><th>16</th><td>0.631623</td><td>10.9931</td><td>12.0</td><td>GroupB</td></tr><tr><th>17</th><td>-0.503011</td><td>10.519</td><td>15.0</td><td>GroupA</td></tr><tr><th>18</th><td>1.03852</td><td>11.48</td><td>10.0</td><td>GroupA</td></tr><tr><th>19</th><td>-0.236538</td><td>7.7868</td><td>13.0</td><td>GroupA</td></tr><tr><th>20</th><td>1.49334</td><td>9.13408</td><td>6.0</td><td>GroupA</td></tr></tbody></table>"
      ],
      "text/plain": [
       "20×4 DataFrames.DataFrame\n",
       "│ Row │ Var1      │ Var2    │ Var3 │ Cat1   │\n",
       "├─────┼───────────┼─────────┼──────┼────────┤\n",
       "│ 1   │ 0.927188  │ 9.9128  │ 11.0 │ GroupA │\n",
       "│ 2   │ 1.45288   │ 10.7017 │ 13.0 │ GroupB │\n",
       "│ 3   │ 1.72983   │ 12.0084 │ 7.0  │ GroupA │\n",
       "│ 4   │ -0.562142 │ 11.6471 │ 8.0  │ GroupB │\n",
       "│ 5   │ 1.02494   │ 8.36682 │ 15.0 │ GroupA │\n",
       "│ 6   │ 0.595288  │ 10.1078 │ 9.0  │ GroupA │\n",
       "│ 7   │ 2.21663   │ 9.15149 │ 9.0  │ GroupA │\n",
       "│ 8   │ 0.0028013 │ 9.17339 │ 13.0 │ GroupA │\n",
       "│ 9   │ 1.15853   │ 8.79381 │ 14.0 │ GroupB │\n",
       "│ 10  │ 1.01529   │ 7.48173 │ 14.0 │ GroupA │\n",
       "│ 11  │ 1.46862   │ 10.5841 │ 5.0  │ GroupA │\n",
       "│ 12  │ -0.136873 │ 11.3129 │ 11.0 │ GroupA │\n",
       "│ 13  │ -0.262206 │ 8.4347  │ 10.0 │ GroupA │\n",
       "│ 14  │ -0.508165 │ 10.9114 │ 6.0  │ GroupA │\n",
       "│ 15  │ 1.13392   │ 6.59631 │ 12.0 │ GroupA │\n",
       "│ 16  │ 0.631623  │ 10.9931 │ 12.0 │ GroupB │\n",
       "│ 17  │ -0.503011 │ 10.519  │ 15.0 │ GroupA │\n",
       "│ 18  │ 1.03852   │ 11.48   │ 10.0 │ GroupA │\n",
       "│ 19  │ -0.236538 │ 7.7868  │ 13.0 │ GroupA │\n",
       "│ 20  │ 1.49334   │ 9.13408 │ 6.0  │ GroupA │"
      ]
     },
     "execution_count": 23,
     "metadata": {},
     "output_type": "execute_result"
    }
   ],
   "source": [
    "df2"
   ]
  },
  {
   "cell_type": "code",
   "execution_count": 24,
   "metadata": {},
   "outputs": [
    {
     "data": {
      "text/html": [
       "<table class=\"data-frame\"><thead><tr><th></th><th>A</th><th>B</th><th>C</th></tr></thead><tbody><tr><th>1</th><td>1</td><td>21</td><td>41</td></tr><tr><th>2</th><td>2</td><td>22</td><td>42</td></tr><tr><th>3</th><td>3</td><td>23</td><td>43</td></tr><tr><th>4</th><td>4</td><td>24</td><td>44</td></tr><tr><th>5</th><td>5</td><td>25</td><td>45</td></tr><tr><th>6</th><td>6</td><td>26</td><td>46</td></tr><tr><th>7</th><td>7</td><td>27</td><td>47</td></tr><tr><th>8</th><td>8</td><td>28</td><td>48</td></tr><tr><th>9</th><td>9</td><td>29</td><td>49</td></tr><tr><th>10</th><td>10</td><td>30</td><td>50</td></tr><tr><th>11</th><td>11</td><td>31</td><td>51</td></tr><tr><th>12</th><td>12</td><td>32</td><td>52</td></tr><tr><th>13</th><td>13</td><td>33</td><td>53</td></tr><tr><th>14</th><td>14</td><td>34</td><td>54</td></tr><tr><th>15</th><td>15</td><td>35</td><td>55</td></tr><tr><th>16</th><td>16</td><td>36</td><td>56</td></tr><tr><th>17</th><td>17</td><td>37</td><td>57</td></tr><tr><th>18</th><td>18</td><td>38</td><td>58</td></tr><tr><th>19</th><td>19</td><td>39</td><td>59</td></tr><tr><th>20</th><td>20</td><td>40</td><td>60</td></tr></tbody></table>"
      ],
      "text/plain": [
       "20×3 DataFrames.DataFrame\n",
       "│ Row │ A  │ B  │ C  │\n",
       "├─────┼────┼────┼────┤\n",
       "│ 1   │ 1  │ 21 │ 41 │\n",
       "│ 2   │ 2  │ 22 │ 42 │\n",
       "│ 3   │ 3  │ 23 │ 43 │\n",
       "│ 4   │ 4  │ 24 │ 44 │\n",
       "│ 5   │ 5  │ 25 │ 45 │\n",
       "│ 6   │ 6  │ 26 │ 46 │\n",
       "│ 7   │ 7  │ 27 │ 47 │\n",
       "│ 8   │ 8  │ 28 │ 48 │\n",
       "│ 9   │ 9  │ 29 │ 49 │\n",
       "│ 10  │ 10 │ 30 │ 50 │\n",
       "│ 11  │ 11 │ 31 │ 51 │\n",
       "│ 12  │ 12 │ 32 │ 52 │\n",
       "│ 13  │ 13 │ 33 │ 53 │\n",
       "│ 14  │ 14 │ 34 │ 54 │\n",
       "│ 15  │ 15 │ 35 │ 55 │\n",
       "│ 16  │ 16 │ 36 │ 56 │\n",
       "│ 17  │ 17 │ 37 │ 57 │\n",
       "│ 18  │ 18 │ 38 │ 58 │\n",
       "│ 19  │ 19 │ 39 │ 59 │\n",
       "│ 20  │ 20 │ 40 │ 60 │"
      ]
     },
     "execution_count": 24,
     "metadata": {},
     "output_type": "execute_result"
    }
   ],
   "source": [
    "df3 = DataFrame(A = 1:20, B = 21:40, C = 41:60)"
   ]
  },
  {
   "cell_type": "code",
   "execution_count": 29,
   "metadata": {},
   "outputs": [
    {
     "ename": "LoadError",
     "evalue": "\u001b[91mInexactError()\u001b[39m",
     "output_type": "error",
     "traceback": [
      "\u001b[91mInexactError()\u001b[39m",
      "",
      "Stacktrace:",
      " [1] \u001b[1mconvert\u001b[22m\u001b[22m\u001b[1m(\u001b[22m\u001b[22m::Type{Int64}, ::Float64\u001b[1m)\u001b[22m\u001b[22m at \u001b[1m./float.jl:679\u001b[22m\u001b[22m",
      " [2] \u001b[1msetindex!\u001b[22m\u001b[22m\u001b[1m(\u001b[22m\u001b[22m::Array{Int64,1}, ::Float64, ::Int64\u001b[1m)\u001b[22m\u001b[22m at \u001b[1m./array.jl:583\u001b[22m\u001b[22m",
      " [3] \u001b[1minsert_single_entry!\u001b[22m\u001b[22m\u001b[1m(\u001b[22m\u001b[22m::DataFrames.DataFrame, ::Float64, ::Int64, ::Symbol\u001b[1m)\u001b[22m\u001b[22m at \u001b[1m/home/jrun/.julia/v0.6/DataFrames/src/dataframe/dataframe.jl:361\u001b[22m\u001b[22m",
      " [4] \u001b[1msetindex!\u001b[22m\u001b[22m\u001b[1m(\u001b[22m\u001b[22m::DataFrames.DataFrame, ::Float64, ::Int64, ::Symbol\u001b[1m)\u001b[22m\u001b[22m at \u001b[1m/home/jrun/.julia/v0.6/DataFrames/src/dataframe/dataframe.jl:448\u001b[22m\u001b[22m",
      " [5] \u001b[1minclude_string\u001b[22m\u001b[22m\u001b[1m(\u001b[22m\u001b[22m::String, ::String\u001b[1m)\u001b[22m\u001b[22m at \u001b[1m./loading.jl:522\u001b[22m\u001b[22m"
     ]
    }
   ],
   "source": [
    "df3[10, :A]= NaN"
   ]
  },
  {
   "cell_type": "code",
   "execution_count": 30,
   "metadata": {},
   "outputs": [
    {
     "ename": "LoadError",
     "evalue": "\u001b[91mUndefVarError: NA not defined\u001b[39m",
     "output_type": "error",
     "traceback": [
      "\u001b[91mUndefVarError: NA not defined\u001b[39m",
      "",
      "Stacktrace:",
      " [1] \u001b[1minclude_string\u001b[22m\u001b[22m\u001b[1m(\u001b[22m\u001b[22m::String, ::String\u001b[1m)\u001b[22m\u001b[22m at \u001b[1m./loading.jl:522\u001b[22m\u001b[22m"
     ]
    }
   ],
   "source": [
    "df3[10, :A]= NA"
   ]
  },
  {
   "cell_type": "code",
   "execution_count": 31,
   "metadata": {},
   "outputs": [
    {
     "ename": "LoadError",
     "evalue": "\u001b[91mMethodError: Cannot `convert` an object of type Missings.Missing to an object of type Int64\nThis may have arisen from a call to the constructor Int64(...),\nsince type constructors fall back to convert methods.\u001b[39m",
     "output_type": "error",
     "traceback": [
      "\u001b[91mMethodError: Cannot `convert` an object of type Missings.Missing to an object of type Int64\nThis may have arisen from a call to the constructor Int64(...),\nsince type constructors fall back to convert methods.\u001b[39m",
      "",
      "Stacktrace:",
      " [1] \u001b[1msetindex!\u001b[22m\u001b[22m\u001b[1m(\u001b[22m\u001b[22m::Array{Int64,1}, ::Missings.Missing, ::Int64\u001b[1m)\u001b[22m\u001b[22m at \u001b[1m./array.jl:583\u001b[22m\u001b[22m",
      " [2] \u001b[1minsert_single_entry!\u001b[22m\u001b[22m\u001b[1m(\u001b[22m\u001b[22m::DataFrames.DataFrame, ::Missings.Missing, ::Int64, ::Symbol\u001b[1m)\u001b[22m\u001b[22m at \u001b[1m/home/jrun/.julia/v0.6/DataFrames/src/dataframe/dataframe.jl:361\u001b[22m\u001b[22m",
      " [3] \u001b[1msetindex!\u001b[22m\u001b[22m\u001b[1m(\u001b[22m\u001b[22m::DataFrames.DataFrame, ::Missings.Missing, ::Int64, ::Symbol\u001b[1m)\u001b[22m\u001b[22m at \u001b[1m/home/jrun/.julia/v0.6/DataFrames/src/dataframe/dataframe.jl:448\u001b[22m\u001b[22m",
      " [4] \u001b[1minclude_string\u001b[22m\u001b[22m\u001b[1m(\u001b[22m\u001b[22m::String, ::String\u001b[1m)\u001b[22m\u001b[22m at \u001b[1m./loading.jl:522\u001b[22m\u001b[22m"
     ]
    }
   ],
   "source": [
    "df3[10, :A] = missing"
   ]
  },
  {
   "cell_type": "code",
   "execution_count": 33,
   "metadata": {},
   "outputs": [
    {
     "data": {
      "text/html": [
       "<table class=\"data-frame\"><thead><tr><th></th><th>A</th><th>B</th><th>C</th></tr></thead><tbody><tr><th>1</th><td>1</td><td>21</td><td>41</td></tr><tr><th>2</th><td>2</td><td>22</td><td>42</td></tr><tr><th>3</th><td>3</td><td>23</td><td>43</td></tr><tr><th>4</th><td>4</td><td>24</td><td>44</td></tr><tr><th>5</th><td>5</td><td>25</td><td>45</td></tr><tr><th>6</th><td>6</td><td>26</td><td>46</td></tr><tr><th>7</th><td>7</td><td>27</td><td>47</td></tr><tr><th>8</th><td>8</td><td>28</td><td>48</td></tr><tr><th>9</th><td>9</td><td>29</td><td>49</td></tr><tr><th>10</th><td>10</td><td>30</td><td>50</td></tr><tr><th>11</th><td>11</td><td>31</td><td>51</td></tr><tr><th>12</th><td>12</td><td>32</td><td>52</td></tr><tr><th>13</th><td>13</td><td>33</td><td>53</td></tr><tr><th>14</th><td>14</td><td>34</td><td>54</td></tr><tr><th>15</th><td>15</td><td>35</td><td>55</td></tr><tr><th>16</th><td>16</td><td>36</td><td>56</td></tr><tr><th>17</th><td>17</td><td>37</td><td>57</td></tr><tr><th>18</th><td>18</td><td>38</td><td>58</td></tr><tr><th>19</th><td>19</td><td>39</td><td>59</td></tr><tr><th>20</th><td>20</td><td>40</td><td>60</td></tr></tbody></table>"
      ],
      "text/plain": [
       "20×3 DataFrames.DataFrame\n",
       "│ Row │ A  │ B  │ C  │\n",
       "├─────┼────┼────┼────┤\n",
       "│ 1   │ 1  │ 21 │ 41 │\n",
       "│ 2   │ 2  │ 22 │ 42 │\n",
       "│ 3   │ 3  │ 23 │ 43 │\n",
       "│ 4   │ 4  │ 24 │ 44 │\n",
       "│ 5   │ 5  │ 25 │ 45 │\n",
       "│ 6   │ 6  │ 26 │ 46 │\n",
       "│ 7   │ 7  │ 27 │ 47 │\n",
       "│ 8   │ 8  │ 28 │ 48 │\n",
       "│ 9   │ 9  │ 29 │ 49 │\n",
       "│ 10  │ 10 │ 30 │ 50 │\n",
       "│ 11  │ 11 │ 31 │ 51 │\n",
       "│ 12  │ 12 │ 32 │ 52 │\n",
       "│ 13  │ 13 │ 33 │ 53 │\n",
       "│ 14  │ 14 │ 34 │ 54 │\n",
       "│ 15  │ 15 │ 35 │ 55 │\n",
       "│ 16  │ 16 │ 36 │ 56 │\n",
       "│ 17  │ 17 │ 37 │ 57 │\n",
       "│ 18  │ 18 │ 38 │ 58 │\n",
       "│ 19  │ 19 │ 39 │ 59 │\n",
       "│ 20  │ 20 │ 40 │ 60 │"
      ]
     },
     "execution_count": 33,
     "metadata": {},
     "output_type": "execute_result"
    }
   ],
   "source": [
    "allowmissing!(df3, :A)"
   ]
  },
  {
   "cell_type": "code",
   "execution_count": 34,
   "metadata": {},
   "outputs": [
    {
     "data": {
      "text/plain": [
       "missing"
      ]
     },
     "execution_count": 34,
     "metadata": {},
     "output_type": "execute_result"
    }
   ],
   "source": [
    "df3[10, :A] = missing"
   ]
  },
  {
   "cell_type": "code",
   "execution_count": 35,
   "metadata": {},
   "outputs": [
    {
     "data": {
      "text/html": [
       "<table class=\"data-frame\"><thead><tr><th></th><th>A</th><th>B</th><th>C</th></tr></thead><tbody><tr><th>1</th><td>1</td><td>21</td><td>41</td></tr><tr><th>2</th><td>2</td><td>22</td><td>42</td></tr><tr><th>3</th><td>3</td><td>23</td><td>43</td></tr><tr><th>4</th><td>4</td><td>24</td><td>44</td></tr><tr><th>5</th><td>5</td><td>25</td><td>45</td></tr><tr><th>6</th><td>6</td><td>26</td><td>46</td></tr><tr><th>7</th><td>7</td><td>27</td><td>47</td></tr><tr><th>8</th><td>8</td><td>28</td><td>48</td></tr><tr><th>9</th><td>9</td><td>29</td><td>49</td></tr><tr><th>10</th><td>missing</td><td>30</td><td>50</td></tr><tr><th>11</th><td>11</td><td>31</td><td>51</td></tr><tr><th>12</th><td>12</td><td>32</td><td>52</td></tr><tr><th>13</th><td>13</td><td>33</td><td>53</td></tr><tr><th>14</th><td>14</td><td>34</td><td>54</td></tr><tr><th>15</th><td>15</td><td>35</td><td>55</td></tr><tr><th>16</th><td>16</td><td>36</td><td>56</td></tr><tr><th>17</th><td>17</td><td>37</td><td>57</td></tr><tr><th>18</th><td>18</td><td>38</td><td>58</td></tr><tr><th>19</th><td>19</td><td>39</td><td>59</td></tr><tr><th>20</th><td>20</td><td>40</td><td>60</td></tr></tbody></table>"
      ],
      "text/plain": [
       "20×3 DataFrames.DataFrame\n",
       "│ Row │ A       │ B  │ C  │\n",
       "├─────┼─────────┼────┼────┤\n",
       "│ 1   │ 1       │ 21 │ 41 │\n",
       "│ 2   │ 2       │ 22 │ 42 │\n",
       "│ 3   │ 3       │ 23 │ 43 │\n",
       "│ 4   │ 4       │ 24 │ 44 │\n",
       "│ 5   │ 5       │ 25 │ 45 │\n",
       "│ 6   │ 6       │ 26 │ 46 │\n",
       "│ 7   │ 7       │ 27 │ 47 │\n",
       "│ 8   │ 8       │ 28 │ 48 │\n",
       "│ 9   │ 9       │ 29 │ 49 │\n",
       "│ 10  │ \u001b[90mmissing\u001b[39m │ 30 │ 50 │\n",
       "│ 11  │ 11      │ 31 │ 51 │\n",
       "│ 12  │ 12      │ 32 │ 52 │\n",
       "│ 13  │ 13      │ 33 │ 53 │\n",
       "│ 14  │ 14      │ 34 │ 54 │\n",
       "│ 15  │ 15      │ 35 │ 55 │\n",
       "│ 16  │ 16      │ 36 │ 56 │\n",
       "│ 17  │ 17      │ 37 │ 57 │\n",
       "│ 18  │ 18      │ 38 │ 58 │\n",
       "│ 19  │ 19      │ 39 │ 59 │\n",
       "│ 20  │ 20      │ 40 │ 60 │"
      ]
     },
     "execution_count": 35,
     "metadata": {},
     "output_type": "execute_result"
    }
   ],
   "source": [
    "df3"
   ]
  },
  {
   "cell_type": "code",
   "execution_count": 36,
   "metadata": {},
   "outputs": [
    {
     "data": {
      "text/html": [
       "<table class=\"data-frame\"><thead><tr><th></th><th>A</th><th>B</th><th>C</th></tr></thead><tbody><tr><th>1</th><td>1</td><td>21</td><td>41</td></tr><tr><th>2</th><td>2</td><td>22</td><td>42</td></tr><tr><th>3</th><td>3</td><td>23</td><td>43</td></tr><tr><th>4</th><td>4</td><td>24</td><td>44</td></tr><tr><th>5</th><td>5</td><td>25</td><td>45</td></tr><tr><th>6</th><td>6</td><td>26</td><td>46</td></tr><tr><th>7</th><td>7</td><td>27</td><td>47</td></tr><tr><th>8</th><td>8</td><td>28</td><td>48</td></tr><tr><th>9</th><td>9</td><td>29</td><td>49</td></tr><tr><th>10</th><td>missing</td><td>30</td><td>50</td></tr><tr><th>11</th><td>11</td><td>31</td><td>51</td></tr><tr><th>12</th><td>12</td><td>32</td><td>52</td></tr><tr><th>13</th><td>13</td><td>33</td><td>53</td></tr><tr><th>14</th><td>14</td><td>34</td><td>54</td></tr><tr><th>15</th><td>15</td><td>35</td><td>55</td></tr><tr><th>16</th><td>16</td><td>36</td><td>56</td></tr><tr><th>17</th><td>17</td><td>37</td><td>57</td></tr><tr><th>18</th><td>18</td><td>38</td><td>58</td></tr><tr><th>19</th><td>19</td><td>39</td><td>59</td></tr><tr><th>20</th><td>20</td><td>40</td><td>60</td></tr></tbody></table>"
      ],
      "text/plain": [
       "20×3 DataFrames.DataFrame\n",
       "│ Row │ A       │ B  │ C  │\n",
       "├─────┼─────────┼────┼────┤\n",
       "│ 1   │ 1       │ 21 │ 41 │\n",
       "│ 2   │ 2       │ 22 │ 42 │\n",
       "│ 3   │ 3       │ 23 │ 43 │\n",
       "│ 4   │ 4       │ 24 │ 44 │\n",
       "│ 5   │ 5       │ 25 │ 45 │\n",
       "│ 6   │ 6       │ 26 │ 46 │\n",
       "│ 7   │ 7       │ 27 │ 47 │\n",
       "│ 8   │ 8       │ 28 │ 48 │\n",
       "│ 9   │ 9       │ 29 │ 49 │\n",
       "│ 10  │ \u001b[90mmissing\u001b[39m │ 30 │ 50 │\n",
       "│ 11  │ 11      │ 31 │ 51 │\n",
       "│ 12  │ 12      │ 32 │ 52 │\n",
       "│ 13  │ 13      │ 33 │ 53 │\n",
       "│ 14  │ 14      │ 34 │ 54 │\n",
       "│ 15  │ 15      │ 35 │ 55 │\n",
       "│ 16  │ 16      │ 36 │ 56 │\n",
       "│ 17  │ 17      │ 37 │ 57 │\n",
       "│ 18  │ 18      │ 38 │ 58 │\n",
       "│ 19  │ 19      │ 39 │ 59 │\n",
       "│ 20  │ 20      │ 40 │ 60 │"
      ]
     },
     "execution_count": 36,
     "metadata": {},
     "output_type": "execute_result"
    }
   ],
   "source": [
    "allowmissing!(df3)"
   ]
  },
  {
   "cell_type": "code",
   "execution_count": 37,
   "metadata": {},
   "outputs": [],
   "source": [
    "df3[10, :A] = missing;\n",
    "df3[15, :B] = missing;\n",
    "df3[19, :C] = missing;"
   ]
  },
  {
   "cell_type": "code",
   "execution_count": 38,
   "metadata": {},
   "outputs": [
    {
     "data": {
      "text/html": [
       "<table class=\"data-frame\"><thead><tr><th></th><th>A</th><th>B</th><th>C</th></tr></thead><tbody><tr><th>1</th><td>1</td><td>21</td><td>41</td></tr><tr><th>2</th><td>2</td><td>22</td><td>42</td></tr><tr><th>3</th><td>3</td><td>23</td><td>43</td></tr><tr><th>4</th><td>4</td><td>24</td><td>44</td></tr><tr><th>5</th><td>5</td><td>25</td><td>45</td></tr><tr><th>6</th><td>6</td><td>26</td><td>46</td></tr><tr><th>7</th><td>7</td><td>27</td><td>47</td></tr><tr><th>8</th><td>8</td><td>28</td><td>48</td></tr><tr><th>9</th><td>9</td><td>29</td><td>49</td></tr><tr><th>10</th><td>missing</td><td>30</td><td>50</td></tr><tr><th>11</th><td>11</td><td>31</td><td>51</td></tr><tr><th>12</th><td>12</td><td>32</td><td>52</td></tr><tr><th>13</th><td>13</td><td>33</td><td>53</td></tr><tr><th>14</th><td>14</td><td>34</td><td>54</td></tr><tr><th>15</th><td>15</td><td>missing</td><td>55</td></tr><tr><th>16</th><td>16</td><td>36</td><td>56</td></tr><tr><th>17</th><td>17</td><td>37</td><td>57</td></tr><tr><th>18</th><td>18</td><td>38</td><td>58</td></tr><tr><th>19</th><td>19</td><td>39</td><td>missing</td></tr><tr><th>20</th><td>20</td><td>40</td><td>60</td></tr></tbody></table>"
      ],
      "text/plain": [
       "20×3 DataFrames.DataFrame\n",
       "│ Row │ A       │ B       │ C       │\n",
       "├─────┼─────────┼─────────┼─────────┤\n",
       "│ 1   │ 1       │ 21      │ 41      │\n",
       "│ 2   │ 2       │ 22      │ 42      │\n",
       "│ 3   │ 3       │ 23      │ 43      │\n",
       "│ 4   │ 4       │ 24      │ 44      │\n",
       "│ 5   │ 5       │ 25      │ 45      │\n",
       "│ 6   │ 6       │ 26      │ 46      │\n",
       "│ 7   │ 7       │ 27      │ 47      │\n",
       "│ 8   │ 8       │ 28      │ 48      │\n",
       "│ 9   │ 9       │ 29      │ 49      │\n",
       "│ 10  │ \u001b[90mmissing\u001b[39m │ 30      │ 50      │\n",
       "│ 11  │ 11      │ 31      │ 51      │\n",
       "│ 12  │ 12      │ 32      │ 52      │\n",
       "│ 13  │ 13      │ 33      │ 53      │\n",
       "│ 14  │ 14      │ 34      │ 54      │\n",
       "│ 15  │ 15      │ \u001b[90mmissing\u001b[39m │ 55      │\n",
       "│ 16  │ 16      │ 36      │ 56      │\n",
       "│ 17  │ 17      │ 37      │ 57      │\n",
       "│ 18  │ 18      │ 38      │ 58      │\n",
       "│ 19  │ 19      │ 39      │ \u001b[90mmissing\u001b[39m │\n",
       "│ 20  │ 20      │ 40      │ 60      │"
      ]
     },
     "execution_count": 38,
     "metadata": {},
     "output_type": "execute_result"
    }
   ],
   "source": [
    "df3"
   ]
  },
  {
   "cell_type": "markdown",
   "metadata": {},
   "source": [
    "## https://stackoverflow.com/questions/48287702/problems-with-replacing-missing-values-in-a-dataframe-with-julia-0-6-2"
   ]
  },
  {
   "cell_type": "code",
   "execution_count": 39,
   "metadata": {},
   "outputs": [],
   "source": [
    "df4 = df3;"
   ]
  },
  {
   "cell_type": "code",
   "execution_count": 41,
   "metadata": {},
   "outputs": [
    {
     "ename": "LoadError",
     "evalue": "\u001b[91mArgumentError: Cannot assign to non-existent column: false\u001b[39m",
     "output_type": "error",
     "traceback": [
      "\u001b[91mArgumentError: Cannot assign to non-existent column: false\u001b[39m",
      "",
      "Stacktrace:",
      " [1] \u001b[1minsert_single_column!\u001b[22m\u001b[22m\u001b[1m(\u001b[22m\u001b[22m::DataFrames.DataFrame, ::Array{Int64,1}, ::Bool\u001b[1m)\u001b[22m\u001b[22m at \u001b[1m/home/jrun/.julia/v0.6/DataFrames/src/dataframe/dataframe.jl:352\u001b[22m\u001b[22m",
      " [2] \u001b[1msetindex!\u001b[22m\u001b[22m\u001b[1m(\u001b[22m\u001b[22m::DataFrames.DataFrame, ::Int64, ::Bool\u001b[1m)\u001b[22m\u001b[22m at \u001b[1m/home/jrun/.julia/v0.6/DataFrames/src/dataframe/dataframe.jl:399\u001b[22m\u001b[22m",
      " [3] \u001b[1minclude_string\u001b[22m\u001b[22m\u001b[1m(\u001b[22m\u001b[22m::String, ::String\u001b[1m)\u001b[22m\u001b[22m at \u001b[1m./loading.jl:522\u001b[22m\u001b[22m"
     ]
    }
   ],
   "source": [
    "df4[:,:][ismissing.(df4[:,:])] = 1"
   ]
  },
  {
   "cell_type": "code",
   "execution_count": 44,
   "metadata": {},
   "outputs": [],
   "source": [
    "for r in eachrow(df4)\n",
    "    ismissing(r[:A]) && (r[:A] = 0)\n",
    "end"
   ]
  },
  {
   "cell_type": "code",
   "execution_count": 45,
   "metadata": {},
   "outputs": [
    {
     "data": {
      "text/html": [
       "<table class=\"data-frame\"><thead><tr><th></th><th>A</th><th>B</th><th>C</th></tr></thead><tbody><tr><th>1</th><td>1</td><td>21</td><td>41</td></tr><tr><th>2</th><td>2</td><td>22</td><td>42</td></tr><tr><th>3</th><td>3</td><td>23</td><td>43</td></tr><tr><th>4</th><td>4</td><td>24</td><td>44</td></tr><tr><th>5</th><td>5</td><td>25</td><td>45</td></tr><tr><th>6</th><td>6</td><td>26</td><td>46</td></tr><tr><th>7</th><td>7</td><td>27</td><td>47</td></tr><tr><th>8</th><td>8</td><td>28</td><td>48</td></tr><tr><th>9</th><td>9</td><td>29</td><td>49</td></tr><tr><th>10</th><td>1</td><td>30</td><td>50</td></tr><tr><th>11</th><td>11</td><td>31</td><td>51</td></tr><tr><th>12</th><td>12</td><td>32</td><td>52</td></tr><tr><th>13</th><td>13</td><td>33</td><td>53</td></tr><tr><th>14</th><td>14</td><td>34</td><td>54</td></tr><tr><th>15</th><td>15</td><td>missing</td><td>55</td></tr><tr><th>16</th><td>16</td><td>36</td><td>56</td></tr><tr><th>17</th><td>17</td><td>37</td><td>57</td></tr><tr><th>18</th><td>18</td><td>38</td><td>58</td></tr><tr><th>19</th><td>19</td><td>39</td><td>missing</td></tr><tr><th>20</th><td>20</td><td>40</td><td>60</td></tr></tbody></table>"
      ],
      "text/plain": [
       "20×3 DataFrames.DataFrame\n",
       "│ Row │ A  │ B       │ C       │\n",
       "├─────┼────┼─────────┼─────────┤\n",
       "│ 1   │ 1  │ 21      │ 41      │\n",
       "│ 2   │ 2  │ 22      │ 42      │\n",
       "│ 3   │ 3  │ 23      │ 43      │\n",
       "│ 4   │ 4  │ 24      │ 44      │\n",
       "│ 5   │ 5  │ 25      │ 45      │\n",
       "│ 6   │ 6  │ 26      │ 46      │\n",
       "│ 7   │ 7  │ 27      │ 47      │\n",
       "│ 8   │ 8  │ 28      │ 48      │\n",
       "│ 9   │ 9  │ 29      │ 49      │\n",
       "│ 10  │ 1  │ 30      │ 50      │\n",
       "│ 11  │ 11 │ 31      │ 51      │\n",
       "│ 12  │ 12 │ 32      │ 52      │\n",
       "│ 13  │ 13 │ 33      │ 53      │\n",
       "│ 14  │ 14 │ 34      │ 54      │\n",
       "│ 15  │ 15 │ \u001b[90mmissing\u001b[39m │ 55      │\n",
       "│ 16  │ 16 │ 36      │ 56      │\n",
       "│ 17  │ 17 │ 37      │ 57      │\n",
       "│ 18  │ 18 │ 38      │ 58      │\n",
       "│ 19  │ 19 │ 39      │ \u001b[90mmissing\u001b[39m │\n",
       "│ 20  │ 20 │ 40      │ 60      │"
      ]
     },
     "execution_count": 45,
     "metadata": {},
     "output_type": "execute_result"
    }
   ],
   "source": [
    "df4"
   ]
  },
  {
   "cell_type": "code",
   "execution_count": 46,
   "metadata": {},
   "outputs": [
    {
     "data": {
      "text/html": [
       "<table class=\"data-frame\"><thead><tr><th></th><th>A</th><th>B</th><th>C</th></tr></thead><tbody><tr><th>1</th><td>1</td><td>21</td><td>41</td></tr><tr><th>2</th><td>2</td><td>22</td><td>42</td></tr><tr><th>3</th><td>3</td><td>23</td><td>43</td></tr><tr><th>4</th><td>4</td><td>24</td><td>44</td></tr><tr><th>5</th><td>5</td><td>25</td><td>45</td></tr><tr><th>6</th><td>6</td><td>26</td><td>46</td></tr><tr><th>7</th><td>7</td><td>27</td><td>47</td></tr><tr><th>8</th><td>8</td><td>28</td><td>48</td></tr><tr><th>9</th><td>9</td><td>29</td><td>49</td></tr><tr><th>10</th><td>1</td><td>30</td><td>50</td></tr><tr><th>11</th><td>11</td><td>31</td><td>51</td></tr><tr><th>12</th><td>12</td><td>32</td><td>52</td></tr><tr><th>13</th><td>13</td><td>33</td><td>53</td></tr><tr><th>14</th><td>14</td><td>34</td><td>54</td></tr><tr><th>15</th><td>15</td><td>0</td><td>55</td></tr><tr><th>16</th><td>16</td><td>36</td><td>56</td></tr><tr><th>17</th><td>17</td><td>37</td><td>57</td></tr><tr><th>18</th><td>18</td><td>38</td><td>58</td></tr><tr><th>19</th><td>19</td><td>39</td><td>missing</td></tr><tr><th>20</th><td>20</td><td>40</td><td>60</td></tr></tbody></table>"
      ],
      "text/plain": [
       "20×3 DataFrames.DataFrame\n",
       "│ Row │ A  │ B  │ C       │\n",
       "├─────┼────┼────┼─────────┤\n",
       "│ 1   │ 1  │ 21 │ 41      │\n",
       "│ 2   │ 2  │ 22 │ 42      │\n",
       "│ 3   │ 3  │ 23 │ 43      │\n",
       "│ 4   │ 4  │ 24 │ 44      │\n",
       "│ 5   │ 5  │ 25 │ 45      │\n",
       "│ 6   │ 6  │ 26 │ 46      │\n",
       "│ 7   │ 7  │ 27 │ 47      │\n",
       "│ 8   │ 8  │ 28 │ 48      │\n",
       "│ 9   │ 9  │ 29 │ 49      │\n",
       "│ 10  │ 1  │ 30 │ 50      │\n",
       "│ 11  │ 11 │ 31 │ 51      │\n",
       "│ 12  │ 12 │ 32 │ 52      │\n",
       "│ 13  │ 13 │ 33 │ 53      │\n",
       "│ 14  │ 14 │ 34 │ 54      │\n",
       "│ 15  │ 15 │ 0  │ 55      │\n",
       "│ 16  │ 16 │ 36 │ 56      │\n",
       "│ 17  │ 17 │ 37 │ 57      │\n",
       "│ 18  │ 18 │ 38 │ 58      │\n",
       "│ 19  │ 19 │ 39 │ \u001b[90mmissing\u001b[39m │\n",
       "│ 20  │ 20 │ 40 │ 60      │"
      ]
     },
     "execution_count": 46,
     "metadata": {},
     "output_type": "execute_result"
    }
   ],
   "source": [
    "for r in eachrow(df4)\n",
    "    ismissing(r[:B]) && (r[:B] = 0)\n",
    "end\n",
    "df4"
   ]
  },
  {
   "cell_type": "markdown",
   "metadata": {},
   "source": [
    "## https://stackoverflow.com/questions/48554416/how-to-replace-dummy-values-with-missing-in-julia-dataframes"
   ]
  },
  {
   "cell_type": "markdown",
   "metadata": {},
   "source": [
    "## https://stackoverflow.com/questions/48287702/problems-with-replacing-missing-values-in-a-dataframe-with-julia-0-6-2"
   ]
  },
  {
   "cell_type": "markdown",
   "metadata": {},
   "source": [
    "## https://stackoverflow.com/questions/34611109/julia-dataframe-replacing-na-values"
   ]
  },
  {
   "cell_type": "code",
   "execution_count": null,
   "metadata": {},
   "outputs": [],
   "source": []
  }
 ],
 "metadata": {
  "kernelspec": {
   "display_name": "Julia 0.6.2",
   "language": "julia",
   "name": "julia-0.6"
  },
  "language_info": {
   "file_extension": ".jl",
   "mimetype": "application/julia",
   "name": "julia",
   "version": "0.6.2"
  }
 },
 "nbformat": 4,
 "nbformat_minor": 2
}
