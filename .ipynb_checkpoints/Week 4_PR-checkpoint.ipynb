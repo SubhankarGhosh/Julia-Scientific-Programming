{
 "cells": [
  {
   "cell_type": "markdown",
   "metadata": {},
   "source": [
    "# Week 4 – Working with data"
   ]
  },
  {
   "cell_type": "markdown",
   "metadata": {},
   "source": [
    "Week 4 Peer Review - Working with Distributions and DataFrames. To help you with this task, comments are added to each cell."
   ]
  },
  {
   "cell_type": "code",
   "execution_count": 1,
   "metadata": {},
   "outputs": [],
   "source": [
    "# Import the required packages\n",
    "using Distributions, DataFrames"
   ]
  },
  {
   "cell_type": "code",
   "execution_count": 2,
   "metadata": {},
   "outputs": [],
   "source": [
    "# Seed the random number generator\n",
    "srand(1234);"
   ]
  },
  {
   "cell_type": "code",
   "execution_count": 3,
   "metadata": {},
   "outputs": [
    {
     "data": {
      "text/plain": [
       "30×3 Array{Float64,2}:\n",
       "  0.867347    7.44066   6.0\n",
       " -0.901744   11.9946    5.0\n",
       " -0.494479   10.6048   13.0\n",
       " -0.902914    9.92711   8.0\n",
       "  0.864401   10.2839    5.0\n",
       "  2.21188    11.0425   12.0\n",
       "  0.532813   11.7935    6.0\n",
       " -0.271735    8.97294   7.0\n",
       "  0.502334    8.4704    8.0\n",
       " -0.516984    6.91715   9.0\n",
       " -0.560501    9.83968  13.0\n",
       " -0.0192918   7.81756  15.0\n",
       "  0.128064    8.83897  12.0\n",
       "  ⋮                        \n",
       "  0.0721164   7.98043  13.0\n",
       " -1.50343     8.91239  11.0\n",
       "  1.56417     7.54655   6.0\n",
       " -1.39674     8.91657   9.0\n",
       "  1.1055      8.62701   7.0\n",
       " -1.10673     8.57414   9.0\n",
       " -3.21136     9.34588   5.0\n",
       " -0.0740145  11.0297   15.0\n",
       "  0.150976   14.8349   11.0\n",
       "  0.769278    9.38405   6.0\n",
       " -0.310153   12.4906    6.0\n",
       " -0.602707    9.9001   12.0"
      ]
     },
     "execution_count": 3,
     "metadata": {},
     "output_type": "execute_result"
    }
   ],
   "source": [
    "# Question 4: Create the 3 x 30 array named array_1\n",
    "#array_1 = DataFrame(A = rand(Normal(0, 1), 30), B = rand(Normal(10, 2), 30), C = rand(5:15, 30));\n",
    "array_1 = [rand(Normal(0, 1), 30) rand(Normal(10, 2), 30) rand(5:15, 30)]"
   ]
  },
  {
   "cell_type": "code",
   "execution_count": 4,
   "metadata": {},
   "outputs": [
    {
     "name": "stdout",
     "output_type": "stream",
     "text": [
      "Column 1 mean: -0.0616749637525261 variance: 1.1790054448274625\n"
     ]
    }
   ],
   "source": [
    "# Question 5: Mean and variance of column 1\n",
    "println(\"Column 1 mean: \", mean(array_1[:,1]), \" variance: \", var(array_1[:,1]));"
   ]
  },
  {
   "cell_type": "code",
   "execution_count": 5,
   "metadata": {},
   "outputs": [
    {
     "name": "stdout",
     "output_type": "stream",
     "text": [
      "Column 2 mean: 9.58061305561334 variance: 2.9487900775367386\n"
     ]
    }
   ],
   "source": [
    "# Question 5 (continued): Mean and variance of column 2\n",
    "println(\"Column 2 mean: \", mean(array_1[:,2]), \" variance: \", var(array_1[:,2]));"
   ]
  },
  {
   "cell_type": "code",
   "execution_count": 6,
   "metadata": {},
   "outputs": [
    {
     "name": "stdout",
     "output_type": "stream",
     "text": [
      "Column 3 mean: 9.366666666666667 variance: 10.24022988505747\n"
     ]
    }
   ],
   "source": [
    "# Question 5 (continued): Mean and variance of column 3\n",
    "println(\"Column 3 mean: \", mean(array_1[:,3]), \" variance: \", var(array_1[:,3]));"
   ]
  },
  {
   "cell_type": "code",
   "execution_count": 7,
   "metadata": {},
   "outputs": [
    {
     "data": {
      "text/html": [
       "<table class=\"data-frame\"><thead><tr><th></th><th>x1</th><th>x2</th><th>x3</th></tr></thead><tbody><tr><th>1</th><td>0.867347</td><td>7.44066</td><td>6.0</td></tr><tr><th>2</th><td>-0.901744</td><td>11.9946</td><td>5.0</td></tr><tr><th>3</th><td>-0.494479</td><td>10.6048</td><td>13.0</td></tr><tr><th>4</th><td>-0.902914</td><td>9.92711</td><td>8.0</td></tr><tr><th>5</th><td>0.864401</td><td>10.2839</td><td>5.0</td></tr><tr><th>6</th><td>2.21188</td><td>11.0425</td><td>12.0</td></tr><tr><th>7</th><td>0.532813</td><td>11.7935</td><td>6.0</td></tr><tr><th>8</th><td>-0.271735</td><td>8.97294</td><td>7.0</td></tr><tr><th>9</th><td>0.502334</td><td>8.4704</td><td>8.0</td></tr><tr><th>10</th><td>-0.516984</td><td>6.91715</td><td>9.0</td></tr><tr><th>11</th><td>-0.560501</td><td>9.83968</td><td>13.0</td></tr><tr><th>12</th><td>-0.0192918</td><td>7.81756</td><td>15.0</td></tr><tr><th>13</th><td>0.128064</td><td>8.83897</td><td>12.0</td></tr><tr><th>14</th><td>1.85278</td><td>9.36913</td><td>11.0</td></tr><tr><th>15</th><td>-0.827763</td><td>7.2771</td><td>14.0</td></tr><tr><th>16</th><td>0.110096</td><td>9.77109</td><td>7.0</td></tr><tr><th>17</th><td>-0.251176</td><td>10.3317</td><td>8.0</td></tr><tr><th>18</th><td>0.369714</td><td>9.18312</td><td>12.0</td></tr><tr><th>19</th><td>0.0721164</td><td>7.98043</td><td>13.0</td></tr><tr><th>20</th><td>-1.50343</td><td>8.91239</td><td>11.0</td></tr><tr><th>21</th><td>1.56417</td><td>7.54655</td><td>6.0</td></tr><tr><th>22</th><td>-1.39674</td><td>8.91657</td><td>9.0</td></tr><tr><th>23</th><td>1.1055</td><td>8.62701</td><td>7.0</td></tr><tr><th>24</th><td>-1.10673</td><td>8.57414</td><td>9.0</td></tr><tr><th>25</th><td>-3.21136</td><td>9.34588</td><td>5.0</td></tr><tr><th>26</th><td>-0.0740145</td><td>11.0297</td><td>15.0</td></tr><tr><th>27</th><td>0.150976</td><td>14.8349</td><td>11.0</td></tr><tr><th>28</th><td>0.769278</td><td>9.38405</td><td>6.0</td></tr><tr><th>29</th><td>-0.310153</td><td>12.4906</td><td>6.0</td></tr><tr><th>30</th><td>-0.602707</td><td>9.9001</td><td>12.0</td></tr></tbody></table>"
      ],
      "text/plain": [
       "30×3 DataFrames.DataFrame\n",
       "│ Row │ x1         │ x2      │ x3   │\n",
       "├─────┼────────────┼─────────┼──────┤\n",
       "│ 1   │ 0.867347   │ 7.44066 │ 6.0  │\n",
       "│ 2   │ -0.901744  │ 11.9946 │ 5.0  │\n",
       "│ 3   │ -0.494479  │ 10.6048 │ 13.0 │\n",
       "│ 4   │ -0.902914  │ 9.92711 │ 8.0  │\n",
       "│ 5   │ 0.864401   │ 10.2839 │ 5.0  │\n",
       "│ 6   │ 2.21188    │ 11.0425 │ 12.0 │\n",
       "│ 7   │ 0.532813   │ 11.7935 │ 6.0  │\n",
       "│ 8   │ -0.271735  │ 8.97294 │ 7.0  │\n",
       "│ 9   │ 0.502334   │ 8.4704  │ 8.0  │\n",
       "│ 10  │ -0.516984  │ 6.91715 │ 9.0  │\n",
       "│ 11  │ -0.560501  │ 9.83968 │ 13.0 │\n",
       "⋮\n",
       "│ 19  │ 0.0721164  │ 7.98043 │ 13.0 │\n",
       "│ 20  │ -1.50343   │ 8.91239 │ 11.0 │\n",
       "│ 21  │ 1.56417    │ 7.54655 │ 6.0  │\n",
       "│ 22  │ -1.39674   │ 8.91657 │ 9.0  │\n",
       "│ 23  │ 1.1055     │ 8.62701 │ 7.0  │\n",
       "│ 24  │ -1.10673   │ 8.57414 │ 9.0  │\n",
       "│ 25  │ -3.21136   │ 9.34588 │ 5.0  │\n",
       "│ 26  │ -0.0740145 │ 11.0297 │ 15.0 │\n",
       "│ 27  │ 0.150976   │ 14.8349 │ 11.0 │\n",
       "│ 28  │ 0.769278   │ 9.38405 │ 6.0  │\n",
       "│ 29  │ -0.310153  │ 12.4906 │ 6.0  │\n",
       "│ 30  │ -0.602707  │ 9.9001  │ 12.0 │"
      ]
     },
     "execution_count": 7,
     "metadata": {},
     "output_type": "execute_result"
    }
   ],
   "source": [
    "# Question 6: Import array_1 into a DataFrame named df\n",
    "df = DataFrame(array_1)"
   ]
  },
  {
   "cell_type": "code",
   "execution_count": 9,
   "metadata": {},
   "outputs": [
    {
     "ename": "LoadError",
     "evalue": "\u001b[91mTried renaming x2 to Var2, when Var2 already exists in the Index.\u001b[39m",
     "output_type": "error",
     "traceback": [
      "\u001b[91mTried renaming x2 to Var2, when Var2 already exists in the Index.\u001b[39m",
      "",
      "Stacktrace:",
      " [1] \u001b[1mrename!\u001b[22m\u001b[22m\u001b[1m(\u001b[22m\u001b[22m::DataFrames.Index, ::Dict{Symbol,Symbol}\u001b[1m)\u001b[22m\u001b[22m at \u001b[1m/home/jrun/.julia/v0.6/DataFrames/src/other/index.jl:50\u001b[22m\u001b[22m",
      " [2] \u001b[1mrename!\u001b[22m\u001b[22m\u001b[1m(\u001b[22m\u001b[22m::DataFrames.DataFrame, ::Dict{Symbol,Symbol}\u001b[1m)\u001b[22m\u001b[22m at \u001b[1m/home/jrun/.julia/v0.6/DataFrames/src/abstractdataframe/abstractdataframe.jl:142\u001b[22m\u001b[22m",
      " [3] \u001b[1minclude_string\u001b[22m\u001b[22m\u001b[1m(\u001b[22m\u001b[22m::String, ::String\u001b[1m)\u001b[22m\u001b[22m at \u001b[1m./loading.jl:522\u001b[22m\u001b[22m"
     ]
    }
   ],
   "source": [
    "# Question 7: Change the names of the columns to Var1, Var2, and Var3\n",
    "rename!(df, Dict(:x1 => :Var1, :x2 => :Var2, :x3 => :Var3))"
   ]
  },
  {
   "cell_type": "code",
   "execution_count": null,
   "metadata": {},
   "outputs": [],
   "source": [
    "# Question 8: Create and new DataFrame named df2 from the last 20 rows of df\n"
   ]
  },
  {
   "cell_type": "code",
   "execution_count": null,
   "metadata": {},
   "outputs": [],
   "source": [
    "# Question 9: Calculate simple descriptive statistics of all the columns in df2 using the describe() function\n"
   ]
  },
  {
   "cell_type": "code",
   "execution_count": null,
   "metadata": {},
   "outputs": [],
   "source": [
    "# Question 10: Add a column to df2 named Cat1 to df2 consisting of randomly selecting either the strings GroupA or GroupB\n"
   ]
  },
  {
   "cell_type": "code",
   "execution_count": null,
   "metadata": {},
   "outputs": [],
   "source": [
    "# Question 11: Create a new DataFrame named df3\n"
   ]
  },
  {
   "cell_type": "code",
   "execution_count": null,
   "metadata": {},
   "outputs": [],
   "source": [
    "# Question 12: Change indicated values to empty entries\n"
   ]
  },
  {
   "cell_type": "code",
   "execution_count": null,
   "metadata": {},
   "outputs": [],
   "source": [
    "# Question 13: Create DataFrame df4 that contains no rows with NaN (NA) values\n"
   ]
  },
  {
   "cell_type": "code",
   "execution_count": null,
   "metadata": {},
   "outputs": [],
   "source": []
  }
 ],
 "metadata": {
  "kernelspec": {
   "display_name": "Julia 0.6.2",
   "language": "julia",
   "name": "julia-0.6"
  },
  "language_info": {
   "file_extension": ".jl",
   "mimetype": "application/julia",
   "name": "julia",
   "version": "0.6.2"
  }
 },
 "nbformat": 4,
 "nbformat_minor": 1
}
